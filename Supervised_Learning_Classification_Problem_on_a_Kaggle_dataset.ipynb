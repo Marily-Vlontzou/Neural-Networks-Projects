{
  "nbformat": 4,
  "nbformat_minor": 0,
  "metadata": {
    "kernelspec": {
      "language": "python",
      "display_name": "Python 3",
      "name": "python3"
    },
    "language_info": {
      "name": "python",
      "version": "3.7.10",
      "mimetype": "text/x-python",
      "codemirror_mode": {
        "name": "ipython",
        "version": 3
      },
      "pygments_lexer": "ipython3",
      "nbconvert_exporter": "python",
      "file_extension": ".py"
    },
    "colab": {
      "provenance": []
    }
  },
  "cells": [
    {
      "cell_type": "markdown",
      "metadata": {
        "id": "VPSfoLQk18eA"
      },
      "source": [
        "# Μέρος 2. Kaggle dataset - K01: Rain in Australia"
      ]
    },
    {
      "cell_type": "markdown",
      "metadata": {
        "id": "RNh9wcDkKQrK"
      },
      "source": [
        "## Εισαγωγή και επισκόπηση"
      ]
    },
    {
      "cell_type": "code",
      "metadata": {
        "execution": {
          "iopub.status.busy": "2021-11-29T13:01:56.872932Z",
          "iopub.execute_input": "2021-11-29T13:01:56.873404Z",
          "iopub.status.idle": "2021-11-29T13:01:56.902453Z",
          "shell.execute_reply.started": "2021-11-29T13:01:56.873304Z",
          "shell.execute_reply": "2021-11-29T13:01:56.901648Z"
        },
        "trusted": true,
        "id": "DV0ja9O8KQrO"
      },
      "source": [
        "import numpy as np # linear algebra\n",
        "import pandas as pd # data processing, CSV file I/O (e.g. pd.read_csv)\n",
        "\n",
        "import os\n",
        "for dirname, _, filenames in os.walk('/kaggle/input/weather-dataset-rattle-package/weatherAUS.csv'):\n",
        "    for filename in filenames:\n",
        "        print(os.path.join(dirname, filename))"
      ],
      "execution_count": null,
      "outputs": []
    },
    {
      "cell_type": "code",
      "metadata": {
        "execution": {
          "iopub.status.busy": "2021-11-29T13:01:56.903895Z",
          "iopub.execute_input": "2021-11-29T13:01:56.904538Z",
          "iopub.status.idle": "2021-11-29T13:01:57.493722Z",
          "shell.execute_reply.started": "2021-11-29T13:01:56.904504Z",
          "shell.execute_reply": "2021-11-29T13:01:57.492853Z"
        },
        "trusted": true,
        "id": "R4dc3bqzKQrP",
        "outputId": "960a0735-a6e8-4e80-f379-516b59e126d4"
      },
      "source": [
        "data=pd.read_csv('/kaggle/input/weather-dataset-rattle-package/weatherAUS.csv')\n",
        "#pd.set_option('display.max_rows', None)\n",
        "pd.set_option('display.max_columns', None) \n",
        "print(data.head())"
      ],
      "execution_count": null,
      "outputs": [
        {
          "name": "stdout",
          "text": "         Date Location  MinTemp  MaxTemp  Rainfall  Evaporation  Sunshine  \\\n0  2008-12-01   Albury     13.4     22.9       0.6          NaN       NaN   \n1  2008-12-02   Albury      7.4     25.1       0.0          NaN       NaN   \n2  2008-12-03   Albury     12.9     25.7       0.0          NaN       NaN   \n3  2008-12-04   Albury      9.2     28.0       0.0          NaN       NaN   \n4  2008-12-05   Albury     17.5     32.3       1.0          NaN       NaN   \n\n  WindGustDir  WindGustSpeed WindDir9am WindDir3pm  WindSpeed9am  \\\n0           W           44.0          W        WNW          20.0   \n1         WNW           44.0        NNW        WSW           4.0   \n2         WSW           46.0          W        WSW          19.0   \n3          NE           24.0         SE          E          11.0   \n4           W           41.0        ENE         NW           7.0   \n\n   WindSpeed3pm  Humidity9am  Humidity3pm  Pressure9am  Pressure3pm  Cloud9am  \\\n0          24.0         71.0         22.0       1007.7       1007.1       8.0   \n1          22.0         44.0         25.0       1010.6       1007.8       NaN   \n2          26.0         38.0         30.0       1007.6       1008.7       NaN   \n3           9.0         45.0         16.0       1017.6       1012.8       NaN   \n4          20.0         82.0         33.0       1010.8       1006.0       7.0   \n\n   Cloud3pm  Temp9am  Temp3pm RainToday RainTomorrow  \n0       NaN     16.9     21.8        No           No  \n1       NaN     17.2     24.3        No           No  \n2       2.0     21.0     23.2        No           No  \n3       NaN     18.1     26.5        No           No  \n4       8.0     17.8     29.7        No           No  \n",
          "output_type": "stream"
        }
      ]
    },
    {
      "cell_type": "markdown",
      "metadata": {
        "id": "vIAy-LbmKQrR"
      },
      "source": [
        "### **Σύντομη παρουσίαση του dataset δηλαδή ποιο είναι το πρόβλημα που περιγράφει.**\n",
        "\n",
        "Το συγκεκριμένο dataset αποτελείται από ένα σύνολο μετεωρολογικών δεδομένων από 10 χρόνια καθημερινών καιρικών παρατηρήσεων από πολλές τοποθεσίες σε όλη την Αυστραλία. Κάθε στήλη του πίνακα αφορά μία συγκεκριμένη μετεωρολογική μέτρηση (και όχι μόνο) και κάθε γραμμή αντιστοιχεί σε μία από τις καθημερινές 145460 καταγραφές μετεωρολογικών δεδομένων. \n",
        "\n",
        "Στόχος των δεδομένων είναι η πρόβλεψη για την πιθανότητα ή όχι βροχής την αυριανή ημέρα, η οποία δίνεται με τη μορφή της στήλης \"RainTomorrow\", η οποία περιέχει την τιμή No για αρνητική πρόβλεψη βροχής (λιγότερο από 1mm νερού για την συγκεκριμένη ημέρα) και την τιμή Yes θετική πρόβλεψη βροχής την αυριανή ημέρα.\n",
        "\n",
        "Τα δεδομένα είναι σε μορφή ASCII CSV. Οι γράμμες του αρχείου CSV περιλαμβάνουν ένα στιγμιότυπο που αντιστοιχεί στα δεδομένα μίας ημέρας. "
      ]
    },
    {
      "cell_type": "markdown",
      "metadata": {
        "id": "Woa61j-LKQrS"
      },
      "source": [
        "### **Χρειάστηκε να κάνετε μετατροπές στα αρχεία plain text για την εισαγωγή του; αν ναι, ποιες είναι αυτές;**\n",
        "\n",
        "Δεν χρειάστηκε κάποια μετατροπή για την εισαγωγή του dataset."
      ]
    },
    {
      "cell_type": "markdown",
      "metadata": {
        "id": "ukwALV0MKQrT"
      },
      "source": [
        "### **Δώστε το πλήθος δειγμάτων και χαρακτηριστικών, και το είδος όλων των χαρακτηριστικών. Υπάρχουν μη διατεταγμένα χαρακτηριστικά και ποια είναι αυτά;**\n",
        "Το dataset αποτελείται από 145460 δείγματα μετεωρολογικών δεδομένων και το πλήθος των χαρακτηριστικών που περιλαμβάνει είναι 23. \n",
        "\n",
        "Τα χαρακτηριστικά είναι τα εξής: \n",
        "Date - Η ημέρα της παρατήρησης\n",
        "\n",
        "Location - Η ονομασία της τοποθεσίας του μετεωρολογικού σταθμού\n",
        "\n",
        "MinTemp - Η ελάχιστη θερμοκρασία σε βαθμούς Κελσίου\n",
        "\n",
        "MaxTemp - Η μέγιστη θερμοκρασία σε βαθμούς Κελσίου\n",
        "\n",
        "Rainfall - Το ποσό της βροχόπτωσης που καταγράφηκε για την ημέρα σε mm\n",
        "\n",
        "Evaporation - Η λεγόμενη εξάτμιση Κατηγορίας Α (mm) το 24ωρο έως τις 9 π.μ\n",
        "\n",
        "Sunshine - Ο αριθμός των ωρών με έντονη ηλιοφάνεια μέσα στην ημέρα\n",
        "\n",
        "WindGustDir - Η κατεύθυνση της ισχυρότερης ριπής ανέμου το 24ωρο έως τα μεσάνυχτα\n",
        "\n",
        "WindGustSpeed - Η ταχύτητα (km/h) της ισχυρότερης ριπής ανέμου τις 24 ώρες έως τα μεσάνυχτα\n",
        "\n",
        "WindDir9am - Διεύθυνση του ανέμου στις 9 π.μ\n",
        "\n",
        "WindDir3pm - Διεύθυνση ανέμου στις 3 μ.μ\n",
        "\n",
        "WindSpeed9am - Η μέση ταχύτητα του ανέμου (km/hr) 10 λεπτά πριν από τις 9 π.μ\n",
        "\n",
        "WindSpeed3pm - Η μέση ταχύτητα του ανέμου (km/hr) 10 λεπτά πριν από τις 3 μ.μ\n",
        "\n",
        "Humidity9am - Υγρασία (ποσοστό) στις 9 π.μ\n",
        "\n",
        "Humidity3pm - Υγρασία (ποσοστό) στις 3 μ.μ\n",
        "\n",
        "Pressure9am - Η ατμοσφαιρική πίεση (hpa) μειωμένη στη μέση στάθμη της θάλασσας στις 9 π.μ\n",
        "\n",
        "Pressure3pm - Η ατμοσφαιρική πίεση (hpa) μειωμένη στη μέση στάθμη της θάλασσας στις 3 μ.μ\n",
        "\n",
        "Cloud9am - Κλάσμα του ουρανού που κρύβεται από σύννεφο στις 9 π.μ. Αυτό μετριέται σε «όγδοα». Καταγράφει πόσα όγδοα του ουρανού καλύπτονται από σύννεφα. Το μέτρο 0 δείχνει εντελώς καθαρό ουρανό ενώ το 8 δείχνει ότι είναι εντελώς συννεφιασμένος\n",
        "\n",
        "Cloud3pm - Κλάσμα του ουρανού που καλύπτεται από σύννεφο σε όγδοα στις 3 μ.μ.\n",
        "\n",
        "Temp9am - Θερμοκρασία (βαθμοί C) στις 9 π.μ\n",
        "\n",
        "Temp3pm - Θερμοκρασία (βαθμοί C) στις 3 μ.μ\n",
        "\n",
        "RainToday - Boolean: 1 εάν η βροχόπτωση (mm) τις 24 ώρες έως τις 9 π.μ. υπερβαίνει το 1 mm, διαφορετικά 0\n",
        "\n",
        "RainTomorrow - Η ποσότητα της βροχής της επόμενης ημέρας σε mm. Χρησιμοποιείται για τη δημιουργία μεταβλητής απόκρισης RainTomorrow. Ένα είδος μέτρου του «ρίσκου».\n",
        "\n",
        "\n",
        "Υπάρχουν στο dataset μη διατεταγμένα χαρακτηριστικά. Αυτά είναι τα Location, WindGustDir, WindDir9am, WindDir3pm, RainToday, RainTomorrow."
      ]
    },
    {
      "cell_type": "markdown",
      "metadata": {
        "id": "1F7y4Yv8KQrU"
      },
      "source": [
        "### **Υπάρχουν επικεφαλίδες; Αρίθμηση γραμμών;**\n",
        "Σε κάθε στήλη υπάρχει επικεφαλίδα που αντιστοιχεί στο όνομα του χαρακτηριστικού που αφορά η στήλη και οι γραμμές είναι αριθμημένες από το 0 έως το 145459 (145460 δείγματα μετεωρολογικών δεδομένων από παρατηρήσεις)."
      ]
    },
    {
      "cell_type": "markdown",
      "metadata": {
        "id": "vgF2j-2LKQrV"
      },
      "source": [
        "### **Ποιες είναι οι ετικέτες των κλάσεων και σε ποια κολόνα βρίσκονται;**\n",
        "Οι ετικέτες των κλάσεων παίρνουν τιμές \"No\" και \"Yes\"  και βρίσκονται στη στήλη RainTomorrow που είναι η στήλη 22 (μετρώντας από τη στήλη 0)."
      ]
    },
    {
      "cell_type": "markdown",
      "metadata": {
        "id": "pQ0qwVu0KQrW"
      },
      "source": [
        "### **Υπάρχουν απουσιάζουσες τιμές; Πόσα είναι τα δείγματα με απουσιάζουσες τιμές και ποιο το ποσοστό τους επί του συνόλου;**\n",
        "\n",
        "Υπάρχουν απουσιάζουσες τιμές στο σύνολο δεδομένων, δηλαδή αρκετές παρατηρήσεις (γραμμές του dataset) στις οποίες κάποια χαρακτηριστικά έχουν τιμή NA, δηλαδή Not Applicable. \n",
        "\n",
        "Γνωρίζουμε ότι για παράδειγμα έχουμε 1% NA στο χαρακτηριστικό MinTemp,  1% στο MaxTemp, 43% NA στο Evaporation, 48% στο Sunshine, 7% στα WindGustDir, WindGustSpeed, WindDir9am, 3% στο Humidity3pm, 10% στα Pressure9am και Pressure3pm, 38% στο Cloud9am, 41% στο Cloud3pm, 1% στο Temp9am, 2% στο Temp3pm, καθώς και 2% στα RainToday. και RainTomorrow.\n",
        "\n",
        "Παρακάτω φαίνεται πόσα είναι τα δείγματα με απουσιάζουσες τιμές σε κάθε χαρακτηριστικό και στη συνέχεια το ποσοστό των τιμών που απουσιάσζουν επί του συνόλου."
      ]
    },
    {
      "cell_type": "code",
      "metadata": {
        "execution": {
          "iopub.status.busy": "2021-11-29T13:01:57.495593Z",
          "iopub.execute_input": "2021-11-29T13:01:57.496031Z",
          "iopub.status.idle": "2021-11-29T13:01:57.623483Z",
          "shell.execute_reply.started": "2021-11-29T13:01:57.495984Z",
          "shell.execute_reply": "2021-11-29T13:01:57.622410Z"
        },
        "trusted": true,
        "id": "bxDvfLr3KQrW",
        "outputId": "9875dbd3-3a37-4285-f57f-b18d532bbb4d"
      },
      "source": [
        "missing_values_count = data.isnull().sum()\n",
        "missing_values_count[0:23]"
      ],
      "execution_count": null,
      "outputs": [
        {
          "execution_count": 3,
          "output_type": "execute_result",
          "data": {
            "text/plain": "Date                 0\nLocation             0\nMinTemp           1485\nMaxTemp           1261\nRainfall          3261\nEvaporation      62790\nSunshine         69835\nWindGustDir      10326\nWindGustSpeed    10263\nWindDir9am       10566\nWindDir3pm        4228\nWindSpeed9am      1767\nWindSpeed3pm      3062\nHumidity9am       2654\nHumidity3pm       4507\nPressure9am      15065\nPressure3pm      15028\nCloud9am         55888\nCloud3pm         59358\nTemp9am           1767\nTemp3pm           3609\nRainToday         3261\nRainTomorrow      3267\ndtype: int64"
          },
          "metadata": {}
        }
      ]
    },
    {
      "cell_type": "code",
      "metadata": {
        "execution": {
          "iopub.status.busy": "2021-11-29T13:01:57.625294Z",
          "iopub.execute_input": "2021-11-29T13:01:57.625632Z",
          "iopub.status.idle": "2021-11-29T13:01:57.631087Z",
          "shell.execute_reply.started": "2021-11-29T13:01:57.625591Z",
          "shell.execute_reply": "2021-11-29T13:01:57.629923Z"
        },
        "trusted": true,
        "id": "QJ1Fh18bKQrX"
      },
      "source": [
        "total_cells = np.product(data.shape)\n",
        "total_missing = missing_values_count.sum()"
      ],
      "execution_count": null,
      "outputs": []
    },
    {
      "cell_type": "code",
      "metadata": {
        "execution": {
          "iopub.status.busy": "2021-11-29T13:01:57.633400Z",
          "iopub.execute_input": "2021-11-29T13:01:57.635540Z",
          "iopub.status.idle": "2021-11-29T13:01:57.644200Z",
          "shell.execute_reply.started": "2021-11-29T13:01:57.635498Z",
          "shell.execute_reply": "2021-11-29T13:01:57.643184Z"
        },
        "trusted": true,
        "id": "08ZS13MpKQrX",
        "outputId": "6b2b9dbf-ab3f-404e-f17f-1c4b533bacb2"
      },
      "source": [
        "percent_missing = (total_missing/total_cells) * 100\n",
        "print(percent_missing)"
      ],
      "execution_count": null,
      "outputs": [
        {
          "name": "stdout",
          "text": "10.259745694319072\n",
          "output_type": "stream"
        }
      ]
    },
    {
      "cell_type": "markdown",
      "metadata": {
        "id": "1nx3_MeVKQrX"
      },
      "source": [
        "10.26% των δεδομένων απουσιάζουν"
      ]
    },
    {
      "cell_type": "markdown",
      "metadata": {
        "id": "ysmoa0ywKQrY"
      },
      "source": [
        "### **Ποιο είναι το πλήθος των κλάσεων και τα ποσοστά δειγμάτων τους επί του συνόλου; Αν θεωρήσουμε ότι ένα dataset είναι μη ισορροπημένο αν μια οποιαδήποτε κλάση είναι 1.5 φορά πιο συχνή από κάποια άλλη (60%-40% σε binary datasets) εκτιμήστε αν το dataset είναι ισορροπημένο ή όχι.**\n",
        "\n",
        "Υπάρχουν 2 κλάσεις στο συγκεκριμένο dataset (\"Yes\" και \"No\"). Από τις 145k παρατηρήσεις που εξετάζει το dataset, το 76% ανήκουν στην κλάση \"No\" και το 22% ανήκουν στην κλάση \"Yes\" (2% είναι NA).\n",
        "Το dataset **δεν είναι ισορροπημένο**, καθώς τα δείγματα της κλάσης \"No\" είναι πάνω από τριπλάσια από αυτά της κλάσης μειοψηφίας (\"No\")."
      ]
    },
    {
      "cell_type": "markdown",
      "metadata": {
        "id": "0Q-coC0OKQrY"
      },
      "source": [
        "## Προετοιμασία των δεδομένων"
      ]
    },
    {
      "cell_type": "markdown",
      "metadata": {
        "id": "Mz3l3RKJKQrY"
      },
      "source": [
        "Επειδή έχουμε χαρακτηριστικά με μεγάλο ποσοστό missing values, καθώς και γραμμές με μεγάλο ποσοστο missing values, προτού αντικαταστήσουμε τις NA τιμές, θα κάνουμε πρώτα drop όσα χαρακτηριστικά έχουν πάνω από 35% NA, δηλαδή δεν έχουν ουσιαστική πληροφορία να προσφέρουν και αντίστοιχα όσες γραμμές έχουν αυτό το ποσοστό από NA τιμές."
      ]
    },
    {
      "cell_type": "code",
      "metadata": {
        "execution": {
          "iopub.status.busy": "2021-11-29T13:01:57.645433Z",
          "iopub.execute_input": "2021-11-29T13:01:57.645661Z",
          "iopub.status.idle": "2021-11-29T13:01:57.793850Z",
          "shell.execute_reply.started": "2021-11-29T13:01:57.645633Z",
          "shell.execute_reply": "2021-11-29T13:01:57.793014Z"
        },
        "trusted": true,
        "id": "HvOsRET0KQrZ"
      },
      "source": [
        "after_dropping_columns = data.dropna(axis=1, thresh=94000)"
      ],
      "execution_count": null,
      "outputs": []
    },
    {
      "cell_type": "code",
      "metadata": {
        "execution": {
          "iopub.status.busy": "2021-11-29T13:01:57.795097Z",
          "iopub.execute_input": "2021-11-29T13:01:57.795514Z",
          "iopub.status.idle": "2021-11-29T13:01:57.812132Z",
          "shell.execute_reply.started": "2021-11-29T13:01:57.795484Z",
          "shell.execute_reply": "2021-11-29T13:01:57.811069Z"
        },
        "trusted": true,
        "id": "hraNyorJKQrZ",
        "outputId": "bf2dc87b-4b7b-45af-99c6-df4e32145548"
      },
      "source": [
        "print(after_dropping_columns.head())"
      ],
      "execution_count": null,
      "outputs": [
        {
          "name": "stdout",
          "text": "         Date Location  MinTemp  MaxTemp  Rainfall WindGustDir  WindGustSpeed  \\\n0  2008-12-01   Albury     13.4     22.9       0.6           W           44.0   \n1  2008-12-02   Albury      7.4     25.1       0.0         WNW           44.0   \n2  2008-12-03   Albury     12.9     25.7       0.0         WSW           46.0   \n3  2008-12-04   Albury      9.2     28.0       0.0          NE           24.0   \n4  2008-12-05   Albury     17.5     32.3       1.0           W           41.0   \n\n  WindDir9am WindDir3pm  WindSpeed9am  WindSpeed3pm  Humidity9am  Humidity3pm  \\\n0          W        WNW          20.0          24.0         71.0         22.0   \n1        NNW        WSW           4.0          22.0         44.0         25.0   \n2          W        WSW          19.0          26.0         38.0         30.0   \n3         SE          E          11.0           9.0         45.0         16.0   \n4        ENE         NW           7.0          20.0         82.0         33.0   \n\n   Pressure9am  Pressure3pm  Temp9am  Temp3pm RainToday RainTomorrow  \n0       1007.7       1007.1     16.9     21.8        No           No  \n1       1010.6       1007.8     17.2     24.3        No           No  \n2       1007.6       1008.7     21.0     23.2        No           No  \n3       1017.6       1012.8     18.1     26.5        No           No  \n4       1010.8       1006.0     17.8     29.7        No           No  \n",
          "output_type": "stream"
        }
      ]
    },
    {
      "cell_type": "markdown",
      "metadata": {
        "id": "UKRAlmtQKQrZ"
      },
      "source": [
        "Πλέον έχουμε 19 columns. Επομένως για να απαλοίψουμε τις γραμμές που έχουν πάνω από 35% missing values, θα έχουμε threshold=12"
      ]
    },
    {
      "cell_type": "code",
      "metadata": {
        "execution": {
          "iopub.status.busy": "2021-11-29T13:01:57.813785Z",
          "iopub.execute_input": "2021-11-29T13:01:57.814121Z",
          "iopub.status.idle": "2021-11-29T13:01:57.965446Z",
          "shell.execute_reply.started": "2021-11-29T13:01:57.814075Z",
          "shell.execute_reply": "2021-11-29T13:01:57.964621Z"
        },
        "trusted": true,
        "id": "2fsvHy7KKQrZ"
      },
      "source": [
        "after_dropping_rows = after_dropping_columns.dropna(axis=0, thresh=12)"
      ],
      "execution_count": null,
      "outputs": []
    },
    {
      "cell_type": "code",
      "metadata": {
        "execution": {
          "iopub.status.busy": "2021-11-29T13:01:57.966841Z",
          "iopub.execute_input": "2021-11-29T13:01:57.967086Z",
          "iopub.status.idle": "2021-11-29T13:01:57.990002Z",
          "shell.execute_reply.started": "2021-11-29T13:01:57.967059Z",
          "shell.execute_reply": "2021-11-29T13:01:57.989130Z"
        },
        "trusted": true,
        "id": "Z-_sqKCIKQrZ",
        "outputId": "ded6ce94-73ba-41eb-ada9-c87113eee59b"
      },
      "source": [
        "print(after_dropping_rows)"
      ],
      "execution_count": null,
      "outputs": [
        {
          "name": "stdout",
          "text": "              Date Location  MinTemp  MaxTemp  Rainfall WindGustDir  \\\n0       2008-12-01   Albury     13.4     22.9       0.6           W   \n1       2008-12-02   Albury      7.4     25.1       0.0         WNW   \n2       2008-12-03   Albury     12.9     25.7       0.0         WSW   \n3       2008-12-04   Albury      9.2     28.0       0.0          NE   \n4       2008-12-05   Albury     17.5     32.3       1.0           W   \n...            ...      ...      ...      ...       ...         ...   \n145455  2017-06-21    Uluru      2.8     23.4       0.0           E   \n145456  2017-06-22    Uluru      3.6     25.3       0.0         NNW   \n145457  2017-06-23    Uluru      5.4     26.9       0.0           N   \n145458  2017-06-24    Uluru      7.8     27.0       0.0          SE   \n145459  2017-06-25    Uluru     14.9      NaN       0.0         NaN   \n\n        WindGustSpeed WindDir9am WindDir3pm  WindSpeed9am  WindSpeed3pm  \\\n0                44.0          W        WNW          20.0          24.0   \n1                44.0        NNW        WSW           4.0          22.0   \n2                46.0          W        WSW          19.0          26.0   \n3                24.0         SE          E          11.0           9.0   \n4                41.0        ENE         NW           7.0          20.0   \n...               ...        ...        ...           ...           ...   \n145455           31.0         SE        ENE          13.0          11.0   \n145456           22.0         SE          N          13.0           9.0   \n145457           37.0         SE        WNW           9.0           9.0   \n145458           28.0        SSE          N          13.0           7.0   \n145459            NaN        ESE        ESE          17.0          17.0   \n\n        Humidity9am  Humidity3pm  Pressure9am  Pressure3pm  Temp9am  Temp3pm  \\\n0              71.0         22.0       1007.7       1007.1     16.9     21.8   \n1              44.0         25.0       1010.6       1007.8     17.2     24.3   \n2              38.0         30.0       1007.6       1008.7     21.0     23.2   \n3              45.0         16.0       1017.6       1012.8     18.1     26.5   \n4              82.0         33.0       1010.8       1006.0     17.8     29.7   \n...             ...          ...          ...          ...      ...      ...   \n145455         51.0         24.0       1024.6       1020.3     10.1     22.4   \n145456         56.0         21.0       1023.5       1019.1     10.9     24.5   \n145457         53.0         24.0       1021.0       1016.8     12.5     26.1   \n145458         51.0         24.0       1019.4       1016.5     15.1     26.0   \n145459         62.0         36.0       1020.2       1017.9     15.0     20.9   \n\n       RainToday RainTomorrow  \n0             No           No  \n1             No           No  \n2             No           No  \n3             No           No  \n4             No           No  \n...          ...          ...  \n145455        No           No  \n145456        No           No  \n145457        No           No  \n145458        No           No  \n145459        No          NaN  \n\n[142753 rows x 19 columns]\n",
          "output_type": "stream"
        }
      ]
    },
    {
      "cell_type": "code",
      "metadata": {
        "execution": {
          "iopub.status.busy": "2021-11-29T13:01:57.991730Z",
          "iopub.execute_input": "2021-11-29T13:01:57.992480Z",
          "iopub.status.idle": "2021-11-29T13:01:57.999942Z",
          "shell.execute_reply.started": "2021-11-29T13:01:57.992429Z",
          "shell.execute_reply": "2021-11-29T13:01:57.999364Z"
        },
        "trusted": true,
        "id": "SWJnuPeuKQra"
      },
      "source": [
        "data=after_dropping_rows"
      ],
      "execution_count": null,
      "outputs": []
    },
    {
      "cell_type": "markdown",
      "metadata": {
        "id": "WdKGPZAXKQra"
      },
      "source": [
        "Πλέον έχουμε 142753 γραμμές και 19 στήλες (χαρακτηριστικά)."
      ]
    },
    {
      "cell_type": "code",
      "metadata": {
        "execution": {
          "iopub.status.busy": "2021-11-29T13:01:58.003843Z",
          "iopub.execute_input": "2021-11-29T13:01:58.004154Z",
          "iopub.status.idle": "2021-11-29T13:01:58.130247Z",
          "shell.execute_reply.started": "2021-11-29T13:01:58.004120Z",
          "shell.execute_reply": "2021-11-29T13:01:58.129291Z"
        },
        "trusted": true,
        "id": "8xBQOcEiKQra",
        "outputId": "8c0ca9f7-40f2-4b20-8a44-458f4dc2c54d"
      },
      "source": [
        "missing_values_count = data.isnull().sum()\n",
        "missing_values_count[0:19]"
      ],
      "execution_count": null,
      "outputs": [
        {
          "execution_count": 11,
          "output_type": "execute_result",
          "data": {
            "text/plain": "Date                 0\nLocation             0\nMinTemp            319\nMaxTemp            282\nRainfall          2211\nWindGustDir       8239\nWindGustSpeed     8177\nWindDir9am        8895\nWindDir3pm        2257\nWindSpeed9am       437\nWindSpeed3pm      1105\nHumidity9am       1362\nHumidity3pm       2602\nPressure9am      12476\nPressure3pm      12459\nTemp9am            492\nTemp3pm           1712\nRainToday         2211\nRainTomorrow      2290\ndtype: int64"
          },
          "metadata": {}
        }
      ]
    },
    {
      "cell_type": "code",
      "metadata": {
        "execution": {
          "iopub.status.busy": "2021-11-29T13:01:58.131543Z",
          "iopub.execute_input": "2021-11-29T13:01:58.131823Z",
          "iopub.status.idle": "2021-11-29T13:01:58.136159Z",
          "shell.execute_reply.started": "2021-11-29T13:01:58.131771Z",
          "shell.execute_reply": "2021-11-29T13:01:58.135197Z"
        },
        "trusted": true,
        "id": "43VtIHOnKQra"
      },
      "source": [
        "total_cells = np.product(data.shape)\n",
        "total_missing = missing_values_count.sum()"
      ],
      "execution_count": null,
      "outputs": []
    },
    {
      "cell_type": "code",
      "metadata": {
        "execution": {
          "iopub.status.busy": "2021-11-29T13:01:58.137266Z",
          "iopub.execute_input": "2021-11-29T13:01:58.137839Z",
          "iopub.status.idle": "2021-11-29T13:01:58.149486Z",
          "shell.execute_reply.started": "2021-11-29T13:01:58.137802Z",
          "shell.execute_reply": "2021-11-29T13:01:58.148603Z"
        },
        "trusted": true,
        "id": "Cvm8D9GmKQrb",
        "outputId": "b9f8a40d-0f73-49ab-c190-faa4f000af45"
      },
      "source": [
        "percent_missing = (total_missing/total_cells) * 100\n",
        "print(percent_missing)"
      ],
      "execution_count": null,
      "outputs": [
        {
          "name": "stdout",
          "text": "2.4896149292834475\n",
          "output_type": "stream"
        }
      ]
    },
    {
      "cell_type": "markdown",
      "metadata": {
        "id": "QBsbFyTuKQrb"
      },
      "source": [
        "Από 10% missing values, τις περιορίσαμε στο 2.5% του dataset."
      ]
    },
    {
      "cell_type": "markdown",
      "metadata": {
        "id": "KicVvErTKQrb"
      },
      "source": [
        "Σε αυτό το σημείο θα μετασχηματίσουμε τις ΝΑ τιμές που έχουν απομείνει. Για όλα τα κατηγορικά χαρακτηριστικά θα αντικαταστήσουμε τις NA τιμές με τη most_frequent τιμή του χαρακτηριστικού, ενώ για τα διατεταγμενα χαρακτηριστικά θα αντικαταστήσουμε τις NA τιμές με τη μέση τιμή."
      ]
    },
    {
      "cell_type": "markdown",
      "metadata": {
        "id": "5NYm2ccoKQrc"
      },
      "source": [
        "Έχοντας προηγουμένως απαλείψει χαρακτηριστικά με πολλά missing values, τα οποία δεν προσέθεταν πολλή χρήσιμη πληροφορία στο dataset, από τα χαρακτηριστικά που έχουν απομείνει αρχικά εντοπίζουμε ποια είναι τα κατηγορικά."
      ]
    },
    {
      "cell_type": "code",
      "metadata": {
        "execution": {
          "iopub.status.busy": "2021-11-29T13:01:58.151035Z",
          "iopub.execute_input": "2021-11-29T13:01:58.151979Z",
          "iopub.status.idle": "2021-11-29T13:01:58.166556Z",
          "shell.execute_reply.started": "2021-11-29T13:01:58.151933Z",
          "shell.execute_reply": "2021-11-29T13:01:58.165405Z"
        },
        "trusted": true,
        "id": "Jm8D4E3DKQrc",
        "outputId": "1377e48a-bb70-41fe-be89-71c279072c9a"
      },
      "source": [
        "categorical_features = [column_name for column_name in data.columns if data[column_name].dtype == 'O']\n",
        "print(\"Number of Categorical Features: {}\".format(len(categorical_features)))\n",
        "print(\"Categorical Features: \",categorical_features)"
      ],
      "execution_count": null,
      "outputs": [
        {
          "name": "stdout",
          "text": "Number of Categorical Features: 7\nCategorical Features:  ['Date', 'Location', 'WindGustDir', 'WindDir9am', 'WindDir3pm', 'RainToday', 'RainTomorrow']\n",
          "output_type": "stream"
        }
      ]
    },
    {
      "cell_type": "markdown",
      "metadata": {
        "id": "AvyOVOm7KQrc"
      },
      "source": [
        "και στη συνέχεια ποια είναι τα διατεταγμένα χαρακτηριστικά"
      ]
    },
    {
      "cell_type": "code",
      "metadata": {
        "execution": {
          "iopub.status.busy": "2021-11-29T13:01:58.168254Z",
          "iopub.execute_input": "2021-11-29T13:01:58.169203Z",
          "iopub.status.idle": "2021-11-29T13:01:58.177782Z",
          "shell.execute_reply.started": "2021-11-29T13:01:58.169155Z",
          "shell.execute_reply": "2021-11-29T13:01:58.176753Z"
        },
        "trusted": true,
        "id": "IJziyj2fKQrc",
        "outputId": "c9e14478-06ac-4b9a-d237-1659b7b80ee2"
      },
      "source": [
        "numerical_features = [column_name for column_name in data.columns if data[column_name].dtype != 'O']\n",
        "print(\"Number of Numerical Features: {}\".format(len(numerical_features)))\n",
        "print(\"Numerical Features: \",numerical_features)"
      ],
      "execution_count": null,
      "outputs": [
        {
          "name": "stdout",
          "text": "Number of Numerical Features: 12\nNumerical Features:  ['MinTemp', 'MaxTemp', 'Rainfall', 'WindGustSpeed', 'WindSpeed9am', 'WindSpeed3pm', 'Humidity9am', 'Humidity3pm', 'Pressure9am', 'Pressure3pm', 'Temp9am', 'Temp3pm']\n",
          "output_type": "stream"
        }
      ]
    },
    {
      "cell_type": "markdown",
      "metadata": {
        "id": "ljPvXTloKQrc"
      },
      "source": [
        "Κάνουμε drop τη στήλη της ημερομηνίας, καθώς δεν δίνει πληροφορία για την ταξινόμηση."
      ]
    },
    {
      "cell_type": "code",
      "metadata": {
        "execution": {
          "iopub.status.busy": "2021-11-29T13:01:58.179659Z",
          "iopub.execute_input": "2021-11-29T13:01:58.180096Z",
          "iopub.status.idle": "2021-11-29T13:01:58.203955Z",
          "shell.execute_reply.started": "2021-11-29T13:01:58.180050Z",
          "shell.execute_reply": "2021-11-29T13:01:58.202981Z"
        },
        "trusted": true,
        "id": "GhcVs3uZKQrd"
      },
      "source": [
        "data_new= data.drop(['Date'], axis=1)\n",
        "data=data_new"
      ],
      "execution_count": null,
      "outputs": []
    },
    {
      "cell_type": "code",
      "metadata": {
        "execution": {
          "iopub.status.busy": "2021-11-29T13:01:58.205072Z",
          "iopub.execute_input": "2021-11-29T13:01:58.205496Z",
          "iopub.status.idle": "2021-11-29T13:01:58.212275Z",
          "shell.execute_reply.started": "2021-11-29T13:01:58.205466Z",
          "shell.execute_reply": "2021-11-29T13:01:58.211688Z"
        },
        "trusted": true,
        "id": "ZDvsRn_KKQrd",
        "outputId": "77ed4789-3a90-4503-cb77-aadfe6377aaa"
      },
      "source": [
        "categorical_features = [column_name for column_name in data.columns if data[column_name].dtype == 'O']\n",
        "print(\"Number of Categorical Features: {}\".format(len(categorical_features)))\n",
        "print(\"Categorical Features: \",categorical_features)"
      ],
      "execution_count": null,
      "outputs": [
        {
          "name": "stdout",
          "text": "Number of Categorical Features: 6\nCategorical Features:  ['Location', 'WindGustDir', 'WindDir9am', 'WindDir3pm', 'RainToday', 'RainTomorrow']\n",
          "output_type": "stream"
        }
      ]
    },
    {
      "cell_type": "markdown",
      "metadata": {
        "id": "Cp1zAjG5KQrd"
      },
      "source": [
        "Για τα κατηγορικά χαρακτηριστικά αντικαθιστούμε τις ΝΑ τιμές με τη συχνότερα εμφανιζόμενη:"
      ]
    },
    {
      "cell_type": "code",
      "metadata": {
        "execution": {
          "iopub.status.busy": "2021-11-29T13:01:58.213215Z",
          "iopub.execute_input": "2021-11-29T13:01:58.213706Z",
          "iopub.status.idle": "2021-11-29T13:01:58.504767Z",
          "shell.execute_reply.started": "2021-11-29T13:01:58.213672Z",
          "shell.execute_reply": "2021-11-29T13:01:58.504026Z"
        },
        "trusted": true,
        "id": "2cVrWm4dKQrd"
      },
      "source": [
        "categorical_features_with_null = [feature for feature in categorical_features if data[feature].isnull().sum()]\n",
        "for each_feature in categorical_features_with_null:\n",
        "    mode_val = data[each_feature].mode()[0]\n",
        "    data[each_feature].fillna(mode_val,inplace=True)"
      ],
      "execution_count": null,
      "outputs": []
    },
    {
      "cell_type": "markdown",
      "metadata": {
        "id": "rvPU426GKQrd"
      },
      "source": [
        "Για τα διατεταγμένα με τη μέση τιμή mean:"
      ]
    },
    {
      "cell_type": "code",
      "metadata": {
        "execution": {
          "iopub.status.busy": "2021-11-29T13:01:58.505979Z",
          "iopub.execute_input": "2021-11-29T13:01:58.506188Z",
          "iopub.status.idle": "2021-11-29T13:01:58.527246Z",
          "shell.execute_reply.started": "2021-11-29T13:01:58.506162Z",
          "shell.execute_reply": "2021-11-29T13:01:58.526626Z"
        },
        "trusted": true,
        "id": "Z15znkAdKQre"
      },
      "source": [
        "numerical_features_with_null = [feature for feature in numerical_features if data[feature].isnull().sum()]\n",
        "for feature in numerical_features_with_null:\n",
        "    mean_value = data[feature].mean()\n",
        "    data[feature].fillna(mean_value,inplace=True)"
      ],
      "execution_count": null,
      "outputs": []
    },
    {
      "cell_type": "code",
      "metadata": {
        "execution": {
          "iopub.status.busy": "2021-11-29T13:01:58.528387Z",
          "iopub.execute_input": "2021-11-29T13:01:58.529240Z",
          "iopub.status.idle": "2021-11-29T13:01:58.635396Z",
          "shell.execute_reply.started": "2021-11-29T13:01:58.529196Z",
          "shell.execute_reply": "2021-11-29T13:01:58.634556Z"
        },
        "trusted": true,
        "id": "ejp0aYnlKQre",
        "outputId": "88bb9370-4499-44e4-97e8-f595678ab1e7"
      },
      "source": [
        "missing_values_count = data.isnull().sum()\n",
        "missing_values_count[0:19]"
      ],
      "execution_count": null,
      "outputs": [
        {
          "execution_count": 20,
          "output_type": "execute_result",
          "data": {
            "text/plain": "Location         0\nMinTemp          0\nMaxTemp          0\nRainfall         0\nWindGustDir      0\nWindGustSpeed    0\nWindDir9am       0\nWindDir3pm       0\nWindSpeed9am     0\nWindSpeed3pm     0\nHumidity9am      0\nHumidity3pm      0\nPressure9am      0\nPressure3pm      0\nTemp9am          0\nTemp3pm          0\nRainToday        0\nRainTomorrow     0\ndtype: int64"
          },
          "metadata": {}
        }
      ]
    },
    {
      "cell_type": "code",
      "metadata": {
        "execution": {
          "iopub.status.busy": "2021-11-29T13:01:58.636656Z",
          "iopub.execute_input": "2021-11-29T13:01:58.636943Z",
          "iopub.status.idle": "2021-11-29T13:01:58.641167Z",
          "shell.execute_reply.started": "2021-11-29T13:01:58.636903Z",
          "shell.execute_reply": "2021-11-29T13:01:58.640132Z"
        },
        "trusted": true,
        "id": "aqbV1ySmKQre"
      },
      "source": [
        "total_cells = np.product(data.shape)\n",
        "total_missing = missing_values_count.sum()"
      ],
      "execution_count": null,
      "outputs": []
    },
    {
      "cell_type": "code",
      "metadata": {
        "execution": {
          "iopub.status.busy": "2021-11-29T13:01:58.642477Z",
          "iopub.execute_input": "2021-11-29T13:01:58.643291Z",
          "iopub.status.idle": "2021-11-29T13:01:58.652437Z",
          "shell.execute_reply.started": "2021-11-29T13:01:58.643249Z",
          "shell.execute_reply": "2021-11-29T13:01:58.651593Z"
        },
        "trusted": true,
        "id": "-z1m2ZnMKQre",
        "outputId": "28aba053-17f3-4f12-c54d-1e6adf3feae1"
      },
      "source": [
        "percent_missing = (total_missing/total_cells) * 100\n",
        "print(percent_missing)"
      ],
      "execution_count": null,
      "outputs": [
        {
          "name": "stdout",
          "text": "0.0\n",
          "output_type": "stream"
        }
      ]
    },
    {
      "cell_type": "markdown",
      "metadata": {
        "id": "4xN9Qa_jKQre"
      },
      "source": [
        "Όπως φαίνεται παραπάνω, εξαλείψαμε όλες τις απουσιάζουσες τιμές του dataset."
      ]
    },
    {
      "cell_type": "markdown",
      "metadata": {
        "id": "BF1KANnJKQre"
      },
      "source": [
        "Στη συνέχεια θα πρέπει να διαχειριστούμε τα κατηγορικά δεδομένα. Αρχικά για τα κρτηγορικά δεδομένα RainToday και RainTomorrow που έχουν binary τιμές και αποδίδονται από το dataset με \"Yes\" και \"No\", θα τα μετατρέψουμε σε τιμές 0 και 1. "
      ]
    },
    {
      "cell_type": "code",
      "metadata": {
        "execution": {
          "iopub.status.busy": "2021-11-29T13:01:58.653638Z",
          "iopub.execute_input": "2021-11-29T13:01:58.653857Z",
          "iopub.status.idle": "2021-11-29T13:01:58.704723Z",
          "shell.execute_reply.started": "2021-11-29T13:01:58.653831Z",
          "shell.execute_reply": "2021-11-29T13:01:58.703850Z"
        },
        "trusted": true,
        "id": "Q8BQu02vKQre"
      },
      "source": [
        "data['RainTomorrow'] = data['RainTomorrow'].map({'Yes': 1, 'No': 0})\n",
        "data['RainToday'] = data['RainToday'].map({'Yes': 1, 'No': 0})"
      ],
      "execution_count": null,
      "outputs": []
    },
    {
      "cell_type": "markdown",
      "metadata": {
        "id": "_39ajpCSKQrf"
      },
      "source": [
        "Στη συνέχεια θα διαχειριστούμε με τη μέθοδο **target encoding** τα κατηγορικά χαρακτηριστικά Location, WindGustDir, WindDir9am και WindDir3pm. Ο λόγος που δεν επιλέξαμε One-hot encoding είναι πως θα αυξάνονταν κατά πολύ οι διαστάσεις του dataset, καθώς υπάρχουν 17 μοναδικές τιμές που περιγράφουν την κατέθυνση του ανέμου και 49 μοναδικές τιμές που περιγράφουν την τοποθεσία."
      ]
    },
    {
      "cell_type": "code",
      "metadata": {
        "execution": {
          "iopub.status.busy": "2021-11-29T13:01:58.706083Z",
          "iopub.execute_input": "2021-11-29T13:01:58.706308Z",
          "iopub.status.idle": "2021-11-29T13:01:58.793345Z",
          "shell.execute_reply.started": "2021-11-29T13:01:58.706282Z",
          "shell.execute_reply": "2021-11-29T13:01:58.792438Z"
        },
        "trusted": true,
        "id": "6670vHktKQrf",
        "outputId": "11feca73-c284-4889-f6b3-9fd31c01093c"
      },
      "source": [
        "data[\"Location\"] = data.groupby(\"Location\")[\"RainTomorrow\"].transform(\"mean\")\n",
        "data[\"WindGustDir\"] = data.groupby(\"WindGustDir\")[\"RainTomorrow\"].transform(\"mean\")\n",
        "data[\"WindDir9am\"] = data.groupby(\"WindDir9am\")[\"RainTomorrow\"].transform(\"mean\")\n",
        "data[\"WindDir3pm\"] = data.groupby(\"WindDir3pm\")[\"RainTomorrow\"].transform(\"mean\")\n",
        "print(data)"
      ],
      "execution_count": null,
      "outputs": [
        {
          "name": "stdout",
          "text": "        Location  MinTemp    MaxTemp  Rainfall  WindGustDir  WindGustSpeed  \\\n0       0.203691     13.4  22.900000       0.6     0.258916      44.000000   \n1       0.203691      7.4  25.100000       0.0     0.276151      44.000000   \n2       0.203691     12.9  25.700000       0.0     0.230411      46.000000   \n3       0.203691      9.2  28.000000       0.0     0.184842      24.000000   \n4       0.203691     17.5  32.300000       1.0     0.258916      41.000000   \n...          ...      ...        ...       ...          ...            ...   \n145455  0.073436      2.8  23.400000       0.0     0.147078      31.000000   \n145456  0.073436      3.6  25.300000       0.0     0.281822      22.000000   \n145457  0.073436      5.4  26.900000       0.0     0.266790      37.000000   \n145458  0.073436      7.8  27.000000       0.0     0.184314      28.000000   \n145459  0.073436     14.9  23.228936       0.0     0.258916      40.010358   \n\n        WindDir9am  WindDir3pm  WindSpeed9am  WindSpeed3pm  Humidity9am  \\\n0         0.256426    0.271595          20.0          24.0         71.0   \n1         0.305217    0.220368           4.0          22.0         44.0   \n2         0.256426    0.220368          19.0          26.0         38.0   \n3         0.158658    0.169052          11.0           9.0         45.0   \n4         0.174335    0.278581           7.0          20.0         82.0   \n...            ...         ...           ...           ...          ...   \n145455    0.158658    0.175990          13.0          11.0         51.0   \n145456    0.158658    0.274325          13.0           9.0         56.0   \n145457    0.158658    0.271595           9.0           9.0         53.0   \n145458    0.176425    0.274325          13.0           7.0         51.0   \n145459    0.146399    0.167433          17.0          17.0         62.0   \n\n        Humidity3pm  Pressure9am  Pressure3pm  Temp9am  Temp3pm  RainToday  \\\n0              22.0       1007.7       1007.1     16.9     21.8          0   \n1              25.0       1010.6       1007.8     17.2     24.3          0   \n2              30.0       1007.6       1008.7     21.0     23.2          0   \n3              16.0       1017.6       1012.8     18.1     26.5          0   \n4              33.0       1010.8       1006.0     17.8     29.7          0   \n...             ...          ...          ...      ...      ...        ...   \n145455         24.0       1024.6       1020.3     10.1     22.4          0   \n145456         21.0       1023.5       1019.1     10.9     24.5          0   \n145457         24.0       1021.0       1016.8     12.5     26.1          0   \n145458         24.0       1019.4       1016.5     15.1     26.0          0   \n145459         36.0       1020.2       1017.9     15.0     20.9          0   \n\n        RainTomorrow  \n0                  0  \n1                  0  \n2                  0  \n3                  0  \n4                  0  \n...              ...  \n145455             0  \n145456             0  \n145457             0  \n145458             0  \n145459             0  \n\n[142753 rows x 18 columns]\n",
          "output_type": "stream"
        }
      ]
    },
    {
      "cell_type": "markdown",
      "metadata": {
        "id": "R2gV2jolKQrf"
      },
      "source": [
        "Στο σημείο αυτό θα χωρίσουμε το dataset σε train και test set."
      ]
    },
    {
      "cell_type": "code",
      "metadata": {
        "execution": {
          "iopub.status.busy": "2021-11-29T13:01:58.794759Z",
          "iopub.execute_input": "2021-11-29T13:01:58.796513Z",
          "iopub.status.idle": "2021-11-29T13:01:59.747432Z",
          "shell.execute_reply.started": "2021-11-29T13:01:58.796465Z",
          "shell.execute_reply": "2021-11-29T13:01:59.746527Z"
        },
        "trusted": true,
        "id": "hhkwgkvVKQrf"
      },
      "source": [
        "from sklearn.model_selection import train_test_split\n",
        "labels = data.loc[:,'RainTomorrow']\n",
        "features = data.drop(['RainTomorrow'], axis=1)\n",
        "X_train, X_test, y_train, y_test = train_test_split(features, labels, test_size=0.3)\n"
      ],
      "execution_count": null,
      "outputs": []
    },
    {
      "cell_type": "markdown",
      "metadata": {
        "id": "mG4DxUYhKQrf"
      },
      "source": [
        "## Ταξινόμηση"
      ]
    },
    {
      "cell_type": "markdown",
      "metadata": {
        "id": "Am1iGKirKQrf"
      },
      "source": [
        "### Out-of-the-box προσέγγιση"
      ]
    },
    {
      "cell_type": "markdown",
      "metadata": {
        "id": "A0tK6OfaKQrf"
      },
      "source": [
        "Για την αξιολόγηση των μοντέλων μας θα χρησιμοποιήσουμε τις μετρικές **Accuracy** και **Area Under the ROC Curve (AUC)**.\n",
        "\n",
        "Η ακρίβεια (accuracy) μπορεί να χρησιμοποιηθεί ως παράμετρος αξιολόγησης, όμως αν υπάρχει ανισορροπία μεταξύ των κλάσεων, όπως στο συγκεκριμένο σύνολο δεδομένων, η ακρίβεια δεν αποτελεί την καταλληλότερη μετρική για την αξιολόγηση. Ένα καλύτερο μέτρο απόδοσης σε μη ισορροπημένα σύνολα δεδομένων είναι η Area Under ROC Curve (AUC). Το AUC αποτελεί σε αυτή την περίπτωση ένα στατιστικά πιο συνεπές μέτρο από την ακρίβεια και χρησιμοποιείται ευρέως για την αξιολόγηση της επίδοσης προγνωστικών μοντέλων.\n",
        "\n",
        "Η καμπύλη ROC μπορεί ποσοτικά να συνοψιστεί χρησιμοποιώντας το AUC. Η καμπύλη ROC δείχνει το trade-off μεταξύ του ποσοστού των True Positive αποτελεσμάτων (ευαισθησία) και του ποσοστού των True Negative αποτελεσμάτων (1 - ειδικότητα) του ταξινομητή. \n",
        "\n",
        "Η περιοχή κάτω από την καμπύλη ROC (AUC) συσχετίζει το ποσοστό επιτυχίας με το ποσοστό False Positive αποτελεσμάτων και αποτελεί μια εκτίμηση της πιθανότητας ότι ένας ταξινομητής θα κατατάξει ένα τυχαία επιλεγμένο θετικό δείγμα υψηλότερα από ένα τυχαία επιλεγμένο αρνητικό δείγμα, αντιπροσωπεύει, δηλαδή, την ποιότητα της κατάταξης τυχαίων θετικών δειγμάτων έναντι των τυχαίων αρνητικών δειγμάτων."
      ]
    },
    {
      "cell_type": "markdown",
      "metadata": {
        "id": "XOGxSSCXKQrg"
      },
      "source": [
        "#### **Ταξινομητές Dummy**"
      ]
    },
    {
      "cell_type": "code",
      "metadata": {
        "execution": {
          "iopub.status.busy": "2021-11-29T19:25:20.224492Z",
          "iopub.execute_input": "2021-11-29T19:25:20.224774Z",
          "iopub.status.idle": "2021-11-29T19:25:20.230226Z",
          "shell.execute_reply.started": "2021-11-29T19:25:20.224743Z",
          "shell.execute_reply": "2021-11-29T19:25:20.229342Z"
        },
        "trusted": true,
        "id": "ZoMlIYFyKQrg"
      },
      "source": [
        "from sklearn.dummy import DummyClassifier\n",
        "from sklearn.metrics import accuracy_score\n",
        "from sklearn.metrics import classification_report\n",
        "import time\n",
        "from sklearn import metrics"
      ],
      "execution_count": null,
      "outputs": []
    },
    {
      "cell_type": "code",
      "metadata": {
        "execution": {
          "iopub.status.busy": "2021-11-29T19:25:22.634663Z",
          "iopub.execute_input": "2021-11-29T19:25:22.634914Z",
          "iopub.status.idle": "2021-11-29T19:25:22.639319Z",
          "shell.execute_reply.started": "2021-11-29T19:25:22.634888Z",
          "shell.execute_reply": "2021-11-29T19:25:22.638367Z"
        },
        "trusted": true,
        "id": "xDld2qgTKQrg"
      },
      "source": [
        "classifiers_accuracy = {}\n",
        "classifiers_auc = {}\n",
        "classifiers_time = {}"
      ],
      "execution_count": null,
      "outputs": []
    },
    {
      "cell_type": "markdown",
      "metadata": {
        "id": "RIvXt9BlKQrg"
      },
      "source": [
        "##### Dummy Classifier με strategy=uniform"
      ]
    },
    {
      "cell_type": "code",
      "metadata": {
        "execution": {
          "iopub.status.busy": "2021-11-29T19:25:25.181463Z",
          "iopub.execute_input": "2021-11-29T19:25:25.182240Z",
          "iopub.status.idle": "2021-11-29T19:25:25.269650Z",
          "shell.execute_reply.started": "2021-11-29T19:25:25.182200Z",
          "shell.execute_reply": "2021-11-29T19:25:25.268848Z"
        },
        "trusted": true,
        "id": "SvZRzKRRKQrg",
        "outputId": "3be95d3d-5f8a-4b7a-d1be-64bed8d30e39"
      },
      "source": [
        "dc_uniform = DummyClassifier(strategy=\"uniform\")\n",
        "start_time = time.time()\n",
        "\n",
        "model = dc_uniform.fit(X_train, y_train)\n",
        "preds = dc_uniform.predict(X_test)\n",
        "\n",
        "classifiers_time['Uniform (random)'] = (time.time() - start_time)\n",
        "print(\"Συνολικός χρόνος fit και predict: %s seconds\" % (time.time() - start_time),'\\n')\n",
        "\n",
        "classifiers_accuracy['Uniform (random)'] = accuracy_score(y_test, preds)\n",
        "\n",
        "fpr, tpr, thresholds = metrics.roc_curve(y_test, preds)\n",
        "classifiers_auc['Uniform (random)'] = metrics.auc(fpr, tpr)\n",
        "\n",
        "print(classification_report(y_test, preds),'\\n')\n",
        "print(\"Uniform (random) AUC Score:\",metrics.auc(fpr, tpr))"
      ],
      "execution_count": null,
      "outputs": [
        {
          "name": "stdout",
          "text": "Συνολικός χρόνος fit και predict: 0.0051038265228271484 seconds \n\n              precision    recall  f1-score   support\n\n           0       0.78      0.50      0.61     33400\n           1       0.22      0.51      0.31      9426\n\n    accuracy                           0.50     42826\n   macro avg       0.50      0.50      0.46     42826\nweighted avg       0.66      0.50      0.54     42826\n \n\nUniform (random) AUC Score: 0.5034641792163604\n",
          "output_type": "stream"
        }
      ]
    },
    {
      "cell_type": "markdown",
      "metadata": {
        "id": "IR8WXMn2KQrj"
      },
      "source": [
        "##### Dummy Classifier με strategy=constant(0)"
      ]
    },
    {
      "cell_type": "code",
      "metadata": {
        "execution": {
          "iopub.status.busy": "2021-11-29T19:25:28.191842Z",
          "iopub.execute_input": "2021-11-29T19:25:28.192579Z",
          "iopub.status.idle": "2021-11-29T19:25:28.268133Z",
          "shell.execute_reply.started": "2021-11-29T19:25:28.192532Z",
          "shell.execute_reply": "2021-11-29T19:25:28.267374Z"
        },
        "trusted": true,
        "id": "hdYUA-y1KQrk",
        "outputId": "9f9da62a-e896-41f8-b1d6-641350a1f065"
      },
      "source": [
        "dc_constant_0 = DummyClassifier(strategy=\"constant\", constant=0)\n",
        "start_time = time.time()\n",
        "\n",
        "model = dc_constant_0.fit(X_train, y_train)\n",
        "preds = dc_constant_0.predict(X_test)\n",
        "\n",
        "classifiers_time['Constant 0'] = (time.time() - start_time)\n",
        "print(\"Συνολικός χρόνος fit και predict: %s seconds\" % (time.time() - start_time),'\\n')\n",
        "\n",
        "classifiers_accuracy['Constant 0'] = accuracy_score(y_test, preds)\n",
        "\n",
        "fpr, tpr, thresholds = metrics.roc_curve(y_test, preds)\n",
        "classifiers_auc['Constant 0'] = metrics.auc(fpr, tpr)\n",
        "\n",
        "print(classification_report(y_test, preds),'\\n')\n",
        "print(\"Constant 0 AUC Score:\",metrics.auc(fpr, tpr))"
      ],
      "execution_count": null,
      "outputs": [
        {
          "name": "stdout",
          "text": "Συνολικός χρόνος fit και predict: 0.004189014434814453 seconds \n\n              precision    recall  f1-score   support\n\n           0       0.78      1.00      0.88     33400\n           1       0.00      0.00      0.00      9426\n\n    accuracy                           0.78     42826\n   macro avg       0.39      0.50      0.44     42826\nweighted avg       0.61      0.78      0.68     42826\n \n\nConstant 0 AUC Score: 0.5\n",
          "output_type": "stream"
        },
        {
          "name": "stderr",
          "text": "/opt/conda/lib/python3.7/site-packages/sklearn/metrics/_classification.py:1221: UndefinedMetricWarning: Precision and F-score are ill-defined and being set to 0.0 in labels with no predicted samples. Use `zero_division` parameter to control this behavior.\n  _warn_prf(average, modifier, msg_start, len(result))\n",
          "output_type": "stream"
        }
      ]
    },
    {
      "cell_type": "markdown",
      "metadata": {
        "id": "dNpT8CPwKQrk"
      },
      "source": [
        "##### Dummy Classifier με strategy=stratified"
      ]
    },
    {
      "cell_type": "code",
      "metadata": {
        "execution": {
          "iopub.status.busy": "2021-11-29T19:25:37.568446Z",
          "iopub.execute_input": "2021-11-29T19:25:37.569191Z",
          "iopub.status.idle": "2021-11-29T19:25:37.653795Z",
          "shell.execute_reply.started": "2021-11-29T19:25:37.569146Z",
          "shell.execute_reply": "2021-11-29T19:25:37.653026Z"
        },
        "trusted": true,
        "id": "3gU08FgOKQrk",
        "outputId": "32623c25-ad9c-4f9c-f003-43f113259282"
      },
      "source": [
        "dc_stratified = DummyClassifier(strategy=\"stratified\")\n",
        "start_time = time.time()\n",
        "\n",
        "model = dc_stratified.fit(X_train, y_train)\n",
        "preds = dc_stratified.predict(X_test)\n",
        "\n",
        "classifiers_time['Stratified'] = (time.time() - start_time)\n",
        "print(\"Συνολικός χρόνος fit και predict: %s seconds\" % (time.time() - start_time),'\\n')\n",
        "\n",
        "classifiers_accuracy['Stratified'] = accuracy_score(y_test, preds)\n",
        "\n",
        "fpr, tpr, thresholds = metrics.roc_curve(y_test, preds)\n",
        "classifiers_auc['Stratified'] = metrics.auc(fpr, tpr)\n",
        "\n",
        "print(classification_report(y_test, preds),'\\n')\n",
        "print(\"Stratified AUC Score:\",metrics.auc(fpr, tpr))"
      ],
      "execution_count": null,
      "outputs": [
        {
          "name": "stdout",
          "text": "Συνολικός χρόνος fit και predict: 0.007157087326049805 seconds \n\n              precision    recall  f1-score   support\n\n           0       0.78      0.78      0.78     33400\n           1       0.22      0.22      0.22      9426\n\n    accuracy                           0.66     42826\n   macro avg       0.50      0.50      0.50     42826\nweighted avg       0.66      0.66      0.66     42826\n \n\nStratified AUC Score: 0.5008794981647146\n",
          "output_type": "stream"
        }
      ]
    },
    {
      "cell_type": "markdown",
      "metadata": {
        "id": "jDEdG5RrKQrk"
      },
      "source": [
        "#### **Mylti-Layer Perceptron (MLP)**"
      ]
    },
    {
      "cell_type": "code",
      "metadata": {
        "execution": {
          "iopub.status.busy": "2021-11-29T19:25:41.198860Z",
          "iopub.execute_input": "2021-11-29T19:25:41.199487Z",
          "iopub.status.idle": "2021-11-29T19:27:18.540733Z",
          "shell.execute_reply.started": "2021-11-29T19:25:41.199441Z",
          "shell.execute_reply": "2021-11-29T19:27:18.539877Z"
        },
        "trusted": true,
        "id": "iEH-imW9KQrk",
        "outputId": "3705621b-998d-49d0-839b-bb07d292c11d"
      },
      "source": [
        "from sklearn.neural_network import MLPClassifier\n",
        "\n",
        "clf = MLPClassifier()\n",
        "start_time = time.time()\n",
        "\n",
        "clf.fit(X_train, y_train)\n",
        "preds = clf.predict(X_test)\n",
        "\n",
        "classifiers_time['Multi-Layer Perceptron'] = (time.time() - start_time)\n",
        "print(\"Συνολικός χρόνος fit και predict: %s seconds\" % (time.time() - start_time),'\\n')\n",
        "\n",
        "classifiers_accuracy['Multi-Layer Perceptron'] = accuracy_score(y_test, preds)\n",
        "\n",
        "fpr, tpr, thresholds = metrics.roc_curve(y_test, preds)\n",
        "classifiers_auc['Multi-Layer Perceptron'] = metrics.auc(fpr, tpr)\n",
        "\n",
        "print(classification_report(y_test, preds))\n",
        "print(\"Multi-Layer Perceptron AUC Score:\",metrics.auc(fpr, tpr))\n"
      ],
      "execution_count": null,
      "outputs": [
        {
          "name": "stdout",
          "text": "Συνολικός χρόνος fit και predict: 97.2107264995575 seconds \n\n              precision    recall  f1-score   support\n\n           0       0.83      0.98      0.90     33400\n           1       0.83      0.30      0.44      9426\n\n    accuracy                           0.83     42826\n   macro avg       0.83      0.64      0.67     42826\nweighted avg       0.83      0.83      0.80     42826\n\nMulti-Layer Perceptron AUC Score: 0.6408167338143572\n",
          "output_type": "stream"
        }
      ]
    },
    {
      "cell_type": "markdown",
      "metadata": {
        "id": "3JzRhQ-oKQrk"
      },
      "source": [
        "#### **Support Vector Machined (SVM)**"
      ]
    },
    {
      "cell_type": "code",
      "metadata": {
        "execution": {
          "iopub.status.busy": "2021-11-29T19:27:25.800532Z",
          "iopub.execute_input": "2021-11-29T19:27:25.800810Z",
          "iopub.status.idle": "2021-11-29T19:33:47.068806Z",
          "shell.execute_reply.started": "2021-11-29T19:27:25.800782Z",
          "shell.execute_reply": "2021-11-29T19:33:47.067896Z"
        },
        "trusted": true,
        "id": "47hBZjADKQrk",
        "outputId": "061fe279-17cd-4fbe-c131-05a46f7a48bb"
      },
      "source": [
        "from sklearn.svm import SVC\n",
        "import time\n",
        "svc = SVC()\n",
        "\n",
        "start_time = time.time()\n",
        "\n",
        "svc.fit(X_train, y_train)\n",
        "preds = svc.predict(X_test)\n",
        "\n",
        "classifiers_time['Support Vector Machines'] = (time.time() - start_time)\n",
        "print(\"Συνολικός χρόνος fit και predict: %s seconds\" % (time.time() - start_time),'\\n')\n",
        "\n",
        "classifiers_accuracy['Support Vector Machines'] = accuracy_score(y_test, preds)\n",
        "\n",
        "fpr, tpr, thresholds = metrics.roc_curve(y_test, preds)\n",
        "classifiers_auc['Support Vector Machines'] = metrics.auc(fpr, tpr)\n",
        "\n",
        "print(classification_report(y_test, preds))\n",
        "print(\"Support Vector Machines AUC Score:\",metrics.auc(fpr, tpr))"
      ],
      "execution_count": null,
      "outputs": [
        {
          "name": "stdout",
          "text": "Συνολικός χρόνος fit και predict: 381.19350600242615 seconds \n\n              precision    recall  f1-score   support\n\n           0       0.84      0.97      0.90     33400\n           1       0.77      0.34      0.48      9426\n\n    accuracy                           0.83     42826\n   macro avg       0.80      0.66      0.69     42826\nweighted avg       0.82      0.83      0.81     42826\n\nSupport Vector Machines AUC Score: 0.6575588733417951\n",
          "output_type": "stream"
        }
      ]
    },
    {
      "cell_type": "markdown",
      "metadata": {
        "id": "P-cIb_pDKQrl"
      },
      "source": [
        "#### Αποτελέσματα Out-of-the-box προσέγγισης"
      ]
    },
    {
      "cell_type": "markdown",
      "metadata": {
        "id": "a5WyZBzUKQrl"
      },
      "source": [
        "Παρακάτω φαίνεται ο συγκριτικός πίνακας όλων των ταξινομητών με τις μετρικές Accuracy και AUC"
      ]
    },
    {
      "cell_type": "code",
      "metadata": {
        "execution": {
          "iopub.status.busy": "2021-11-29T19:34:04.529939Z",
          "iopub.execute_input": "2021-11-29T19:34:04.530814Z",
          "iopub.status.idle": "2021-11-29T19:34:04.538477Z",
          "shell.execute_reply.started": "2021-11-29T19:34:04.530770Z",
          "shell.execute_reply": "2021-11-29T19:34:04.537660Z"
        },
        "trusted": true,
        "id": "77siPyR1KQrl",
        "outputId": "b80ee02a-b6e0-4f71-a16c-f54c320bc76a"
      },
      "source": [
        "print(\"{:<40} {:<30} {:<30}\".format('Classifier', 'Accuracy', 'AUC'))\n",
        "label=[]\n",
        "label2=[]\n",
        "num_ac=[]\n",
        "num_auc=[]\n",
        "for i in range (len(classifiers_accuracy)):\n",
        "  for k, v in classifiers_accuracy.items():\n",
        "      label.append(k)\n",
        "      num_ac.append(v)\n",
        "  for m, l in classifiers_auc.items():\n",
        "      label2.append(m)\n",
        "      num_auc.append(l) \n",
        "  print(\"{:<40} {:<30} {:<30}\".format(label[i], num_ac[i], num_auc[i]))"
      ],
      "execution_count": null,
      "outputs": [
        {
          "name": "stdout",
          "text": "Classifier                               Accuracy                       AUC                           \nUniform (random)                         0.501424368374352              0.5034641792163604            \nConstant 0                               0.7799000607107832             0.5                           \nStratified                               0.6563769672628776             0.5008794981647146            \nMulti-Layer Perceptron                   0.8324849390557139             0.6408167338143572            \nSupport Vector Machines                  0.8327651426703404             0.6575588733417951            \n",
          "output_type": "stream"
        }
      ]
    },
    {
      "cell_type": "markdown",
      "metadata": {
        "id": "rbPcQdr9KQrl"
      },
      "source": [
        "Παρακάτω φαίνεται ο πίνακας των χρόνων του fit και του predict για κάθε έναν από τους παραπάνω ταξινομητές."
      ]
    },
    {
      "cell_type": "code",
      "metadata": {
        "execution": {
          "iopub.status.busy": "2021-11-29T19:33:57.965525Z",
          "iopub.execute_input": "2021-11-29T19:33:57.965801Z",
          "iopub.status.idle": "2021-11-29T19:33:57.973365Z",
          "shell.execute_reply.started": "2021-11-29T19:33:57.965766Z",
          "shell.execute_reply": "2021-11-29T19:33:57.972514Z"
        },
        "trusted": true,
        "id": "KCqEGxFqKQrl",
        "outputId": "ac8321f3-ec12-4b88-b7d4-c09caba27fe6"
      },
      "source": [
        "print(\"{:<40} {:<30}\".format('Classifier', 'Time'))\n",
        "label3=[]\n",
        "time=[]\n",
        "for i in range (len(classifiers_time)):\n",
        "  for k, v in classifiers_time.items():\n",
        "      label3.append(k)\n",
        "      time.append(v)\n",
        "  print(\"{:<40} {:<30}\".format(label3[i], time[i]))"
      ],
      "execution_count": null,
      "outputs": [
        {
          "name": "stdout",
          "text": "Classifier                               Time                          \nUniform (random)                         0.005059719085693359          \nConstant 0                               0.004149198532104492          \nStratified                               0.007112026214599609          \nMulti-Layer Perceptron                   97.21064019203186             \nSupport Vector Machines                  381.1934552192688             \n",
          "output_type": "stream"
        }
      ]
    },
    {
      "cell_type": "markdown",
      "metadata": {
        "id": "9dytVBKgKQrl"
      },
      "source": [
        "Παρακάτων φαίνεται το συγκριτικό γράφημα Bar Plot των ταξινομητών και των μετρικών Accuracy και AUC"
      ]
    },
    {
      "cell_type": "code",
      "metadata": {
        "execution": {
          "iopub.status.busy": "2021-11-29T19:34:00.957774Z",
          "iopub.execute_input": "2021-11-29T19:34:00.958203Z",
          "iopub.status.idle": "2021-11-29T19:34:01.247762Z",
          "shell.execute_reply.started": "2021-11-29T19:34:00.958170Z",
          "shell.execute_reply": "2021-11-29T19:34:01.246987Z"
        },
        "trusted": true,
        "id": "jrpacHkEKQrl",
        "outputId": "1e245be2-8d86-48ba-d0ff-cbff5c5a51de"
      },
      "source": [
        "import matplotlib.pyplot as plt\n",
        "\n",
        "classifiers = list((classifiers_accuracy.keys()))\n",
        "accuracy_values = list(classifiers_accuracy.values())\n",
        "auc_values = list(classifiers_auc.values())\n",
        "\n",
        "x = np.arange (len(classifiers))  # the label locations\n",
        "width = 0.35  # the width of the bars\n",
        "\n",
        "fig, ax = plt.subplots(figsize=(10,5))\n",
        "rects1 = ax.bar(x - width/2, accuracy_values, width, color = (0.5,0.1,0.5,0.6), label='Accuracy')\n",
        "rects2 = ax.bar(x + width/2, auc_values, width, color='gray', label='AUC')\n",
        "\n",
        "# Add some text for labels, title and custom x-axis tick labels, etc.\n",
        "ax.set_ylabel('Metrics Scores')\n",
        "ax.set_title('Scores by classifier')\n",
        "ax.set_xticks(x)\n",
        "ax.set_xticklabels(classifiers, rotation=50, ha='right')\n",
        "ax.legend()\n",
        "\n",
        "\n",
        "fig.tight_layout()\n",
        "\n",
        "plt.show()"
      ],
      "execution_count": null,
      "outputs": [
        {
          "output_type": "display_data",
          "data": {
            "text/plain": "<Figure size 720x360 with 1 Axes>",
            "image/png": "[encoded data removed]"
          },
          "metadata": {
            "needs_background": "light"
          }
        }
      ]
    },
    {
      "cell_type": "markdown",
      "metadata": {
        "id": "EBk0_3-7KQrm"
      },
      "source": [
        "### Εντοπισμός των βέλτιστων υπερπαραμέτρων "
      ]
    },
    {
      "cell_type": "markdown",
      "metadata": {
        "id": "eCzFUcJKKQrn"
      },
      "source": [
        "#### **Multi-Layer Perceptron**"
      ]
    },
    {
      "cell_type": "markdown",
      "metadata": {
        "id": "uOP4cDzQlxek"
      },
      "source": [
        "##### Αναζήτηση βέλτιστων υπερπαραμέτρων"
      ]
    },
    {
      "cell_type": "markdown",
      "metadata": {
        "id": "o4U4SsJDUsar"
      },
      "source": [
        "Για τον ταξινομητή Multi-Layer Perceptron θα εντοπίσουμε τις βέλτιστες υπερπαραμέτρους που αφορούν τη συνάρτηση ενεργοποίησης και το μέγεθος των hidden layers, καθώς και τις υπερπαραμέτρους των μετασχηματιστών του pipeline. \n",
        "\n",
        "Πραγματοποιήθηκαν δοκιμές για διαφορετικές αρχιτεκτονικές, με την top down προσέγγιση, ξεκινώντας αφαιρώντας μετασχηματιστές από το αρχικό pipeline (Selector VarianceThreshold, StandardScaler, RandomOverSampling, PCA, ταξινομητής MLP).\n",
        "\n",
        "Τα διάφορα pipelines που δοκιμάστηκαν για την βελτιστοποίηση των παραμέτρων με Optuna, ήταν τα εξής: \n",
        " \n",
        "* Selector VarianceThreshold, StandardScaler, RandomOverSampling, PCA, ταξινομητής MLP: βέλτιστο AUC γύρω στο 78%\n",
        "MLP: βέλτιστο AUC γύρω στο 76%\n",
        "* RandomOverSampling, PCA, ταξινομητής MLP: βέλτιστο AUC γύρω στο 78%\n",
        "* Selector VarianceThreshold, RandomOverSampling, PCA, ταξινομητής MLP: βέλτιστο AUC γύρω στο 78%\n",
        "* Selector VarianceThreshold, StandardScaler, RandomOverSampling, ταξινομητής MLP: βέλτιστο AUC γύρω στο 76%\n",
        "* Selector VarianceThreshold, StandardScaler, ταξινομητής MLP: βέλτιστο AUC γύρω στο 72% (άρα χωρίς το στάδιο εξισορρόπησης του dataset, υπήρχε αρκετή ελάττωση στην επίδοση\n",
        "* Selector VarianceThreshold, RandomUnderSampling, PCA, ταξινομητής MLP: βέλτιστο AUC γύρω στο 78%\n",
        "\n",
        "Επομένως, παρατηρήσαμε ότι πολλοί από τους συνδυασμούς δίνουν παρόμοια αποτελέσματα AUC. Συμπεράναμε πως το στάδιο εξισορρόπησης του dataset, είτε με OverSampling, είτε με UnderSampling είναι απαραίτητο, όπως επίσης βοηθητικό είναι και το στάδιο εξαγωγής χαρακτηριστικών με τη μέθοδο PCA. \n",
        "\n",
        "Προκειμένου να γίνει η βελτιστοποίηση των υπερπαραμέτρων με σχετικά μικρότερη πολυπλοκότητα, πραγματοποιούμε Stratified Sampling, ώστε να γίνουν οι δοκιμές σε μικρότερα ισορροπημένα υποσύνολα του dataset.\n",
        "\n",
        "Ο τελικός estimator στον οποίο καταλήξαμε για τον συγκεκριμένο ταξινομητή αποτελείται από τα ακόλουθα στάδια/μετασχηματιστές:\n",
        "\n",
        "Selector VarianceThreshold, RandomOverSampling, PCA, ταξινομητής MLP"
      ]
    },
    {
      "cell_type": "code",
      "metadata": {
        "execution": {
          "iopub.status.busy": "2021-11-29T18:53:50.496943Z",
          "iopub.execute_input": "2021-11-29T18:53:50.497231Z",
          "iopub.status.idle": "2021-11-29T18:53:52.668687Z",
          "shell.execute_reply.started": "2021-11-29T18:53:50.497197Z",
          "shell.execute_reply": "2021-11-29T18:53:52.667921Z"
        },
        "trusted": true,
        "id": "b7eAR__QKQro"
      },
      "source": [
        "from sklearn.model_selection import train_test_split\n",
        "from sklearn.model_selection import StratifiedShuffleSplit\n",
        "from sklearn.neural_network import MLPClassifier\n",
        "\n",
        "\n",
        "split=StratifiedShuffleSplit(n_splits=20,test_size=0.3)\n",
        "X = np.array(features)\n",
        "y=np.array(labels)\n",
        "for train_index, test_index in split.split(X, y):\n",
        "    X_train, X_test = X[train_index], X[test_index]\n",
        "    y_train, y_test = y[train_index], y[test_index]\n",
        "\n",
        "def objective(trial):\n",
        "\n",
        "    \n",
        "    classifier_name = trial.suggest_categorical(\"classifier\", [\"MLP\"])\n",
        "\n",
        "    # Sample hyper parameters\n",
        "    vthreshold = trial.suggest_float('vthreshold', 0, 3, step=0.03)\n",
        "    n_components = trial.suggest_int('n_components', 2, 11, step=3)\n",
        "    activation = trial.suggest_categorical('activation',['identity','logistic', 'tanh','relu'])\n",
        "\n",
        "    n_layers = trial.suggest_int('n_layers', 1, 2)\n",
        "    layers = []\n",
        "    for i in range(n_layers):\n",
        "        layers.append(trial.suggest_int(f'n_units_{i}', 10, 20))\n",
        "\n",
        "\n",
        "    # Construct the model\n",
        "    selector= VarianceThreshold(threshold=vthreshold)\n",
        "    scaler = StandardScaler()\n",
        "    ros = RandomUnderSampler()\n",
        "    pca = PCA(n_components=n_components)\n",
        "    mlp = MLPClassifier(hidden_layer_sizes=tuple(layers),activation=activation)\n",
        "    \n",
        "    pipe_mlp = Pipeline(steps=[('selector', selector), ('scaler', scaler), ('sampler', ros), ('pca', pca), ('MLP', mlp)])\n",
        "     \n",
        "    # Train the model\n",
        "    pipe_mlp.fit(X_train,y_train)\n",
        "\n",
        "    # Evaluate the model\n",
        "    y_pred_test = pipe_mlp.predict(X_test)\n",
        "    score = roc_auc_score(y_test,y_pred_test)\n",
        "    print(\"Test Score:\",pipe_mlp.score(X_test,y_test))\n",
        "    print(\"Train Score:\",pipe_mlp.score(X_train,y_train))\n",
        "    print(\"\\n=================\")\n",
        "    return score"
      ],
      "execution_count": null,
      "outputs": []
    },
    {
      "cell_type": "code",
      "metadata": {
        "execution": {
          "iopub.status.busy": "2021-11-29T18:53:57.392594Z",
          "iopub.execute_input": "2021-11-29T18:53:57.392842Z",
          "iopub.status.idle": "2021-11-29T19:00:43.624964Z",
          "shell.execute_reply.started": "2021-11-29T18:53:57.392815Z",
          "shell.execute_reply": "2021-11-29T19:00:43.624130Z"
        },
        "trusted": true,
        "id": "FHIi7zLwKQro",
        "outputId": "6745c340-f3e6-44f3-fc33-5793b5acad59"
      },
      "source": [
        "import optuna\n",
        "\n",
        "# depending on the definition of objective\n",
        "# we can create study object with either minimize or maximize\n",
        "study = optuna.create_study(direction='maximize')\n",
        "\n",
        "# start tuning for the hyper-parameters\n",
        "study.optimize(objective, n_trials=20)"
      ],
      "execution_count": null,
      "outputs": [
        {
          "name": "stderr",
          "text": "\u001b[32m[I 2021-11-29 18:53:57,394]\u001b[0m A new study created in memory with name: no-name-6a1f3a88-c28e-4ddb-a969-ed9acf464693\u001b[0m\n\u001b[32m[I 2021-11-29 18:53:59,859]\u001b[0m Trial 0 finished with value: 0.7493905375120085 and parameters: {'classifier': 'MLP', 'vthreshold': 1.3499999999999999, 'n_components': 5, 'activation': 'identity', 'n_layers': 2, 'n_units_0': 12, 'n_units_1': 10}. Best is trial 0 with value: 0.7493905375120085.\u001b[0m\n",
          "output_type": "stream"
        },
        {
          "name": "stdout",
          "text": "Test Score: 0.7635548498575632\nTrain Score: 0.7630370170224263\n\n=================\n",
          "output_type": "stream"
        },
        {
          "name": "stderr",
          "text": "\u001b[32m[I 2021-11-29 18:54:11,544]\u001b[0m Trial 1 finished with value: 0.7706550242297017 and parameters: {'classifier': 'MLP', 'vthreshold': 0.06, 'n_components': 8, 'activation': 'logistic', 'n_layers': 1, 'n_units_0': 12}. Best is trial 1 with value: 0.7706550242297017.\u001b[0m\n",
          "output_type": "stream"
        },
        {
          "name": "stdout",
          "text": "Test Score: 0.7842665670387148\nTrain Score: 0.7866042210813894\n\n=================\n",
          "output_type": "stream"
        },
        {
          "name": "stderr",
          "text": "\u001b[32m[I 2021-11-29 18:54:13,349]\u001b[0m Trial 2 finished with value: 0.7628846427081375 and parameters: {'classifier': 'MLP', 'vthreshold': 0.32999999999999996, 'n_components': 8, 'activation': 'identity', 'n_layers': 1, 'n_units_0': 20}. Best is trial 1 with value: 0.7706550242297017.\u001b[0m\n",
          "output_type": "stream"
        },
        {
          "name": "stdout",
          "text": "Test Score: 0.7649792182319152\nTrain Score: 0.7651885876689983\n\n=================\n",
          "output_type": "stream"
        },
        {
          "name": "stderr",
          "text": "/opt/conda/lib/python3.7/site-packages/sklearn/neural_network/_multilayer_perceptron.py:585: ConvergenceWarning: Stochastic Optimizer: Maximum iterations (200) reached and the optimization hasn't converged yet.\n  % self.max_iter, ConvergenceWarning)\n",
          "output_type": "stream"
        },
        {
          "name": "stdout",
          "text": "Test Score: 0.7908046513800028\n",
          "output_type": "stream"
        },
        {
          "name": "stderr",
          "text": "\u001b[32m[I 2021-11-29 18:54:55,797]\u001b[0m Trial 3 finished with value: 0.7878847479948499 and parameters: {'classifier': 'MLP', 'vthreshold': 0.75, 'n_components': 11, 'activation': 'tanh', 'n_layers': 2, 'n_units_0': 16, 'n_units_1': 20}. Best is trial 3 with value: 0.7878847479948499.\u001b[0m\n",
          "output_type": "stream"
        },
        {
          "name": "stdout",
          "text": "Train Score: 0.7942798242717184\n\n=================\n",
          "output_type": "stream"
        },
        {
          "name": "stderr",
          "text": "\u001b[32m[I 2021-11-29 18:55:07,832]\u001b[0m Trial 4 finished with value: 0.7589525672269304 and parameters: {'classifier': 'MLP', 'vthreshold': 0.69, 'n_components': 5, 'activation': 'logistic', 'n_layers': 1, 'n_units_0': 14}. Best is trial 3 with value: 0.7878847479948499.\u001b[0m\n",
          "output_type": "stream"
        },
        {
          "name": "stdout",
          "text": "Test Score: 0.7651893709428852\nTrain Score: 0.7637575430063946\n\n=================\n",
          "output_type": "stream"
        },
        {
          "name": "stderr",
          "text": "\u001b[32m[I 2021-11-29 18:55:09,973]\u001b[0m Trial 5 finished with value: 0.7511163684187938 and parameters: {'classifier': 'MLP', 'vthreshold': 3.0, 'n_components': 5, 'activation': 'identity', 'n_layers': 2, 'n_units_0': 18, 'n_units_1': 13}. Best is trial 3 with value: 0.7878847479948499.\u001b[0m\n",
          "output_type": "stream"
        },
        {
          "name": "stdout",
          "text": "Test Score: 0.7565264091906786\nTrain Score: 0.7565823050827104\n\n=================\n",
          "output_type": "stream"
        },
        {
          "name": "stderr",
          "text": "\u001b[32m[I 2021-11-29 18:55:24,074]\u001b[0m Trial 6 finished with value: 0.7839707846844588 and parameters: {'classifier': 'MLP', 'vthreshold': 0.72, 'n_components': 11, 'activation': 'relu', 'n_layers': 1, 'n_units_0': 16}. Best is trial 3 with value: 0.7878847479948499.\u001b[0m\n",
          "output_type": "stream"
        },
        {
          "name": "stdout",
          "text": "Test Score: 0.7876056601130155\nTrain Score: 0.7899566683679086\n\n=================\n",
          "output_type": "stream"
        },
        {
          "name": "stderr",
          "text": "\u001b[32m[I 2021-11-29 18:55:26,122]\u001b[0m Trial 7 finished with value: 0.7506673328890335 and parameters: {'classifier': 'MLP', 'vthreshold': 1.89, 'n_components': 5, 'activation': 'identity', 'n_layers': 1, 'n_units_0': 12}. Best is trial 3 with value: 0.7878847479948499.\u001b[0m\n",
          "output_type": "stream"
        },
        {
          "name": "stdout",
          "text": "Test Score: 0.7581375799747817\nTrain Score: 0.7573428602880102\n\n=================\n",
          "output_type": "stream"
        },
        {
          "name": "stderr",
          "text": "\u001b[32m[I 2021-11-29 18:55:28,676]\u001b[0m Trial 8 finished with value: 0.7676944681993236 and parameters: {'classifier': 'MLP', 'vthreshold': 2.16, 'n_components': 11, 'activation': 'identity', 'n_layers': 2, 'n_units_0': 16, 'n_units_1': 16}. Best is trial 3 with value: 0.7878847479948499.\u001b[0m\n",
          "output_type": "stream"
        },
        {
          "name": "stdout",
          "text": "Test Score: 0.7784056414327745\nTrain Score: 0.7812803346442904\n\n=================\n",
          "output_type": "stream"
        },
        {
          "name": "stderr",
          "text": "\u001b[32m[I 2021-11-29 18:55:40,255]\u001b[0m Trial 9 finished with value: 0.7600311950802253 and parameters: {'classifier': 'MLP', 'vthreshold': 2.25, 'n_components': 5, 'activation': 'relu', 'n_layers': 1, 'n_units_0': 16}. Best is trial 3 with value: 0.7878847479948499.\u001b[0m\n",
          "output_type": "stream"
        },
        {
          "name": "stdout",
          "text": "Test Score: 0.7714939522719844\nTrain Score: 0.7711829635634013\n\n=================\nTest Score: 0.6904917573436697\n",
          "output_type": "stream"
        },
        {
          "name": "stderr",
          "text": "\u001b[32m[I 2021-11-29 18:55:45,388]\u001b[0m Trial 10 finished with value: 0.7036360187673827 and parameters: {'classifier': 'MLP', 'vthreshold': 1.1099999999999999, 'n_components': 2, 'activation': 'tanh', 'n_layers': 2, 'n_units_0': 10, 'n_units_1': 20}. Best is trial 3 with value: 0.7878847479948499.\u001b[0m\n",
          "output_type": "stream"
        },
        {
          "name": "stdout",
          "text": "Train Score: 0.6889829575590181\n\n=================\n",
          "output_type": "stream"
        },
        {
          "name": "stderr",
          "text": "/opt/conda/lib/python3.7/site-packages/sklearn/neural_network/_multilayer_perceptron.py:585: ConvergenceWarning: Stochastic Optimizer: Maximum iterations (200) reached and the optimization hasn't converged yet.\n  % self.max_iter, ConvergenceWarning)\n\u001b[32m[I 2021-11-29 18:56:25,149]\u001b[0m Trial 11 finished with value: 0.7845222934624049 and parameters: {'classifier': 'MLP', 'vthreshold': 0.78, 'n_components': 11, 'activation': 'relu', 'n_layers': 2, 'n_units_0': 18, 'n_units_1': 20}. Best is trial 3 with value: 0.7878847479948499.\u001b[0m\n",
          "output_type": "stream"
        },
        {
          "name": "stdout",
          "text": "Test Score: 0.7980665950590763\nTrain Score: 0.8033664575139852\n\n=================\nTest Score: 0.7916686125251016\n",
          "output_type": "stream"
        },
        {
          "name": "stderr",
          "text": "\u001b[32m[I 2021-11-29 18:57:08,971]\u001b[0m Trial 12 finished with value: 0.7841819325443792 and parameters: {'classifier': 'MLP', 'vthreshold': 0.8999999999999999, 'n_components': 11, 'activation': 'tanh', 'n_layers': 2, 'n_units_0': 19, 'n_units_1': 20}. Best is trial 3 with value: 0.7878847479948499.\u001b[0m\n",
          "output_type": "stream"
        },
        {
          "name": "stdout",
          "text": "Train Score: 0.7955907812703273\n\n=================\n",
          "output_type": "stream"
        },
        {
          "name": "stderr",
          "text": "\u001b[32m[I 2021-11-29 18:57:43,820]\u001b[0m Trial 13 finished with value: 0.7842458249962576 and parameters: {'classifier': 'MLP', 'vthreshold': 0.36, 'n_components': 11, 'activation': 'relu', 'n_layers': 2, 'n_units_0': 18, 'n_units_1': 17}. Best is trial 3 with value: 0.7878847479948499.\u001b[0m\n",
          "output_type": "stream"
        },
        {
          "name": "stdout",
          "text": "Test Score: 0.7851305281838136\nTrain Score: 0.7906271578252124\n\n=================\nTest Score: 0.7853406808947836\n",
          "output_type": "stream"
        },
        {
          "name": "stderr",
          "text": "\u001b[32m[I 2021-11-29 18:58:20,420]\u001b[0m Trial 14 finished with value: 0.7743845096692127 and parameters: {'classifier': 'MLP', 'vthreshold': 1.5899999999999999, 'n_components': 8, 'activation': 'tanh', 'n_layers': 2, 'n_units_0': 14, 'n_units_1': 18}. Best is trial 3 with value: 0.7878847479948499.\u001b[0m\n",
          "output_type": "stream"
        },
        {
          "name": "stdout",
          "text": "Train Score: 0.7863740530587329\n\n=================\n",
          "output_type": "stream"
        },
        {
          "name": "stderr",
          "text": "\u001b[32m[I 2021-11-29 18:58:56,910]\u001b[0m Trial 15 finished with value: 0.7846866613332191 and parameters: {'classifier': 'MLP', 'vthreshold': 1.26, 'n_components': 11, 'activation': 'relu', 'n_layers': 2, 'n_units_0': 18, 'n_units_1': 20}. Best is trial 3 with value: 0.7878847479948499.\u001b[0m\n",
          "output_type": "stream"
        },
        {
          "name": "stdout",
          "text": "Test Score: 0.7944706486713679\nTrain Score: 0.7982927537102085\n\n=================\nTest Score: 0.7824685938448606\n",
          "output_type": "stream"
        },
        {
          "name": "stderr",
          "text": "\u001b[32m[I 2021-11-29 18:59:26,109]\u001b[0m Trial 16 finished with value: 0.7741009115391897 and parameters: {'classifier': 'MLP', 'vthreshold': 1.47, 'n_components': 8, 'activation': 'tanh', 'n_layers': 2, 'n_units_0': 17, 'n_units_1': 14}. Best is trial 3 with value: 0.7878847479948499.\u001b[0m\n",
          "output_type": "stream"
        },
        {
          "name": "stdout",
          "text": "Train Score: 0.7846027600148108\n\n=================\n",
          "output_type": "stream"
        },
        {
          "name": "stderr",
          "text": "\u001b[32m[I 2021-11-29 18:59:34,345]\u001b[0m Trial 17 finished with value: 0.7035518750868418 and parameters: {'classifier': 'MLP', 'vthreshold': 1.14, 'n_components': 2, 'activation': 'relu', 'n_layers': 2, 'n_units_0': 20, 'n_units_1': 18}. Best is trial 3 with value: 0.7878847479948499.\u001b[0m\n",
          "output_type": "stream"
        },
        {
          "name": "stdout",
          "text": "Test Score: 0.7022136085555504\nTrain Score: 0.7024127613157605\n\n=================\nTest Score: 0.7949843552981833\n",
          "output_type": "stream"
        },
        {
          "name": "stderr",
          "text": "\u001b[32m[I 2021-11-29 19:00:14,255]\u001b[0m Trial 18 finished with value: 0.7834577852951027 and parameters: {'classifier': 'MLP', 'vthreshold': 1.7999999999999998, 'n_components': 11, 'activation': 'tanh', 'n_layers': 2, 'n_units_0': 14, 'n_units_1': 18}. Best is trial 3 with value: 0.7878847479948499.\u001b[0m\n",
          "output_type": "stream"
        },
        {
          "name": "stdout",
          "text": "Train Score: 0.7994035646021596\n\n=================\n",
          "output_type": "stream"
        },
        {
          "name": "stderr",
          "text": "\u001b[32m[I 2021-11-29 19:00:43,620]\u001b[0m Trial 19 finished with value: 0.771935954906985 and parameters: {'classifier': 'MLP', 'vthreshold': 0.42, 'n_components': 8, 'activation': 'logistic', 'n_layers': 2, 'n_units_0': 15, 'n_units_1': 12}. Best is trial 3 with value: 0.7878847479948499.\u001b[0m\n",
          "output_type": "stream"
        },
        {
          "name": "stdout",
          "text": "Test Score: 0.7737589314902162\nTrain Score: 0.7758563751538623\n\n=================\n",
          "output_type": "stream"
        }
      ]
    },
    {
      "cell_type": "markdown",
      "metadata": {
        "id": "u1itzyw7VQ71"
      },
      "source": [
        "Το 3o trial έδωσε το μέγιστο αποτέλεσμα AUC με τις βέλτιστες παραμέτρους να είναι οι ακόλουθες: 'vthreshold': 0.69, 'n_components': 5, 'activation': 'logistic', 'n_layers': 1, 'n_units_0': 14.\n"
      ]
    },
    {
      "cell_type": "markdown",
      "metadata": {
        "id": "YzQ2DseBl0m7"
      },
      "source": [
        "##### Βέλτιστο μοντέλο"
      ]
    },
    {
      "cell_type": "code",
      "metadata": {
        "execution": {
          "iopub.status.busy": "2021-11-29T19:34:18.617606Z",
          "iopub.execute_input": "2021-11-29T19:34:18.617881Z",
          "iopub.status.idle": "2021-11-29T19:34:18.622203Z",
          "shell.execute_reply.started": "2021-11-29T19:34:18.617852Z",
          "shell.execute_reply": "2021-11-29T19:34:18.621265Z"
        },
        "trusted": true,
        "id": "a_rGeSoEo26h"
      },
      "source": [
        "opt_classifiers_accuracy = {}\n",
        "opt_classifiers_auc = {}\n",
        "opt_classifiers_time = {}"
      ],
      "execution_count": null,
      "outputs": []
    },
    {
      "cell_type": "code",
      "metadata": {
        "execution": {
          "iopub.status.busy": "2021-11-29T19:37:40.832499Z",
          "iopub.execute_input": "2021-11-29T19:37:40.832805Z",
          "iopub.status.idle": "2021-11-29T19:40:26.948851Z",
          "shell.execute_reply.started": "2021-11-29T19:37:40.832774Z",
          "shell.execute_reply": "2021-11-29T19:40:26.947858Z"
        },
        "trusted": true,
        "id": "wdIX5djDKQro",
        "outputId": "013e12f3-6c7f-4f67-f87d-02a800121a5a"
      },
      "source": [
        "from sklearn.model_selection import train_test_split\n",
        "from sklearn.model_selection import StratifiedShuffleSplit\n",
        "from sklearn.neural_network import MLPClassifier\n",
        "import time \n",
        "\n",
        "X_train, X_test, y_train, y_test = train_test_split(features, labels, test_size=0.3)\n",
        "\n",
        "selector= VarianceThreshold(threshold=0.75)\n",
        "scaler = StandardScaler()\n",
        "ros = RandomUnderSampler()\n",
        "pca = PCA(n_components=11)\n",
        "mlp = MLPClassifier(hidden_layer_sizes=(200), activation='tanh')\n",
        "    \n",
        "pipe_mlp = Pipeline(steps=[('selector', selector), ('scaler', scaler), ('sampler', ros), ('pca', pca), ('MLP', mlp)])\n",
        "     \n",
        "start_time = time.time()\n",
        "pipe_mlp.fit(X_train,y_train)\n",
        "preds = pipe_mlp.predict(X_test)\n",
        "\n",
        "opt_classifiers_time['Optimized Multi-Layer Perceptron'] = (time.time() - start_time)\n",
        "print(\"Συνολικός χρόνος fit και predict: %s seconds\" % (time.time() - start_time),'\\n')\n",
        "\n",
        "opt_classifiers_accuracy['Optimized Multi-Layer Perceptron'] = accuracy_score(y_test, preds)\n",
        "\n",
        "fpr, tpr, thresholds = metrics.roc_curve(y_test, preds)\n",
        "opt_classifiers_auc['Optimized Multi-Layer Perceptron'] = metrics.auc(fpr, tpr)\n",
        "\n",
        "print(classification_report(y_test, preds))\n",
        "print(\"Multi-Layer Perceptron AUC Score:\",metrics.auc(fpr, tpr))\n"
      ],
      "execution_count": null,
      "outputs": [
        {
          "name": "stderr",
          "text": "/opt/conda/lib/python3.7/site-packages/sklearn/neural_network/_multilayer_perceptron.py:585: ConvergenceWarning: Stochastic Optimizer: Maximum iterations (200) reached and the optimization hasn't converged yet.\n  % self.max_iter, ConvergenceWarning)\n",
          "output_type": "stream"
        },
        {
          "name": "stdout",
          "text": "Συνολικός χρόνος fit και predict: 165.95591139793396 seconds \n\n              precision    recall  f1-score   support\n\n           0       0.92      0.81      0.86     33398\n           1       0.53      0.76      0.62      9428\n\n    accuracy                           0.80     42826\n   macro avg       0.72      0.78      0.74     42826\nweighted avg       0.84      0.80      0.81     42826\n\nMulti-Layer Perceptron AUC Score: 0.7833143730860899\n",
          "output_type": "stream"
        }
      ]
    },
    {
      "cell_type": "markdown",
      "metadata": {
        "id": "oa0BPlfnKQrm"
      },
      "source": [
        "#### **Support Vector Machines (SVM)**"
      ]
    },
    {
      "cell_type": "markdown",
      "metadata": {
        "id": "f8pFW9TOloMv"
      },
      "source": [
        "##### Αναζήτηση βέλτιστων υπερπαραμέτρων"
      ]
    },
    {
      "cell_type": "markdown",
      "metadata": {
        "id": "de0wLnF8XYOs"
      },
      "source": [
        "Για τον ταξινομητή Support Vector Machine θα εντοπίσουμε τις βέλτιστες υπερπαραμέτρους που αφορούν την παράμετρο κανονικοποίησης C, τη συνάρτηση πυρήνα, τον συντελεστή gamma, καθώς και τις υπερπαραμέτρους των μετασχηματιστών του pipeline. \n",
        "\n",
        "Πραγματοποιήθηκαν δοκιμές για διαφορετικές αρχιτεκτονικές, με την top down προσέγγιση, ξεκινώντας αφαιρώντας μετασχηματιστές από το αρχικό pipeline (Selector VarianceThreshold, StandardScaler, RandomUnderSampling, PCA, ταξινομητής SVM).\n",
        "\n",
        "Τα pipelines που δοκιμάστηκαν για την βελτιστοποίηση των παραμέτρων με Optuna, ήταν τα εξής: \n",
        "* Selector VarianceThreshold, StandardScaler, RandomOverSampling, PCA, ταξινομητής SVM\n",
        "* Selector VarianceThreshold, StandardScaler, RandomUnderSampling, PCA, ταξινομητής SVM\n",
        "* Selector VarianceThreshold, RandomUnderSampling, PCA, ταξινομητής SVM\n",
        "* StandardScaler, RandomUnderSampling, PCA, ταξινομητής SVM\n",
        "\n",
        "με διάφορες υπερπαραμέτρους για τον κάθε μετασχηματιστή και τον ταξινομητή.\n",
        "Παρατηρήσαμε πως η αφαίερεση των επιμέρους μετασχηματιστών ελάττωσε (αν και λίγο) την επίδοση του μοντέλου. \n",
        "\n",
        "Προκειμένου να γίνει η βελτιστοποίηση των υπερπαραμέτρων με σχετικά μικρότερη πολυπλοκότητα, πραγματοποιούμε Stratified Sampling, ώστε να γίνουν οι δοκιμές σε μικρότερα ισορροπημένα υποσύνολα του dataset.\n",
        "\n",
        "Επειδή το dataset έχει σχετικά μεγάλο πλήθος δειγμάτων, και έχοντας δοκιμάσει και τις δύο μεθόδους για εξισορρόπηση στην βελτιστοποίηση του MLP παραπάνω, όπου δεν υπήρξε μεγάλη διαφορά στην επίδοση είτε με OverSampling, είτε με UnderSampling, θεωρήσαμε πως επιλέγοντας UnderSampling δεν θα χαθεί σημαντικά πολλή πληροφορία, αλλά θα ελαττωθεί η πολυπλοκότητα του μοντέλου.\n",
        "\n",
        "Επομένως, ο τελικός estimator στον οποίο καταλήξαμε για τον συγκεκριμένο ταξινομητή αποτελείται από τα ακόλουθα στάδια/μετασχηματιστές:\n",
        "\n",
        "Selector VarianceThreshold, StandardScaler, RandomUnderSampling, PCA, ταξινομητής SVM με τις υπερπαραμέτρους που φαίνονται στη συνέχεια."
      ]
    },
    {
      "cell_type": "code",
      "metadata": {
        "execution": {
          "iopub.status.busy": "2021-11-29T13:11:20.649736Z",
          "iopub.execute_input": "2021-11-29T13:11:20.649965Z",
          "iopub.status.idle": "2021-11-29T13:11:20.654601Z",
          "shell.execute_reply.started": "2021-11-29T13:11:20.649936Z",
          "shell.execute_reply": "2021-11-29T13:11:20.653821Z"
        },
        "trusted": true,
        "id": "sAbAZrXJKQrm"
      },
      "source": [
        "from sklearn.svm import SVC\n",
        "from sklearn.metrics import accuracy_score\n",
        "from sklearn.metrics import classification_report\n",
        "import time\n",
        "from sklearn import metrics\n",
        "from sklearn.metrics import roc_auc_score"
      ],
      "execution_count": null,
      "outputs": []
    },
    {
      "cell_type": "code",
      "metadata": {
        "execution": {
          "iopub.status.busy": "2021-11-29T13:11:20.667028Z",
          "iopub.execute_input": "2021-11-29T13:11:20.667798Z",
          "iopub.status.idle": "2021-11-29T13:11:20.899510Z",
          "shell.execute_reply.started": "2021-11-29T13:11:20.667720Z",
          "shell.execute_reply": "2021-11-29T13:11:20.898588Z"
        },
        "trusted": true,
        "id": "JXXg6XkQKQrm"
      },
      "source": [
        "from imblearn.pipeline import Pipeline\n",
        "\n",
        "# φέρνουμε τις γνωστές μας κλάσεις για preprocessing\n",
        "from sklearn.feature_selection import VarianceThreshold\n",
        "from sklearn.preprocessing import StandardScaler # φέρνουμε τον StandarScaler ως transformer που έχει .transform kai ΄όχι ως scale()\n",
        "from imblearn.under_sampling import RandomUnderSampler\n",
        "from sklearn.decomposition import PCA\n",
        "\n",
        "selector = VarianceThreshold()\n",
        "scaler = StandardScaler()\n",
        "ros = RandomUnderSampler()\n",
        "pca = PCA()"
      ],
      "execution_count": null,
      "outputs": []
    },
    {
      "cell_type": "code",
      "metadata": {
        "execution": {
          "iopub.status.busy": "2021-11-29T13:11:20.900401Z",
          "iopub.execute_input": "2021-11-29T13:11:20.900606Z",
          "iopub.status.idle": "2021-11-29T13:11:23.124728Z",
          "shell.execute_reply.started": "2021-11-29T13:11:20.900581Z",
          "shell.execute_reply": "2021-11-29T13:11:23.123806Z"
        },
        "trusted": true,
        "id": "MslzdoF3KQrm"
      },
      "source": [
        "from sklearn.model_selection import train_test_split\n",
        "from sklearn.model_selection import StratifiedShuffleSplit\n",
        "\n",
        "#X_train, X_test, y_train, y_test = train_test_split(features, labels, test_size=0.3)\n",
        "split=StratifiedShuffleSplit(n_splits=20,test_size=0.3)\n",
        "X = np.array(features)\n",
        "y=np.array(labels)\n",
        "for train_index, test_index in split.split(X, y):\n",
        "    X_train, X_test = X[train_index], X[test_index]\n",
        "    y_train, y_test = y[train_index], y[test_index]\n",
        "\n",
        "def objective(trial):\n",
        "\n",
        "        # Sample hyper parameters\n",
        "    classifier_name = trial.suggest_categorical(\"classifier\", [\"SVC\"])\n",
        "\n",
        "\n",
        "    # Sample hyper parameters\n",
        "    vthreshold = trial.suggest_float('vthreshold', 0, 0.025, step=0.005)\n",
        "    n_components = trial.suggest_int('n_components', 2, 11, step=3)\n",
        "    C = trial.suggest_loguniform('C', 1e-10, 1)\n",
        "    kernel = trial.suggest_categorical('kernel',['rbf','sigmoid'])\n",
        "    gamma = trial.suggest_loguniform('gamma',0.001,10000)\n",
        "\n",
        "    # Construct the model\n",
        "    selector= VarianceThreshold(threshold=vthreshold)\n",
        "    scaler = StandardScaler()\n",
        "    ros = RandomUnderSampler()\n",
        "    pca = PCA(n_components=n_components)\n",
        "    svc = SVC(C=C, kernel=kernel, degree=degree,gamma=gamma)\n",
        "    \n",
        "    pipe_svc = Pipeline(steps=[('selector', selector), ('scaler', scaler), ('sampler', ros), ('pca', pca), ('SVC', svc)])\n",
        "     \n",
        "    # Train the model\n",
        "    pipe_svc.fit(X_train,y_train)\n",
        "\n",
        "    # Evaluate the model\n",
        "    y_pred_test = pipe_svc.predict(X_test)\n",
        "    score = roc_auc_score(y_test,y_pred_test)\n",
        "    #loss = mean_squared_error(y_test,y_pred_test)\n",
        "    print(\"Test Score:\",pipe_svc.score(X_test,y_test))\n",
        "    print(\"Train Score:\",pipe_svc.score(X_train,y_train))\n",
        "    print(\"\\n=================\")\n",
        "    return score"
      ],
      "execution_count": null,
      "outputs": []
    },
    {
      "cell_type": "code",
      "metadata": {
        "execution": {
          "iopub.status.busy": "2021-11-29T13:11:23.125823Z",
          "iopub.execute_input": "2021-11-29T13:11:23.126031Z",
          "iopub.status.idle": "2021-11-29T17:57:21.652480Z",
          "shell.execute_reply.started": "2021-11-29T13:11:23.126004Z",
          "shell.execute_reply": "2021-11-29T17:57:21.650620Z"
        },
        "trusted": true,
        "id": "Q8W5XcQaKQrn",
        "outputId": "667518b9-9f66-4bd2-d359-484229e34918"
      },
      "source": [
        "import optuna\n",
        "\n",
        "# depending on the definition of objective\n",
        "# we can create study object with either minimize or maximize\n",
        "study = optuna.create_study(direction='maximize')\n",
        "\n",
        "# start tuning for the hyper-parameters\n",
        "study.optimize(objective, n_trials=50)"
      ],
      "execution_count": null,
      "outputs": [
        {
          "name": "stderr",
          "text": "\u001b[32m[I 2021-11-29 13:11:23,667]\u001b[0m A new study created in memory with name: no-name-a8479ede-160b-4774-b95d-f9dd8c7b2575\u001b[0m\n",
          "output_type": "stream"
        },
        {
          "name": "stdout",
          "text": "Test Score: 0.8062625507869051\n",
          "output_type": "stream"
        },
        {
          "name": "stderr",
          "text": "\u001b[32m[I 2021-11-29 13:16:27,481]\u001b[0m Trial 0 finished with value: 0.7078713882139176 and parameters: {'classifier': 'SVC', 'vthreshold': 0.02, 'n_components': 5, 'C': 8.428356572557852e-06, 'kernel': 'rbf', 'degree': 12, 'gamma': 0.004943692625119464}. Best is trial 0 with value: 0.7078713882139176.\u001b[0m\n",
          "output_type": "stream"
        },
        {
          "name": "stdout",
          "text": "Train Score: 0.8090405996377356\n\n=================\nTest Score: 0.7631578947368421\n",
          "output_type": "stream"
        },
        {
          "name": "stderr",
          "text": "\u001b[32m[I 2021-11-29 13:20:50,328]\u001b[0m Trial 1 finished with value: 0.7363652922148358 and parameters: {'classifier': 'SVC', 'vthreshold': 0.005, 'n_components': 5, 'C': 8.443399680115892e-09, 'kernel': 'sigmoid', 'degree': 30, 'gamma': 59.40110349798579}. Best is trial 1 with value: 0.7363652922148358.\u001b[0m\n",
          "output_type": "stream"
        },
        {
          "name": "stdout",
          "text": "Train Score: 0.7664495081409429\n\n=================\nTest Score: 0.7882828188483632\n",
          "output_type": "stream"
        },
        {
          "name": "stderr",
          "text": "\u001b[32m[I 2021-11-29 13:25:12,511]\u001b[0m Trial 2 finished with value: 0.5244306969742643 and parameters: {'classifier': 'SVC', 'vthreshold': 0.025, 'n_components': 2, 'C': 3.082576504225657e-08, 'kernel': 'rbf', 'degree': 49, 'gamma': 0.0013107684331578318}. Best is trial 1 with value: 0.7363652922148358.\u001b[0m\n",
          "output_type": "stream"
        },
        {
          "name": "stdout",
          "text": "Train Score: 0.7891660912466101\n\n=================\nTest Score: 0.7459253724373044\n",
          "output_type": "stream"
        },
        {
          "name": "stderr",
          "text": "\u001b[32m[I 2021-11-29 13:31:59,578]\u001b[0m Trial 3 finished with value: 0.7277462569478876 and parameters: {'classifier': 'SVC', 'vthreshold': 0.0, 'n_components': 5, 'C': 2.3940173363473984e-10, 'kernel': 'sigmoid', 'degree': 21, 'gamma': 6.560153754797992}. Best is trial 1 with value: 0.7363652922148358.\u001b[0m\n",
          "output_type": "stream"
        },
        {
          "name": "stdout",
          "text": "Train Score: 0.7510882944549521\n\n=================\nTest Score: 0.8020361462662868\n",
          "output_type": "stream"
        },
        {
          "name": "stderr",
          "text": "\u001b[32m[I 2021-11-29 13:37:04,042]\u001b[0m Trial 4 finished with value: 0.7136746949961372 and parameters: {'classifier': 'SVC', 'vthreshold': 0.015, 'n_components': 5, 'C': 2.3751311636144082e-08, 'kernel': 'rbf', 'degree': 4, 'gamma': 0.007376935460765784}. Best is trial 1 with value: 0.7363652922148358.\u001b[0m\n",
          "output_type": "stream"
        },
        {
          "name": "stdout",
          "text": "Train Score: 0.8048075094819218\n\n=================\nTest Score: 0.6774155886610937\n",
          "output_type": "stream"
        },
        {
          "name": "stderr",
          "text": "\u001b[32m[I 2021-11-29 13:40:46,155]\u001b[0m Trial 5 finished with value: 0.6786785581695184 and parameters: {'classifier': 'SVC', 'vthreshold': 0.015, 'n_components': 8, 'C': 0.059834432563043764, 'kernel': 'sigmoid', 'degree': 45, 'gamma': 0.054839442191036564}. Best is trial 1 with value: 0.7363652922148358.\u001b[0m\n",
          "output_type": "stream"
        },
        {
          "name": "stdout",
          "text": "Train Score: 0.6816876319713391\n\n=================\nTest Score: 0.7214309064586933\n",
          "output_type": "stream"
        },
        {
          "name": "stderr",
          "text": "\u001b[32m[I 2021-11-29 13:44:42,997]\u001b[0m Trial 6 finished with value: 0.7243140577044114 and parameters: {'classifier': 'SVC', 'vthreshold': 0.025, 'n_components': 8, 'C': 0.00015030631211362372, 'kernel': 'sigmoid', 'degree': 43, 'gamma': 368.32609559154594}. Best is trial 1 with value: 0.7363652922148358.\u001b[0m\n",
          "output_type": "stream"
        },
        {
          "name": "stdout",
          "text": "Train Score: 0.7242086723308014\n\n=================\nTest Score: 0.7804371176388175\n",
          "output_type": "stream"
        },
        {
          "name": "stderr",
          "text": "\u001b[32m[I 2021-11-29 13:49:26,996]\u001b[0m Trial 7 finished with value: 0.5019534517336973 and parameters: {'classifier': 'SVC', 'vthreshold': 0.02, 'n_components': 2, 'C': 1.3224147252495189e-09, 'kernel': 'sigmoid', 'degree': 37, 'gamma': 0.0035173806479104203}. Best is trial 1 with value: 0.7363652922148358.\u001b[0m\n",
          "output_type": "stream"
        },
        {
          "name": "stdout",
          "text": "Train Score: 0.7801995456683379\n\n=================\nTest Score: 0.5739504039602111\n",
          "output_type": "stream"
        },
        {
          "name": "stderr",
          "text": "\u001b[32m[I 2021-11-29 13:51:53,300]\u001b[0m Trial 8 finished with value: 0.5738603265618368 and parameters: {'classifier': 'SVC', 'vthreshold': 0.01, 'n_components': 5, 'C': 0.0306766215551204, 'kernel': 'sigmoid', 'degree': 28, 'gamma': 73.6989834989272}. Best is trial 1 with value: 0.7363652922148358.\u001b[0m\n",
          "output_type": "stream"
        },
        {
          "name": "stdout",
          "text": "Train Score: 0.5728882083921263\n\n=================\nTest Score: 0.8202727315182365\n",
          "output_type": "stream"
        },
        {
          "name": "stderr",
          "text": "\u001b[32m[I 2021-11-29 13:58:23,263]\u001b[0m Trial 9 finished with value: 0.6664198366348205 and parameters: {'classifier': 'SVC', 'vthreshold': 0.015, 'n_components': 11, 'C': 2.5205815341226017e-07, 'kernel': 'rbf', 'degree': 49, 'gamma': 0.0011717488190980492}. Best is trial 1 with value: 0.7363652922148358.\u001b[0m\n",
          "output_type": "stream"
        },
        {
          "name": "stdout",
          "text": "Train Score: 0.8218599577691715\n\n=================\nTest Score: 0.7475365432214075\n",
          "output_type": "stream"
        },
        {
          "name": "stderr",
          "text": "\u001b[32m[I 2021-11-29 14:03:23,371]\u001b[0m Trial 10 finished with value: 0.7327323579434785 and parameters: {'classifier': 'SVC', 'vthreshold': 0.0, 'n_components': 11, 'C': 5.680552223410384e-06, 'kernel': 'sigmoid', 'degree': 31, 'gamma': 7033.594042887964}. Best is trial 1 with value: 0.7363652922148358.\u001b[0m\n",
          "output_type": "stream"
        },
        {
          "name": "stdout",
          "text": "Train Score: 0.7525193391175559\n\n=================\nTest Score: 0.7473964414140942\n",
          "output_type": "stream"
        },
        {
          "name": "stderr",
          "text": "\u001b[32m[I 2021-11-29 14:08:23,324]\u001b[0m Trial 11 finished with value: 0.7327185238883553 and parameters: {'classifier': 'SVC', 'vthreshold': 0.0, 'n_components': 11, 'C': 2.340279737442296e-05, 'kernel': 'sigmoid', 'degree': 31, 'gamma': 5228.050876997734}. Best is trial 1 with value: 0.7363652922148358.\u001b[0m\n",
          "output_type": "stream"
        },
        {
          "name": "stdout",
          "text": "Train Score: 0.7522491418735677\n\n=================\nTest Score: 0.6009900527716807\n",
          "output_type": "stream"
        },
        {
          "name": "stderr",
          "text": "\u001b[32m[I 2021-11-29 14:11:58,442]\u001b[0m Trial 12 finished with value: 0.6152984058849125 and parameters: {'classifier': 'SVC', 'vthreshold': 0.005, 'n_components': 8, 'C': 0.0006761739352521318, 'kernel': 'sigmoid', 'degree': 21, 'gamma': 8725.714177305135}. Best is trial 1 with value: 0.7363652922148358.\u001b[0m\n",
          "output_type": "stream"
        },
        {
          "name": "stdout",
          "text": "Train Score: 0.5988571657309836\n\n=================\nTest Score: 0.7628776911222155\n",
          "output_type": "stream"
        },
        {
          "name": "stderr",
          "text": "\u001b[32m[I 2021-11-29 14:17:03,927]\u001b[0m Trial 13 finished with value: 0.7405184983548597 and parameters: {'classifier': 'SVC', 'vthreshold': 0.005, 'n_components': 11, 'C': 5.855991529045677e-07, 'kernel': 'sigmoid', 'degree': 35, 'gamma': 254.7299328821083}. Best is trial 13 with value: 0.7405184983548597.\u001b[0m\n",
          "output_type": "stream"
        },
        {
          "name": "stdout",
          "text": "Train Score: 0.7657590040729733\n\n=================\nTest Score: 0.7600990052771681\n",
          "output_type": "stream"
        },
        {
          "name": "stderr",
          "text": "\u001b[32m[I 2021-11-29 14:25:39,594]\u001b[0m Trial 14 finished with value: 0.7396866730282163 and parameters: {'classifier': 'SVC', 'vthreshold': 0.005, 'n_components': 8, 'C': 4.084041974855382e-07, 'kernel': 'sigmoid', 'degree': 36, 'gamma': 4.015423029285133}. Best is trial 13 with value: 0.7405184983548597.\u001b[0m\n",
          "output_type": "stream"
        },
        {
          "name": "stdout",
          "text": "Train Score: 0.7638075795330591\n\n=================\nTest Score: 0.7645355625087563\n",
          "output_type": "stream"
        },
        {
          "name": "stderr",
          "text": "\u001b[32m[I 2021-11-29 14:35:41,002]\u001b[0m Trial 15 finished with value: 0.7397953492267892 and parameters: {'classifier': 'SVC', 'vthreshold': 0.005, 'n_components': 11, 'C': 4.0863136478894745e-07, 'kernel': 'sigmoid', 'degree': 36, 'gamma': 0.5990272571683336}. Best is trial 13 with value: 0.7405184983548597.\u001b[0m\n",
          "output_type": "stream"
        },
        {
          "name": "stdout",
          "text": "Train Score: 0.767099982987581\n\n=================\nTest Score: 0.7632512959417177\n",
          "output_type": "stream"
        },
        {
          "name": "stderr",
          "text": "\u001b[32m[I 2021-11-29 14:45:44,629]\u001b[0m Trial 16 finished with value: 0.7405300505367015 and parameters: {'classifier': 'SVC', 'vthreshold': 0.01, 'n_components': 11, 'C': 5.90311167043501e-07, 'kernel': 'sigmoid', 'degree': 39, 'gamma': 0.22215754401335142}. Best is trial 16 with value: 0.7405300505367015.\u001b[0m\n",
          "output_type": "stream"
        },
        {
          "name": "stdout",
          "text": "Train Score: 0.7660191940116284\n\n=================\nTest Score: 0.5962732919254659\n",
          "output_type": "stream"
        },
        {
          "name": "stderr",
          "text": "\u001b[32m[I 2021-11-29 14:52:01,133]\u001b[0m Trial 17 finished with value: 0.599122707634148 and parameters: {'classifier': 'SVC', 'vthreshold': 0.01, 'n_components': 11, 'C': 0.003409844626449976, 'kernel': 'sigmoid', 'degree': 22, 'gamma': 0.540486110757205}. Best is trial 16 with value: 0.7405300505367015.\u001b[0m\n",
          "output_type": "stream"
        },
        {
          "name": "stdout",
          "text": "Train Score: 0.5965554855044182\n\n=================\nTest Score: 0.7260309157988138\n",
          "output_type": "stream"
        },
        {
          "name": "stderr",
          "text": "\u001b[32m[I 2021-11-29 14:58:36,407]\u001b[0m Trial 18 finished with value: 0.7400728094667897 and parameters: {'classifier': 'SVC', 'vthreshold': 0.01, 'n_components': 11, 'C': 1.2338672615308837e-06, 'kernel': 'rbf', 'degree': 40, 'gamma': 0.09663249963585045}. Best is trial 16 with value: 0.7405300505367015.\u001b[0m\n",
          "output_type": "stream"
        },
        {
          "name": "stdout",
          "text": "Train Score: 0.732014370490458\n\n=================\nTest Score: 0.7416756176154672\n",
          "output_type": "stream"
        },
        {
          "name": "stderr",
          "text": "\u001b[32m[I 2021-11-29 15:02:43,935]\u001b[0m Trial 19 finished with value: 0.7359670973930462 and parameters: {'classifier': 'SVC', 'vthreshold': 0.01, 'n_components': 8, 'C': 7.632614969908742e-05, 'kernel': 'sigmoid', 'degree': 15, 'gamma': 590.766465124028}. Best is trial 16 with value: 0.7405300505367015.\u001b[0m\n",
          "output_type": "stream"
        },
        {
          "name": "stdout",
          "text": "Train Score: 0.74371291042461\n\n=================\nTest Score: 0.7600523046747303\n",
          "output_type": "stream"
        },
        {
          "name": "stderr",
          "text": "\u001b[32m[I 2021-11-29 15:08:56,236]\u001b[0m Trial 20 finished with value: 0.7402268422606346 and parameters: {'classifier': 'SVC', 'vthreshold': 0.005, 'n_components': 11, 'C': 2.499203906057016e-09, 'kernel': 'sigmoid', 'degree': 43, 'gamma': 22.49631510633594}. Best is trial 16 with value: 0.7405300505367015.\u001b[0m\n",
          "output_type": "stream"
        },
        {
          "name": "stdout",
          "text": "Train Score: 0.7632471704344171\n\n=================\nTest Score: 0.7618736281698034\n",
          "output_type": "stream"
        },
        {
          "name": "stderr",
          "text": "\u001b[32m[I 2021-11-29 15:14:31,213]\u001b[0m Trial 21 finished with value: 0.7399125816567481 and parameters: {'classifier': 'SVC', 'vthreshold': 0.005, 'n_components': 11, 'C': 1.4639643868446368e-10, 'kernel': 'sigmoid', 'degree': 43, 'gamma': 44.140796869374206}. Best is trial 16 with value: 0.7405300505367015.\u001b[0m\n",
          "output_type": "stream"
        },
        {
          "name": "stdout",
          "text": "Train Score: 0.765128543837001\n\n=================\nTest Score: 0.760332508289357\n",
          "output_type": "stream"
        },
        {
          "name": "stderr",
          "text": "\u001b[32m[I 2021-11-29 15:21:15,681]\u001b[0m Trial 22 finished with value: 0.7403305262663402 and parameters: {'classifier': 'SVC', 'vthreshold': 0.005, 'n_components': 11, 'C': 2.8487472144563953e-09, 'kernel': 'sigmoid', 'degree': 39, 'gamma': 15.92832165730599}. Best is trial 16 with value: 0.7405300505367015.\u001b[0m\n",
          "output_type": "stream"
        },
        {
          "name": "stdout",
          "text": "Train Score: 0.7639276671970539\n\n=================\nTest Score: 0.7604025591930136\n",
          "output_type": "stream"
        },
        {
          "name": "stderr",
          "text": "\u001b[32m[I 2021-11-29 15:30:35,282]\u001b[0m Trial 23 finished with value: 0.7406415068757396 and parameters: {'classifier': 'SVC', 'vthreshold': 0.01, 'n_components': 8, 'C': 5.353505643026747e-08, 'kernel': 'sigmoid', 'degree': 37, 'gamma': 0.7337533264223236}. Best is trial 23 with value: 0.7406415068757396.\u001b[0m\n",
          "output_type": "stream"
        },
        {
          "name": "stdout",
          "text": "Train Score: 0.7631070681597566\n\n=================\nTest Score: 0.7616401251576145\n",
          "output_type": "stream"
        },
        {
          "name": "stderr",
          "text": "\u001b[32m[I 2021-11-29 15:39:55,595]\u001b[0m Trial 24 finished with value: 0.73983884763457 and parameters: {'classifier': 'SVC', 'vthreshold': 0.01, 'n_components': 8, 'C': 9.285146450296878e-08, 'kernel': 'sigmoid', 'degree': 33, 'gamma': 0.5822941412967914}. Best is trial 23 with value: 0.7406415068757396.\u001b[0m\n",
          "output_type": "stream"
        },
        {
          "name": "stdout",
          "text": "Train Score: 0.7650785073103366\n\n=================\nTest Score: 0.7826787465558306\n",
          "output_type": "stream"
        },
        {
          "name": "stderr",
          "text": "\u001b[32m[I 2021-11-29 15:48:34,949]\u001b[0m Trial 25 finished with value: 0.7314387373213891 and parameters: {'classifier': 'SVC', 'vthreshold': 0.015, 'n_components': 8, 'C': 2.130647993295345e-06, 'kernel': 'sigmoid', 'degree': 24, 'gamma': 0.10780932448537298}. Best is trial 23 with value: 0.7406415068757396.\u001b[0m\n",
          "output_type": "stream"
        },
        {
          "name": "stdout",
          "text": "Train Score: 0.7872847178440261\n\n=================\nTest Score: 0.3331620977910615\n",
          "output_type": "stream"
        },
        {
          "name": "stderr",
          "text": "\u001b[32m[I 2021-11-29 15:54:27,080]\u001b[0m Trial 26 finished with value: 0.5626141505918876 and parameters: {'classifier': 'SVC', 'vthreshold': 0.01, 'n_components': 8, 'C': 7.19908597840206e-08, 'kernel': 'rbf', 'degree': 35, 'gamma': 1.9458602834090315}. Best is trial 23 with value: 0.7406415068757396.\u001b[0m\n",
          "output_type": "stream"
        },
        {
          "name": "stdout",
          "text": "Train Score: 0.334484173446616\n\n=================\nTest Score: 0.7614299724466446\n",
          "output_type": "stream"
        },
        {
          "name": "stderr",
          "text": "\u001b[32m[I 2021-11-29 15:59:29,830]\u001b[0m Trial 27 finished with value: 0.7399321203950746 and parameters: {'classifier': 'SVC', 'vthreshold': 0.02, 'n_components': 11, 'C': 1.4891379769270968e-06, 'kernel': 'sigmoid', 'degree': 40, 'gamma': 365.5628627484814}. Best is trial 23 with value: 0.7406415068757396.\u001b[0m\n",
          "output_type": "stream"
        },
        {
          "name": "stdout",
          "text": "Train Score: 0.7648983758143445\n\n=================\nTest Score: 0.6659505907626209\n",
          "output_type": "stream"
        },
        {
          "name": "stderr",
          "text": "\u001b[32m[I 2021-11-29 16:02:43,162]\u001b[0m Trial 28 finished with value: 0.6653585894199475 and parameters: {'classifier': 'SVC', 'vthreshold': 0.0, 'n_components': 11, 'C': 0.3347670465594236, 'kernel': 'sigmoid', 'degree': 29, 'gamma': 0.035473079701389534}. Best is trial 23 with value: 0.7406415068757396.\u001b[0m\n",
          "output_type": "stream"
        },
        {
          "name": "stdout",
          "text": "Train Score: 0.6645651325467591\n\n=================\nTest Score: 0.31233362910381546\n",
          "output_type": "stream"
        },
        {
          "name": "stderr",
          "text": "\u001b[32m[I 2021-11-29 16:08:35,972]\u001b[0m Trial 29 finished with value: 0.5513468950637536 and parameters: {'classifier': 'SVC', 'vthreshold': 0.015, 'n_components': 8, 'C': 1.3018125807317573e-05, 'kernel': 'rbf', 'degree': 26, 'gamma': 1.6702190399323984}. Best is trial 23 with value: 0.7406415068757396.\u001b[0m\n",
          "output_type": "stream"
        },
        {
          "name": "stdout",
          "text": "Train Score: 0.31207781680626856\n\n=================\nTest Score: 0.7633680474478121\n",
          "output_type": "stream"
        },
        {
          "name": "stderr",
          "text": "\u001b[32m[I 2021-11-29 16:16:12,415]\u001b[0m Trial 30 finished with value: 0.7094764163048726 and parameters: {'classifier': 'SVC', 'vthreshold': 0.01, 'n_components': 2, 'C': 4.003607021583342e-06, 'kernel': 'sigmoid', 'degree': 47, 'gamma': 0.27720027007203907}. Best is trial 23 with value: 0.7406415068757396.\u001b[0m\n",
          "output_type": "stream"
        },
        {
          "name": "stdout",
          "text": "Train Score: 0.7673101363995717\n\n=================\nTest Score: 0.7608929155186102\n",
          "output_type": "stream"
        },
        {
          "name": "stderr",
          "text": "\u001b[32m[I 2021-11-29 16:23:16,795]\u001b[0m Trial 31 finished with value: 0.7403098465913731 and parameters: {'classifier': 'SVC', 'vthreshold': 0.005, 'n_components': 11, 'C': 3.242740676418443e-09, 'kernel': 'sigmoid', 'degree': 39, 'gamma': 12.936886160467116}. Best is trial 23 with value: 0.7406415068757396.\u001b[0m\n",
          "output_type": "stream"
        },
        {
          "name": "stdout",
          "text": "Train Score: 0.7641578352197104\n\n=================\nTest Score: 0.7600990052771681\n",
          "output_type": "stream"
        },
        {
          "name": "stderr",
          "text": "\u001b[32m[I 2021-11-29 16:28:24,136]\u001b[0m Trial 32 finished with value: 0.7405988637737296 and parameters: {'classifier': 'SVC', 'vthreshold': 0.005, 'n_components': 11, 'C': 1.0870343184599001e-08, 'kernel': 'sigmoid', 'degree': 33, 'gamma': 153.43260170719824}. Best is trial 23 with value: 0.7406415068757396.\u001b[0m\n",
          "output_type": "stream"
        },
        {
          "name": "stdout",
          "text": "Train Score: 0.7635473895944039\n\n=================\nTest Score: 0.7608929155186102\n",
          "output_type": "stream"
        },
        {
          "name": "stderr",
          "text": "\u001b[32m[I 2021-11-29 16:33:28,464]\u001b[0m Trial 33 finished with value: 0.740461878382292 and parameters: {'classifier': 'SVC', 'vthreshold': 0.005, 'n_components': 11, 'C': 1.6307884256829342e-08, 'kernel': 'sigmoid', 'degree': 33, 'gamma': 202.51962232570042}. Best is trial 23 with value: 0.7406415068757396.\u001b[0m\n",
          "output_type": "stream"
        },
        {
          "name": "stdout",
          "text": "Train Score: 0.7642278863570406\n\n=================\nTest Score: 0.7618035772661468\n",
          "output_type": "stream"
        },
        {
          "name": "stderr",
          "text": "\u001b[32m[I 2021-11-29 16:38:26,548]\u001b[0m Trial 34 finished with value: 0.7405137917928623 and parameters: {'classifier': 'SVC', 'vthreshold': 0.01, 'n_components': 11, 'C': 1.0862147641929805e-07, 'kernel': 'sigmoid', 'degree': 34, 'gamma': 2121.1439747691434}. Best is trial 23 with value: 0.7406415068757396.\u001b[0m\n",
          "output_type": "stream"
        },
        {
          "name": "stdout",
          "text": "Train Score: 0.7652886607223273\n\n=================\nTest Score: 0.7498482230420772\n",
          "output_type": "stream"
        },
        {
          "name": "stderr",
          "text": "\u001b[32m[I 2021-11-29 16:42:53,162]\u001b[0m Trial 35 finished with value: 0.7286657217595497 and parameters: {'classifier': 'SVC', 'vthreshold': 0.0, 'n_components': 8, 'C': 7.748357050440564e-10, 'kernel': 'sigmoid', 'degree': 17, 'gamma': 1080.0962830054746}. Best is trial 23 with value: 0.7406415068757396.\u001b[0m\n",
          "output_type": "stream"
        },
        {
          "name": "stdout",
          "text": "Train Score: 0.7543606832988081\n\n=================\nTest Score: 0.7817680848082941\n",
          "output_type": "stream"
        },
        {
          "name": "stderr",
          "text": "\u001b[32m[I 2021-11-29 16:47:57,789]\u001b[0m Trial 36 finished with value: 0.7301705695834676 and parameters: {'classifier': 'SVC', 'vthreshold': 0.01, 'n_components': 5, 'C': 1.2641064948652518e-08, 'kernel': 'rbf', 'degree': 9, 'gamma': 0.019041848915519948}. Best is trial 23 with value: 0.7406415068757396.\u001b[0m\n",
          "output_type": "stream"
        },
        {
          "name": "stdout",
          "text": "Train Score: 0.7867042941347183\n\n=================\nTest Score: 0.7604492597954514\n",
          "output_type": "stream"
        },
        {
          "name": "stderr",
          "text": "\u001b[32m[I 2021-11-29 16:53:21,758]\u001b[0m Trial 37 finished with value: 0.7401773535387807 and parameters: {'classifier': 'SVC', 'vthreshold': 0.015, 'n_components': 11, 'C': 4.121589525632754e-08, 'kernel': 'sigmoid', 'degree': 27, 'gamma': 60.97478687825127}. Best is trial 23 with value: 0.7406415068757396.\u001b[0m\n",
          "output_type": "stream"
        },
        {
          "name": "stdout",
          "text": "Train Score: 0.7640777767770472\n\n=================\nTest Score: 0.747653294727502\n",
          "output_type": "stream"
        },
        {
          "name": "stderr",
          "text": "\u001b[32m[I 2021-11-29 17:01:04,802]\u001b[0m Trial 38 finished with value: 0.7282842871224595 and parameters: {'classifier': 'SVC', 'vthreshold': 0.0, 'n_components': 8, 'C': 4.799549936741091e-10, 'kernel': 'sigmoid', 'degree': 1, 'gamma': 5.898054983514145}. Best is trial 23 with value: 0.7406415068757396.\u001b[0m\n",
          "output_type": "stream"
        },
        {
          "name": "stdout",
          "text": "Train Score: 0.7520590030722427\n\n=================\nTest Score: 0.7629243917246532\n",
          "output_type": "stream"
        },
        {
          "name": "stderr",
          "text": "\u001b[32m[I 2021-11-29 17:05:10,458]\u001b[0m Trial 39 finished with value: 0.7361015184540091 and parameters: {'classifier': 'SVC', 'vthreshold': 0.005, 'n_components': 5, 'C': 4.899680188689172e-07, 'kernel': 'sigmoid', 'degree': 46, 'gamma': 159.55930904339317}. Best is trial 23 with value: 0.7406415068757396.\u001b[0m\n",
          "output_type": "stream"
        },
        {
          "name": "stdout",
          "text": "Train Score: 0.7663294204769482\n\n=================\nTest Score: 0.3116564703684678\n",
          "output_type": "stream"
        },
        {
          "name": "stderr",
          "text": "\u001b[32m[I 2021-11-29 17:11:44,374]\u001b[0m Trial 40 finished with value: 0.5511406679889832 and parameters: {'classifier': 'SVC', 'vthreshold': 0.025, 'n_components': 11, 'C': 5.104866262619739e-09, 'kernel': 'rbf', 'degree': 38, 'gamma': 1.531756971450131}. Best is trial 23 with value: 0.7406415068757396.\u001b[0m\n",
          "output_type": "stream"
        },
        {
          "name": "stdout",
          "text": "Train Score: 0.3118976853102765\n\n=================\nTest Score: 0.7622705832905244\n",
          "output_type": "stream"
        },
        {
          "name": "stderr",
          "text": "\u001b[32m[I 2021-11-29 17:16:41,556]\u001b[0m Trial 41 finished with value: 0.7409653234190561 and parameters: {'classifier': 'SVC', 'vthreshold': 0.01, 'n_components': 11, 'C': 1.8375128226279687e-07, 'kernel': 'sigmoid', 'degree': 34, 'gamma': 1926.7761209852831}. Best is trial 41 with value: 0.7409653234190561.\u001b[0m\n",
          "output_type": "stream"
        },
        {
          "name": "stdout",
          "text": "Train Score: 0.7650084561730063\n\n=================\nTest Score: 0.7610797179283613\n",
          "output_type": "stream"
        },
        {
          "name": "stderr",
          "text": "\u001b[32m[I 2021-11-29 17:21:39,777]\u001b[0m Trial 42 finished with value: 0.7405056624209425 and parameters: {'classifier': 'SVC', 'vthreshold': 0.01, 'n_components': 11, 'C': 3.398449761584018e-08, 'kernel': 'sigmoid', 'degree': 41, 'gamma': 2484.5082850922026}. Best is trial 41 with value: 0.7409653234190561.\u001b[0m\n",
          "output_type": "stream"
        },
        {
          "name": "stdout",
          "text": "Train Score: 0.7645381128223603\n\n=================\nTest Score: 0.7668238920282071\n",
          "output_type": "stream"
        },
        {
          "name": "stderr",
          "text": "\u001b[32m[I 2021-11-29 17:31:42,669]\u001b[0m Trial 43 finished with value: 0.7397425805104478 and parameters: {'classifier': 'SVC', 'vthreshold': 0.015, 'n_components': 11, 'C': 1.861279563518964e-07, 'kernel': 'sigmoid', 'degree': 33, 'gamma': 0.21309796598095712}. Best is trial 41 with value: 0.7409653234190561.\u001b[0m\n",
          "output_type": "stream"
        },
        {
          "name": "stdout",
          "text": "Train Score: 0.7695517727941398\n\n=================\nTest Score: 0.7604025591930136\n",
          "output_type": "stream"
        },
        {
          "name": "stderr",
          "text": "\u001b[32m[I 2021-11-29 17:36:41,410]\u001b[0m Trial 44 finished with value: 0.74056549098028 and parameters: {'classifier': 'SVC', 'vthreshold': 0.005, 'n_components': 11, 'C': 7.070505415671662e-07, 'kernel': 'sigmoid', 'degree': 30, 'gamma': 1406.6047673616258}. Best is trial 41 with value: 0.7409653234190561.\u001b[0m\n",
          "output_type": "stream"
        },
        {
          "name": "stdout",
          "text": "Train Score: 0.7635874188157354\n\n=================\nTest Score: 0.7608462149161724\n",
          "output_type": "stream"
        },
        {
          "name": "stderr",
          "text": "\u001b[32m[I 2021-11-29 17:41:38,171]\u001b[0m Trial 45 finished with value: 0.7401278648169266 and parameters: {'classifier': 'SVC', 'vthreshold': 0.01, 'n_components': 11, 'C': 3.067334634036623e-05, 'kernel': 'sigmoid', 'degree': 30, 'gamma': 846.3953693846381}. Best is trial 41 with value: 0.7409653234190561.\u001b[0m\n",
          "output_type": "stream"
        },
        {
          "name": "stdout",
          "text": "Train Score: 0.7644080178530327\n\n=================\nTest Score: 0.7525101573810302\n",
          "output_type": "stream"
        },
        {
          "name": "stderr",
          "text": "\u001b[32m[I 2021-11-29 17:44:56,478]\u001b[0m Trial 46 finished with value: 0.713117262551321 and parameters: {'classifier': 'SVC', 'vthreshold': 0.015, 'n_components': 2, 'C': 1.1503231117174043e-08, 'kernel': 'sigmoid', 'degree': 32, 'gamma': 2666.099289875076}. Best is trial 41 with value: 0.7409653234190561.\u001b[0m\n",
          "output_type": "stream"
        },
        {
          "name": "stdout",
          "text": "Train Score: 0.7559218229307394\n\n=================\nTest Score: 0.7607528137112969\n",
          "output_type": "stream"
        },
        {
          "name": "stderr",
          "text": "\u001b[32m[I 2021-11-29 17:49:31,458]\u001b[0m Trial 47 finished with value: 0.7412462112294932 and parameters: {'classifier': 'SVC', 'vthreshold': 0.005, 'n_components': 8, 'C': 4.128729019043446e-06, 'kernel': 'sigmoid', 'degree': 29, 'gamma': 123.37047292043242}. Best is trial 47 with value: 0.7412462112294932.\u001b[0m\n",
          "output_type": "stream"
        },
        {
          "name": "stdout",
          "text": "Train Score: 0.7640477548610486\n\n=================\nTest Score: 0.707000420305422\n",
          "output_type": "stream"
        },
        {
          "name": "stderr",
          "text": "\u001b[32m[I 2021-11-29 17:53:10,082]\u001b[0m Trial 48 finished with value: 0.69700573762279 and parameters: {'classifier': 'SVC', 'vthreshold': 0.005, 'n_components': 8, 'C': 0.00028197968611368704, 'kernel': 'sigmoid', 'degree': 25, 'gamma': 4322.520907163561}. Best is trial 47 with value: 0.7412462112294932.\u001b[0m\n",
          "output_type": "stream"
        },
        {
          "name": "stdout",
          "text": "Train Score: 0.7055650624956218\n\n=================\nTest Score: 0.7471862887031243\n",
          "output_type": "stream"
        },
        {
          "name": "stderr",
          "text": "\u001b[32m[I 2021-11-29 17:57:21,633]\u001b[0m Trial 49 finished with value: 0.7278707634439953 and parameters: {'classifier': 'SVC', 'vthreshold': 0.0, 'n_components': 5, 'C': 5.498862918722034e-06, 'kernel': 'sigmoid', 'degree': 28, 'gamma': 92.38041291204921}. Best is trial 47 with value: 0.7412462112294932.\u001b[0m\n",
          "output_type": "stream"
        },
        {
          "name": "stdout",
          "text": "Train Score: 0.75166871816426\n\n=================\n",
          "output_type": "stream"
        }
      ]
    },
    {
      "cell_type": "markdown",
      "metadata": {
        "id": "xWyr33aeeQpZ"
      },
      "source": [
        "Το 47o trial έδωσε το μέγιστο αποτέλεσμα AUC 74.12% με τις βέλτιστες υπερπαραμέτρους να είναι οι ακόλουθες: 'vthreshold': 0.005, 'n_components': 8, 'C': 4.128729019043446e-06, 'kernel': 'sigmoid', 'gamma': 123.37047292043242"
      ]
    },
    {
      "cell_type": "markdown",
      "metadata": {
        "id": "jcBkYus_ltAf"
      },
      "source": [
        "##### Βέλτιστο μοντέλο"
      ]
    },
    {
      "cell_type": "code",
      "metadata": {
        "execution": {
          "iopub.status.busy": "2021-11-29T19:34:20.773632Z",
          "iopub.execute_input": "2021-11-29T19:34:20.773931Z",
          "iopub.status.idle": "2021-11-29T19:36:14.796354Z",
          "shell.execute_reply.started": "2021-11-29T19:34:20.773896Z",
          "shell.execute_reply": "2021-11-29T19:36:14.795265Z"
        },
        "trusted": true,
        "id": "fePiN2l1KQrn",
        "outputId": "38e8eaff-ac40-466e-c69a-910ca8524016"
      },
      "source": [
        "from sklearn.model_selection import train_test_split\n",
        "from sklearn.model_selection import StratifiedShuffleSplit\n",
        "import time \n",
        "\n",
        "X_train, X_test, y_train, y_test = train_test_split(features, labels, test_size=0.3)\n",
        "\n",
        "selector= VarianceThreshold(threshold=0.005)\n",
        "scaler = StandardScaler()\n",
        "ros = RandomUnderSampler()\n",
        "pca = PCA(n_components=8)\n",
        "svc = SVC(C=4.128729019043446e-06, kernel='sigmoid',gamma=123.3704729204324)\n",
        "    \n",
        "pipe_svc = Pipeline(steps=[('selector', selector), ('scaler', scaler), ('sampler', ros), ('pca', pca), ('SVC', svc)])\n",
        "     \n",
        "start_time = time.time()\n",
        "pipe_svc.fit(X_train,y_train)\n",
        "preds = pipe_svc.predict(X_test)\n",
        "\n",
        "opt_classifiers_time['Optimized Support Vector Machines'] = (time.time() - start_time)\n",
        "print(\"Συνολικός χρόνος fit και predict: %s seconds\" % (time.time() - start_time),'\\n')\n",
        "\n",
        "opt_classifiers_accuracy['Optimized Support Vector Machines'] = accuracy_score(y_test, preds)\n",
        "\n",
        "fpr, tpr, thresholds = metrics.roc_curve(y_test, preds)\n",
        "opt_classifiers_auc['Oprimized Support Vector Machines'] = metrics.auc(fpr, tpr)\n",
        "\n",
        "print(classification_report(y_test, preds))\n",
        "print(\"Support Vector Machines AUC Score:\",metrics.auc(fpr, tpr))\n"
      ],
      "execution_count": null,
      "outputs": [
        {
          "name": "stdout",
          "text": "Συνολικός χρόνος fit και predict: 113.91197299957275 seconds \n\n              precision    recall  f1-score   support\n\n           0       0.90      0.78      0.84     33340\n           1       0.48      0.71      0.57      9486\n\n    accuracy                           0.76     42826\n   macro avg       0.69      0.74      0.70     42826\nweighted avg       0.81      0.76      0.78     42826\n\nSupport Vector Machines AUC Score: 0.7437557333568073\n",
          "output_type": "stream"
        }
      ]
    },
    {
      "cell_type": "markdown",
      "metadata": {
        "id": "iE_VytI_l5U0"
      },
      "source": [
        "### Αποτελέσματα της βελτιστοποίησης"
      ]
    },
    {
      "cell_type": "markdown",
      "metadata": {
        "id": "9sNbW524p8de"
      },
      "source": [
        "Παρακάτω φαίνεται ο αναλυτικός πίνακας των μετρικών \"Accuracy\" και \"AUC\" των δύο ταξινομητών, καθώς και των χρόνων που χρειάστηκαν οι ταξινομητές για τις διαδικασίες του fit και του predict."
      ]
    },
    {
      "cell_type": "code",
      "metadata": {
        "execution": {
          "iopub.status.busy": "2021-11-29T19:40:47.355381Z",
          "iopub.execute_input": "2021-11-29T19:40:47.355716Z",
          "iopub.status.idle": "2021-11-29T19:40:47.367486Z",
          "shell.execute_reply.started": "2021-11-29T19:40:47.355684Z",
          "shell.execute_reply": "2021-11-29T19:40:47.366523Z"
        },
        "trusted": true,
        "id": "xtIdb1n3KQrp",
        "outputId": "3f8d77bc-0638-4d37-df08-94568a8050bf"
      },
      "source": [
        "print(\"{:<40} {:<30} {:<25} {:<30}\".format('Classifier', 'Accuracy', 'AUC', 'Time'))\n",
        "label=[]\n",
        "label2=[]\n",
        "label3=[]\n",
        "time=[]\n",
        "num_ac=[]\n",
        "num_auc=[]\n",
        "columns=len(classifiers_accuracy)+len(opt_classifiers_accuracy)\n",
        "for i in range (columns):\n",
        "  for k, v in classifiers_accuracy.items():\n",
        "      label.append(k)\n",
        "      num_ac.append(v)\n",
        "  for k, v in opt_classifiers_accuracy.items():\n",
        "      label.append(k)\n",
        "      num_ac.append(v)\n",
        "  for m, l in classifiers_auc.items():\n",
        "      label2.append(m)\n",
        "      num_auc.append(l) \n",
        "  for m, l in opt_classifiers_auc.items():\n",
        "      label2.append(m)\n",
        "      num_auc.append(l)\n",
        "  for t,r in classifiers_time.items():\n",
        "      label3.append(t)\n",
        "      time.append(r)\n",
        "  for t,r in opt_classifiers_time.items():\n",
        "      label3.append(t)\n",
        "      time.append(r)\n",
        "  print(\"{:<40} {:<30} {:<25} {:<30}\".format(label[i], num_ac[i], num_auc[i], time[i]))"
      ],
      "execution_count": null,
      "outputs": [
        {
          "name": "stdout",
          "text": "Classifier                               Accuracy                       AUC                       Time                          \nUniform (random)                         0.501424368374352              0.5034641792163604        0.005059719085693359          \nConstant 0                               0.7799000607107832             0.5                       0.004149198532104492          \nStratified                               0.6563769672628776             0.5008794981647146        0.007112026214599609          \nMulti-Layer Perceptron                   0.8324849390557139             0.6408167338143572        97.21064019203186             \nSupport Vector Machines                  0.8327651426703404             0.6575588733417951        381.1934552192688             \nOptimized Support Vector Machines        0.7647924158221641             0.7437557333568073        113.91191697120667            \nOptimized Multi-Layer Perceptron         0.7973894363237286             0.7833143730860899        165.95582151412964            \n",
          "output_type": "stream"
        }
      ]
    },
    {
      "cell_type": "markdown",
      "metadata": {
        "id": "D1JBib2KqYdd"
      },
      "source": [
        "Παρατηρούμε ότι οι out of the box ταξινομητές SVM και MLP δίνουν μεταξύ τους παρόμοιο Accuracy 83% και παρόμοιες τιμές AUC 65.7% και 64% αντίστοιχα. Μετά τη βελτιστοποίηση, η ακρίβεια ελαττώνεται σε 76.5% για το SVM και 79.7% για το MLP, αλλά η μετρική AUC και για τους δύο ταξινομητές αυξάνεται σε 74% από 65.7% για το SVM και σε 78% από 64% για το MLP. \n",
        "\n",
        "Παρατηρούμε πως το βελτιστοποιημένο μοντέλο με ταξινομητή το MLP, είναι συγκριτικά αυτό με την καλύτερη επίδοση με βάση τη μετρική AUC."
      ]
    },
    {
      "cell_type": "markdown",
      "metadata": {
        "id": "bOvgnUZ-qbiz"
      },
      "source": [
        "Παρακάτω φαίνεται το συγκριτικό bar plot για τα αποτελέσματα του Accuracy των out of the box ταξινομητών σε σχέση με τους ταξινομητές με τις βέλτιστες υπερπαραμέτρους."
      ]
    },
    {
      "cell_type": "code",
      "metadata": {
        "execution": {
          "iopub.status.busy": "2021-11-29T19:40:53.036886Z",
          "iopub.execute_input": "2021-11-29T19:40:53.037590Z",
          "iopub.status.idle": "2021-11-29T19:40:53.298082Z",
          "shell.execute_reply.started": "2021-11-29T19:40:53.037550Z",
          "shell.execute_reply": "2021-11-29T19:40:53.297005Z"
        },
        "trusted": true,
        "id": "bkU2BhyJKQrp",
        "outputId": "5d70a697-c1fa-462d-ca5f-4774044b5269"
      },
      "source": [
        "import matplotlib.pyplot as plt\n",
        "\n",
        "classifiers_all = list((classifiers_accuracy.keys()))\n",
        "\n",
        "classifiers=[]\n",
        "classifiers.append(classifiers_all[3])\n",
        "classifiers.append(classifiers_all[4])\n",
        "\n",
        "\n",
        "opt_classifiers = list((opt_classifiers_accuracy.keys()))\n",
        "plot_labels=classifiers\n",
        "\n",
        "all_accuracy_values = list(classifiers_accuracy.values())\n",
        "accuracy_values=[]\n",
        "accuracy_values.append(all_accuracy_values[3])\n",
        "accuracy_values.append(all_accuracy_values[4])\n",
        "\n",
        "\n",
        "opt_accuracy_values=list(opt_classifiers_accuracy.values())\n",
        "\n",
        "x = np.arange (len(plot_labels))  # the label locations\n",
        "width = 0.15  # the width of the bars\n",
        "\n",
        "fig, ax = plt.subplots(figsize=(10,5))\n",
        "rects1 = ax.bar(x - width/2, accuracy_values, width, color = (0.5,0.1,0.5,0.6), label='Out of the box Accuracy')\n",
        "rects2 = ax.bar(x + width/2, opt_accuracy_values, width, color='gray', label='Optimized Accuracy')\n",
        "\n",
        "# Add some text for labels, title and custom x-axis tick labels, etc.\n",
        "ax.set_ylabel('Accuracy Scores')\n",
        "ax.set_title('Accuracy by classifier')\n",
        "ax.set_xticks(x)\n",
        "ax.set_xticklabels(plot_labels, rotation=50, ha='right')\n",
        "ax.legend()\n",
        "\n",
        "\n",
        "fig.tight_layout()\n",
        "\n",
        "plt.show()"
      ],
      "execution_count": null,
      "outputs": [
        {
          "output_type": "display_data",
          "data": {
            "text/plain": "<Figure size 720x360 with 1 Axes>",
            "image/png": "[encoded data removed]"
          },
          "metadata": {
            "needs_background": "light"
          }
        }
      ]
    },
    {
      "cell_type": "markdown",
      "metadata": {
        "id": "lohkKXRCtpWO"
      },
      "source": [
        "Όπως παρατηρήσαμε και προηγουμένως, η ακρίβεια των μοντέλων ελαττώνεται μετά τη βελτιστοποίηση, όμως αυτό αντισταθμίζεται από την αύξηση της μετρική AUC που παρατηρήσαμε προηγουμένως από τον πίνακα."
      ]
    },
    {
      "cell_type": "markdown",
      "metadata": {
        "id": "GB4uX8r2v9Vy"
      },
      "source": [
        "###Σχολιασμός αποτελεσμάτων:"
      ]
    },
    {
      "cell_type": "markdown",
      "metadata": {
        "id": "WiB9aceBwBX7"
      },
      "source": [
        "Για το συγκεκριμένο πρόβλημα, δεν υπήρξε κάποιος εκ των δύο ταξινομητών που να επιτύχει πολύ υψηλό Accuracy ή πολύ υψηλή τιμή AUC, ωστόσο τα αποτελέσματα ήταν ικανοποιητικά.\n",
        "\n",
        "Παρατηρήσαμε πως η βελτιστοποίηση, δεν επέφερε πολύ σημαντική βελτίωση στα μοντέλα, ωστόσο υπήρξε μία αισθητή αύξηση στη μετρική AUC.\n",
        "\n",
        "Τη βέλτιστη επίδοση (με βάση τη μετρική AUC) είχε ο ταξινομητής Multi-Layer Perceptron μετά από τη βελτιστοποίηση των υπερπαραμέτρων. \n",
        "\n",
        "Επομένως, μεταξύ των δύο, ο καλύτερος ταξινομητής για το συγκεκριμένο πρόβλημα, φάνηκε να είναι ο Multi-Layer Percetpron με τη βελτιωμένη αρχιτεκτονική, καθώς είχε τη βέλτιστη επίδοση και σχετικά μικρή χρονική πολυπλοκότητα."
      ]
    }
  ]
}