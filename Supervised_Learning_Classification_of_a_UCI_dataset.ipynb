{
  "nbformat": 4,
  "nbformat_minor": 0,
  "metadata": {
    "colab": {
      "provenance": [],
      "collapsed_sections": [
        "1mqzhbBaAvBd",
        "IXo99VWcRhUq",
        "04WmI7TEWPDo",
        "USX4zfSmgqES",
        "9tgLVC-pyQoI",
        "eIFCqQWx1gP9",
        "QfxARb621uva",
        "p31HHbeO15ym",
        "gnU3O4H6nlEX",
        "zkHkk-A8q0K3",
        "3yUg8htSS9N8",
        "pzwaEYQ2bQ4k",
        "vXcK08Zukx-V",
        "mBkBRCi7nZJ4",
        "zj9IdM_9den6",
        "6rLmvAeHmWHY",
        "5W2aaKrUc-M-",
        "6raNbwJNqmYc",
        "B06cvJOfqhlN",
        "HiPayLY-4LDC",
        "DNMrIRR97xuc",
        "2V0Nyve39ADp",
        "liacQ2bf9InO",
        "RvRLZuWt4TaN",
        "74bXjPi46_1H",
        "A8HzfXyc50I0",
        "fF39Nrofl_Ss",
        "XsBwd881pTMT",
        "Sobxtp1NpbM8",
        "QI5RA3Jwii8k"
      ]
    },
    "kernelspec": {
      "name": "python3",
      "display_name": "Python 3"
    },
    "language_info": {
      "name": "python"
    },
    "accelerator": "GPU"
  },
  "cells": [
    {
      "cell_type": "markdown",
      "metadata": {
        "id": "k3LbxfRpv8wR"
      },
      "source": [
        "# Μέρος 1. UCI dataset - U04: Parkinsons"
      ]
    },
    {
      "cell_type": "markdown",
      "metadata": {
        "id": "UbvuCc0IwOaj"
      },
      "source": [
        "## Εισαγωγή και επισκόπηση\n"
      ]
    },
    {
      "cell_type": "markdown",
      "metadata": {
        "id": "prsphmwPwajU"
      },
      "source": [
        "Παρακάτω γίνεται η εισαγωγλη του dataset στο notebook και η εκτύπωση των πρώτων γραμμών του."
      ]
    },
    {
      "cell_type": "code",
      "metadata": {
        "id": "KIhisXHGaZ-9"
      },
      "source": [
        "import numpy as np\n",
        "import pandas as pd\n",
        "from sklearn.model_selection import train_test_split"
      ],
      "execution_count": null,
      "outputs": []
    },
    {
      "cell_type": "code",
      "metadata": {
        "colab": {
          "base_uri": "https://localhost:8080/"
        },
        "id": "3q5hvQqjYCzG",
        "outputId": "3a5ae3c7-8a19-43eb-e845-93f24b22894c"
      },
      "source": [
        "url = 'https://archive.ics.uci.edu/ml/machine-learning-databases/parkinsons/parkinsons.data'\n",
        "\n",
        "#if we want to print the whole file\n",
        "#pd.set_option('display.max_rows', None)\n",
        "#pd.set_option('display.max_columns', None) \n",
        "\n",
        "data=pd.read_csv(url)\n",
        "print(data.head())"
      ],
      "execution_count": null,
      "outputs": [
        {
          "output_type": "stream",
          "name": "stdout",
          "text": [
            "             name  MDVP:Fo(Hz)  MDVP:Fhi(Hz)  ...   spread2        D2       PPE\n",
            "0  phon_R01_S01_1      119.992       157.302  ...  0.266482  2.301442  0.284654\n",
            "1  phon_R01_S01_2      122.400       148.650  ...  0.335590  2.486855  0.368674\n",
            "2  phon_R01_S01_3      116.682       131.111  ...  0.311173  2.342259  0.332634\n",
            "3  phon_R01_S01_4      116.676       137.871  ...  0.334147  2.405554  0.368975\n",
            "4  phon_R01_S01_5      116.014       141.781  ...  0.234513  2.332180  0.410335\n",
            "\n",
            "[5 rows x 24 columns]\n"
          ]
        }
      ]
    },
    {
      "cell_type": "markdown",
      "metadata": {
        "id": "mpeEJcgQatxt"
      },
      "source": [
        "###**Σύντομη παρουσίαση του dataset δηλαδή ποιο είναι το πρόβλημα που περιγράφει.**\n",
        "\n",
        "Το συγκεκριμένο dataset αποτελείται από ένα σύνολο φωνητικών καταγραφών από 31 ανθρώπους, 23 από τους οποίους πάσχουν από τη νόσο Parkinson's (PD). Κάθε στήλη του πίνακα αφορά μία συγκεκριμένη παράμετρο της φωνητικής μέτρησης και κάθε γραμμή αντιστοιχεί σε μία από τις 195 καταγραφές από τους ασθενείς, των οποίων το όνομα φαίνεται στη στήλη 1. \n",
        "\n",
        "Στόχος των δεδομένων είναι ο διαχωρισμός (ταξινόμηση) του υγιείς από τους ασθενείς με νόσο Parkinson's με βάση τη στήλη \"status\", η οποία περιέχει την τιμή 0 για τους υγιείς ανθρώπους και 1 για τους ασθενείς που έχουν τη νόσο.\n",
        "\n",
        "Τα δεδομένα είναι σε μορφή ASCII CSV. Οι γράμμες του αρχείου CSV περιλαμβάνουν ένα στιγμιότυπο που αντιστοιχεί σε μία φωνητική καταγραφή. Υπάρχουν περίπου 6 καταγραφές ανά ασθενή, το όνομα του οποίου φαίνεται στην πρώτη στήλη \"name\".\n"
      ]
    },
    {
      "cell_type": "markdown",
      "metadata": {
        "id": "uYdo9dOV12gv"
      },
      "source": [
        "###**Χρειάστηκε να κάνετε μετατροπές στα αρχεία plain text για την εισαγωγή του; αν ναι, ποιες είναι αυτές;**\n",
        "\n",
        "Δεν χρειάστηκε κάποια μετατροπή για την εισαγωγή του dataset."
      ]
    },
    {
      "cell_type": "markdown",
      "metadata": {
        "id": "JCOeazVZ2PWM"
      },
      "source": [
        "###**Δώστε το πλήθος δειγμάτων και χαρακτηριστικών, και το είδος όλων των χαρακτηριστικών. Υπάρχουν μη διατεταγμένα χαρακτηριστικά και ποια είναι αυτά;**\n",
        "Το dataset αποτελείται από 195 δείγματα φωνητικών καταγραφών και το πλήθος των χαρακτηριστικών που περιλαμβάνει είναι 23. \n",
        "\n",
        "Τα χαρακτηριστικά είναι τα εξής: \n",
        "MDVP:Fo(Hz) - Μέση θεμελιώδης φωνητική συχνότητα\n",
        "\n",
        "MDVP:Fhi(Hz) - Μέγιστη θεμελιώδης φωνητική συχνότητα\n",
        "\n",
        "MDVP:Flo(Hz) - Ελάχιστη θεμελιώδης φωνητική συχνότητα\n",
        "\n",
        "MDVP:Jitter(%),MDVP:Jitter(Abs),MDVP:RAP,MDVP:PPQ,Jitter:DDP - Μερικές μετρικές διακύμανσης στη θεμελιώδη συχνότητα\n",
        "\n",
        "MDVP:Shimmer,MDVP:Shimmer(dB),Shimmer:APQ3,Shimmer:APQ5,MDVP:APQ,Shimmer:DDA - Μερικές μετρικές διακύμανσης στο πλάτος \n",
        "\n",
        "NHR,HNR - Δύο μετρικές αναλογίας θορύβου προς τονικά στοιχεία στη φωνή\n",
        "status - Ένδειξη (label) για το αν ο ασθενής έχει τη νόσο (status=1) ή δεν έχει τη νόσο (status=0)\n",
        "\n",
        "RPDE,D2 - Δύο μη γραμμικές μετρικές δυναμικής πολυπλοκότητας\n",
        "\n",
        "DFA - Εκθέτης κλιμάκωσης φράκταλ σήματος\n",
        "\n",
        "spread1,spread2,PPE - Τρία μη γραμμικά μέτρα διακύμανσης θεμελιωδών συχνοτήτων\n",
        "\n",
        "Δεν υπάρχουν στο dataset μη διατεταγμένα χαρακτηριστικά."
      ]
    },
    {
      "cell_type": "markdown",
      "metadata": {
        "id": "pLZS8Tgo16gB"
      },
      "source": [
        "###**Υπάρχουν επικεφαλίδες; Αρίθμηση γραμμών;**\n",
        "Σε κάθε στήλη υπάρχει επικεφαλίδα που αντιστοιχεί στο όνομα του χαρακτηριστικού που αφορά η στήλη και οι γραμμές είναι αριθμημένες από το 0 έως το 194 (195 δείγματα φωντητικών καταγραφών).\n"
      ]
    },
    {
      "cell_type": "markdown",
      "metadata": {
        "id": "R_hR2_lf8cTZ"
      },
      "source": [
        "###**Ποιες είναι οι ετικέτες των κλάσεων και σε ποια κολόνα βρίσκονται;**\n",
        "Οι ετικέτες των κλάσεων \"Υγιής\" και \"PD\" παίρνουν τιμές 0 και 1 αντίστοιχα. Οι ετικέτες βρίσκονται στη στήλη status που είναι η στήλη 17 (μετρώντας από τη στήλη 0 που περιέχει τα ονόματα των ασθενών)."
      ]
    },
    {
      "cell_type": "markdown",
      "metadata": {
        "id": "Zu2fT-jY897H"
      },
      "source": [
        "###**Υπάρχουν απουσιάζουσες τιμές; Πόσα είναι τα δείγματα με απουσιάζουσες τιμές και ποιο το ποσοστό τους επί του συνόλου;**\n",
        "\n",
        "Εκτυπώνοντας ολόκληρο το dataset παρατηρήσαμε πως δεν υπάρχουν απουσιάζουσες τιμές."
      ]
    },
    {
      "cell_type": "markdown",
      "metadata": {
        "id": "aMEYhtA49z0-"
      },
      "source": [
        "###**Ποιο είναι το πλήθος των κλάσεων και τα ποσοστά δειγμάτων τους επί του συνόλου; Αν θεωρήσουμε ότι ένα dataset είναι μη ισορροπημένο αν μια οποιαδήποτε κλάση είναι 1.5 φορά πιο συχνή από κάποια άλλη (60%-40% σε binary datasets) εκτιμήστε αν το dataset είναι ισορροπημένο ή όχι.**\n",
        "\n",
        "Υπάρχουν 2 κλάσεις στο συγκεκριμένο dataset (\"Υγιής\" και \"PD\"). Από τους 31 ασεθενείς που εξετάζει το dataset, οι 23 (74.2%) ανήκουν στην κλάση \"PD\" και οι υπόλοιποι 8 (25.8%) ανήκουν στην κλάση \"Υγιής\".\n",
        "Το dataset **δεν είναι ισορροπημένο**, καθώς τα δείγματα της κλάσης \"PD\" είναι σχεδόν τριπλάσια από αυτά της κλάσης μειοψηφίας (\"Υγιής\")."
      ]
    },
    {
      "cell_type": "markdown",
      "metadata": {
        "id": "1mqzhbBaAvBd"
      },
      "source": [
        "##Προετοιμασία"
      ]
    },
    {
      "cell_type": "markdown",
      "metadata": {
        "id": "tNRINkDkQaKr"
      },
      "source": [
        "###**Διαχωρίστε το σύνολο δεδομένων σε σύνολο εκπαίδευσης (train set) και σύνολο (test set) με 30% των δειγμάτων στο test set. Αν το dataset σας είναι από την περιγραφή του ήδη χωρισμένο σε train και test, εφόσον τα ποσοστά είναι κοντά στο 70-30 μπορείτε να τα χρησιμοποιήσετε ως έχουν. Αν δεν είναι, ενοποιήστε train και test και προχωρήστε στο ίδιο split.**"
      ]
    },
    {
      "cell_type": "markdown",
      "metadata": {
        "id": "nowb1Nw2QldQ"
      },
      "source": [
        "###**Αν υπάρχουν απουσιάζουσες τιμές διαχειριστείτε τες και αιτιολογήστε.**\n",
        "Δεν υπάρχουν απουσιάζουσες τιμές."
      ]
    },
    {
      "cell_type": "markdown",
      "metadata": {
        "id": "LRzgEQcvQzT1"
      },
      "source": [
        "###**Διαχειριστείτε τυχόν κατηγορικά ή/και μη διατεταγμένα χαρακτηριστικά και αιτιολογήστε.**"
      ]
    },
    {
      "cell_type": "markdown",
      "metadata": {
        "id": "LKeiqJ5jO5cR"
      },
      "source": [
        "Υπάρχει το κατηγορικό χαρακτηριστικό \"name\" που αφορά το όνομα του ασθενή και βρίσκεται στην 1η στήλη. Η στήλη αυτή έχουμε φροντίσει ώστε να μην συμπεριλαμβάνεται στο train set και στο test set."
      ]
    },
    {
      "cell_type": "markdown",
      "metadata": {
        "id": "Shjw_AwHKxJy"
      },
      "source": [
        "Επειδή οι ασθενείς είναι 31, αλλά τα δείγματα από τις φωνητικές καταγραφές είναι 195, δηλαδή αντιστοιχούν 6 περίπου καταγραφές σε κάθε ασθενή, πρέπει να φορντίσουμε ώστε όλες οι καταγραφές ενός ασθενή να βρίσκονται είτε στο test ή είτε στο train set. Επομένως, δεν μπορεί να γίνει τυχαίος χωρισμός σε train και test set, διότι δεν θέλουμε να υπάρξει ασθενής, του οποίου μερικές καταγραφές βρίσκονται στο train set και οι υπόλοιπες στο test set. \n",
        "Αυτό συμβαίνει, διότι θέλουμε να ταξινομήσουμε τους ασθενείς και όχι τις φωνητικές καταγραφές στις 2 κλάσεις."
      ]
    },
    {
      "cell_type": "code",
      "metadata": {
        "id": "cSsxFp4kFIzn"
      },
      "source": [
        "labels = data.loc[:,'status']\n",
        "features = data.drop(['status'], axis=1)"
      ],
      "execution_count": null,
      "outputs": []
    },
    {
      "cell_type": "code",
      "metadata": {
        "id": "CdgPSQ-yLsj8"
      },
      "source": [
        "#we manually split the dataset into train and test set\n",
        "#train set - 70% = 22 patients, test set - 30% = 9 patients\n",
        "\n",
        "train = data.iloc[0:140, 1:]\n",
        "test = data.iloc[140:, 1:]\n",
        "train_labels = labels.iloc[0:140]\n",
        "test_labels = labels.iloc[140:]"
      ],
      "execution_count": null,
      "outputs": []
    },
    {
      "cell_type": "markdown",
      "metadata": {
        "id": "k-EWSMW3RFG4"
      },
      "source": [
        "##Ταξινόμηση"
      ]
    },
    {
      "cell_type": "markdown",
      "metadata": {
        "id": "funZQjtRQqT_"
      },
      "source": [
        "### Out-of-the-box προσέγγιση"
      ]
    },
    {
      "cell_type": "markdown",
      "metadata": {
        "id": "IXo99VWcRhUq"
      },
      "source": [
        "####**Ταξινομητές Dummy**"
      ]
    },
    {
      "cell_type": "code",
      "metadata": {
        "id": "W40F_9nSVrax"
      },
      "source": [
        "from sklearn.dummy import DummyClassifier\n",
        "from sklearn.metrics import accuracy_score\n",
        "from sklearn.metrics import f1_score\n",
        "import time"
      ],
      "execution_count": null,
      "outputs": []
    },
    {
      "cell_type": "code",
      "metadata": {
        "id": "kv7b_1S7qmPa"
      },
      "source": [
        "classifiers_accuracy = {}\n",
        "classifiers_f1 = {}\n",
        "classifiers_time = {}"
      ],
      "execution_count": null,
      "outputs": []
    },
    {
      "cell_type": "markdown",
      "metadata": {
        "id": "CZ3dmE6xTDr4"
      },
      "source": [
        "Dummy Classifier με strategy=uniform"
      ]
    },
    {
      "cell_type": "code",
      "metadata": {
        "colab": {
          "base_uri": "https://localhost:8080/"
        },
        "id": "AD__HoS1TJTf",
        "outputId": "52197267-ec85-4430-c1dd-54f6cf9f2de6"
      },
      "source": [
        "dc_uniform = DummyClassifier(strategy=\"uniform\")\n",
        "start_time = time.time()\n",
        "#με τη μέθοδο fit \"εκπαιδεύουμε\" τον ταξινομητή στο σύνολο εκπαίδευσης (τα χαρακτηριστικά και τις ετικέτες τους)\n",
        "model = dc_uniform.fit(train, train_labels)\n",
        "\n",
        "#με τη μέθοδο predict παράγουμε προβλέψεις για τα δεδομένα ελέγχου (είσοδος τα χαρακτηριστικά μόνο)\n",
        "preds = dc_uniform.predict(test)\n",
        "classifiers_time['Uniform (random)'] = (time.time() - start_time)\n",
        "print(\"Uniform predictions:\",preds)\n",
        "\n",
        "classifiers_accuracy['Uniform (random)'] = accuracy_score(test_labels, preds)\n",
        "print(\"Uniform Accuracy Score:\",accuracy_score(test_labels, preds))\n",
        "\n",
        "classifiers_f1['Uniform (random)'] = f1_score(test_labels, preds)\n",
        "print(\"Uniform F1 Score:\",f1_score(test_labels, preds))"
      ],
      "execution_count": null,
      "outputs": [
        {
          "output_type": "stream",
          "name": "stdout",
          "text": [
            "Uniform predictions: [1 0 0 1 0 1 1 0 1 0 0 1 0 1 0 0 1 1 0 1 1 0 1 1 1 1 0 0 0 1 0 0 0 0 0 0 1\n",
            " 1 0 1 1 1 0 0 0 0 0 1 1 1 0 0 1 1 0]\n",
            "Uniform Accuracy Score: 0.6181818181818182\n",
            "Uniform F1 Score: 0.631578947368421\n"
          ]
        }
      ]
    },
    {
      "cell_type": "markdown",
      "metadata": {
        "id": "pUAUmRxRUUUT"
      },
      "source": [
        "Dummy Classifier με strategy=constant(0)"
      ]
    },
    {
      "cell_type": "code",
      "metadata": {
        "colab": {
          "base_uri": "https://localhost:8080/"
        },
        "id": "Fn_ELyNBUZm-",
        "outputId": "4287a3bc-9406-4305-9ada-505fa18b2628"
      },
      "source": [
        "dc_constant_0 = DummyClassifier(strategy=\"constant\", constant=0)\n",
        "#με τη μέθοδο fit \"εκπαιδεύουμε\" τον ταξινομητή στο σύνολο εκπαίδευσης (τα χαρακτηριστικά και τις ετικέτες τους)\n",
        "start_time=time.time()\n",
        "model = dc_constant_0.fit(train, train_labels)\n",
        "\n",
        "preds = dc_constant_0.predict(test)\n",
        "classifiers_time['Constant 0'] = (time.time() - start_time)\n",
        "print(\"Constant 0 predictions:\",preds)\n",
        "\n",
        "classifiers_accuracy['Constant 0'] = accuracy_score(test_labels, preds)\n",
        "print(\"Constant 0 Accuracy Score:\",accuracy_score(test_labels, preds))\n",
        "\n",
        "classifiers_f1['Constant 0'] = f1_score(test_labels, preds)\n",
        "print(\"Constant 0 F1 Score:\",f1_score(test_labels, preds))"
      ],
      "execution_count": null,
      "outputs": [
        {
          "output_type": "stream",
          "name": "stdout",
          "text": [
            "Constant 0 predictions: [0 0 0 0 0 0 0 0 0 0 0 0 0 0 0 0 0 0 0 0 0 0 0 0 0 0 0 0 0 0 0 0 0 0 0 0 0\n",
            " 0 0 0 0 0 0 0 0 0 0 0 0 0 0 0 0 0 0]\n",
            "Constant 0 Accuracy Score: 0.43636363636363634\n",
            "Constant 0 F1 Score: 0.0\n"
          ]
        }
      ]
    },
    {
      "cell_type": "markdown",
      "metadata": {
        "id": "lFz1KrXmUm_k"
      },
      "source": [
        "Dummy Classifier με strategy=constant(1)"
      ]
    },
    {
      "cell_type": "code",
      "metadata": {
        "colab": {
          "base_uri": "https://localhost:8080/"
        },
        "id": "_eJneNexUrsy",
        "outputId": "a5d3bed9-a1ca-4863-82aa-5f9bd491d5b6"
      },
      "source": [
        "dc_constant_1 = DummyClassifier(strategy=\"constant\", constant=1)\n",
        "start_time=time.time()\n",
        "model = dc_constant_1.fit(train, train_labels)\n",
        "\n",
        "preds = dc_constant_1.predict(test)\n",
        "classifiers_time['Constant 1'] = (time.time() - start_time)\n",
        "print(\"Constant 1 predictions:\",preds)\n",
        "\n",
        "classifiers_accuracy['Constant 1'] = accuracy_score(test_labels, preds)\n",
        "print(\"Constant 1 Accuracy Score:\",accuracy_score(test_labels, preds))\n",
        "\n",
        "classifiers_f1['Constant 1'] = f1_score(test_labels, preds)\n",
        "print(\"Constant 1 F1 Score:\",f1_score(test_labels, preds))"
      ],
      "execution_count": null,
      "outputs": [
        {
          "output_type": "stream",
          "name": "stdout",
          "text": [
            "Constant 1 predictions: [1 1 1 1 1 1 1 1 1 1 1 1 1 1 1 1 1 1 1 1 1 1 1 1 1 1 1 1 1 1 1 1 1 1 1 1 1\n",
            " 1 1 1 1 1 1 1 1 1 1 1 1 1 1 1 1 1 1]\n",
            "Constant 1 Accuracy Score: 0.5636363636363636\n",
            "Constant 1 F1 Score: 0.7209302325581396\n"
          ]
        }
      ]
    },
    {
      "cell_type": "markdown",
      "metadata": {
        "id": "5jXLQn0BU7jD"
      },
      "source": [
        "Dummy Classifier με strtegy=most frequent"
      ]
    },
    {
      "cell_type": "code",
      "metadata": {
        "colab": {
          "base_uri": "https://localhost:8080/"
        },
        "id": "kwNGLIP5U7Da",
        "outputId": "d82363f7-40a8-4939-f52e-11dd9af57719"
      },
      "source": [
        "dc_most_frequent = DummyClassifier(strategy=\"most_frequent\")\n",
        "start_time=time.time()\n",
        "model = dc_most_frequent.fit(train, train_labels)\n",
        "\n",
        "preds = dc_most_frequent.predict(test)\n",
        "classifiers_time['Most Frequent'] = (time.time() - start_time)\n",
        "print(\"Most Frequent predictions:\",preds)\n",
        "\n",
        "classifiers_accuracy['Most Frequent'] = accuracy_score(test_labels, preds)\n",
        "print(\"Most Frequent Accuracy Score:\",accuracy_score(test_labels, preds))\n",
        "\n",
        "classifiers_f1['Most Frequent'] = f1_score(test_labels, preds)\n",
        "print(\"Most Frequent F1 Score:\",f1_score(test_labels, preds))"
      ],
      "execution_count": null,
      "outputs": [
        {
          "output_type": "stream",
          "name": "stdout",
          "text": [
            "Most Frequent predictions: [1 1 1 1 1 1 1 1 1 1 1 1 1 1 1 1 1 1 1 1 1 1 1 1 1 1 1 1 1 1 1 1 1 1 1 1 1\n",
            " 1 1 1 1 1 1 1 1 1 1 1 1 1 1 1 1 1 1]\n",
            "Most Frequent Accuracy Score: 0.5636363636363636\n",
            "Most Frequent F1 Score: 0.7209302325581396\n"
          ]
        }
      ]
    },
    {
      "cell_type": "markdown",
      "metadata": {
        "id": "IoUDPC8zVP1B"
      },
      "source": [
        "Dummy Classifier με strategy=stratified"
      ]
    },
    {
      "cell_type": "code",
      "metadata": {
        "colab": {
          "base_uri": "https://localhost:8080/"
        },
        "id": "xt8v-FQ3VWdO",
        "outputId": "3fb8edfc-5116-4650-d817-bc4fd4920688"
      },
      "source": [
        "dc_stratified = DummyClassifier(strategy=\"stratified\")\n",
        "start_time=time.time()\n",
        "model = dc_stratified.fit(train, train_labels)\n",
        "\n",
        "preds = dc_stratified.predict(test)\n",
        "classifiers_time['Stratified'] = (time.time() - start_time)\n",
        "print(\"Constant 1 predictions:\",preds)\n",
        "\n",
        "classifiers_accuracy['Stratified'] = accuracy_score(test_labels, preds)\n",
        "print(\"Constant 1 Accuracy Score:\",accuracy_score(test_labels, preds))\n",
        "\n",
        "classifiers_f1['Stratified'] = f1_score(test_labels, preds)\n",
        "print(\"Constant 1 F1 Score:\",f1_score(test_labels, preds))"
      ],
      "execution_count": null,
      "outputs": [
        {
          "output_type": "stream",
          "name": "stdout",
          "text": [
            "Constant 1 predictions: [1 1 0 1 1 0 1 0 1 1 1 1 1 1 1 1 1 1 1 0 1 0 1 1 1 1 1 1 1 1 1 1 0 1 1 1 1\n",
            " 1 1 1 0 0 1 1 1 1 1 1 0 1 1 1 1 0 1]\n",
            "Constant 1 Accuracy Score: 0.4909090909090909\n",
            "Constant 1 F1 Score: 0.631578947368421\n"
          ]
        }
      ]
    },
    {
      "cell_type": "code",
      "metadata": {
        "colab": {
          "base_uri": "https://localhost:8080/"
        },
        "id": "g_dLc311nhkk",
        "outputId": "cb02067d-f4cc-4ce7-d8fa-c86e682b5303"
      },
      "source": [
        "print(\"{:<25} {:<30} {:<30}\".format('Dummy Classifier', 'Accuracy', 'F1'))\n",
        "label=[]\n",
        "label2=[]\n",
        "num_ac=[]\n",
        "num_f1=[]\n",
        "for i in range (len(classifiers_accuracy.keys())):\n",
        "  for k, v in classifiers_accuracy.items():\n",
        "      label.append(k)\n",
        "      num_ac.append(v)\n",
        "  for m, l in classifiers_f1.items():\n",
        "      label2.append(m)\n",
        "      num_f1.append(l) \n",
        "  print(\"{:<25} {:<30} {:<30}\".format(label[i], num_ac[i], num_f1[i]))"
      ],
      "execution_count": null,
      "outputs": [
        {
          "output_type": "stream",
          "name": "stdout",
          "text": [
            "Dummy Classifier          Accuracy                       F1                            \n",
            "Uniform (random)          0.6181818181818182             0.631578947368421             \n",
            "Constant 0                0.43636363636363634            0.0                           \n",
            "Constant 1                0.5636363636363636             0.7209302325581396            \n",
            "Most Frequent             0.5636363636363636             0.7209302325581396            \n",
            "Stratified                0.4909090909090909             0.631578947368421             \n"
          ]
        }
      ]
    },
    {
      "cell_type": "markdown",
      "metadata": {
        "id": "00JCw5HcV1cp"
      },
      "source": [
        "Παρατηρούμε ότι όλοι οι Dummy Classifiers έχουν σχετικά χαμηλό accuracy (<57%)"
      ]
    },
    {
      "cell_type": "markdown",
      "metadata": {
        "id": "04WmI7TEWPDo"
      },
      "source": [
        "####**Gaussian Naive Bayes (GNB)**"
      ]
    },
    {
      "cell_type": "code",
      "metadata": {
        "colab": {
          "base_uri": "https://localhost:8080/"
        },
        "id": "rwKt7mvSWiL8",
        "outputId": "d6984bf9-fa90-4d6e-e153-3921f7d635ac"
      },
      "source": [
        "from sklearn.naive_bayes import GaussianNB\n",
        "\n",
        "gnb = GaussianNB()\n",
        "start_time = time.time()\n",
        "# κάνουμε εκπαίδευση (fit) δηλαδή ουσιαστικά υπολογίζουμε μέση τιμή και διακύμανση για όλα τα χαρακτηριστικά και κλάσεις στο training set\n",
        "model = gnb.fit(train, train_labels)\n",
        "preds = gnb.predict(test)\n",
        "\n",
        "print(\"Συνολικός χρόνος fit και predict: %s seconds\" % (time.time() - start_time))\n",
        "\n",
        "classifiers_time['Out of the Box GNB'] = (time.time() - start_time)\n",
        "\n",
        "#Αποθηκεύουμε την τιμή της στον πίνακά μας με τα αποτελέσματα από τα άλλα classifiers\n",
        "classifiers_accuracy['Gaussian Naive Bayes'] = accuracy_score(test_labels, preds)\n",
        "print(\"Gaussian Naive Bayes Accuracy Score:\",accuracy_score(test_labels, preds),'\\n')\n",
        "classifiers_f1['Gaussian Naive Bayes'] = f1_score(test_labels, preds)\n",
        "print(\"Gaussian Naive Bayes F1 Score:\",f1_score(test_labels, preds),'\\n\\n')"
      ],
      "execution_count": null,
      "outputs": [
        {
          "output_type": "stream",
          "name": "stdout",
          "text": [
            "Συνολικός χρόνος fit και predict: 0.006203651428222656 seconds\n",
            "Gaussian Naive Bayes Accuracy Score: 1.0 \n",
            "\n",
            "Gaussian Naive Bayes F1 Score: 1.0 \n",
            "\n",
            "\n"
          ]
        }
      ]
    },
    {
      "cell_type": "markdown",
      "metadata": {
        "id": "USX4zfSmgqES"
      },
      "source": [
        "####**KNearestNeighbors (kNN)**"
      ]
    },
    {
      "cell_type": "markdown",
      "metadata": {
        "id": "9tgLVC-pyQoI"
      },
      "source": [
        "##### for k=3"
      ]
    },
    {
      "cell_type": "code",
      "metadata": {
        "colab": {
          "base_uri": "https://localhost:8080/"
        },
        "id": "iQeJJweOgxDs",
        "outputId": "d96cdc1b-3c4d-47d1-b2dc-1b33555183af"
      },
      "source": [
        "from sklearn.neighbors import KNeighborsClassifier\n",
        "from sklearn.metrics import accuracy_score\n",
        "from sklearn.metrics import f1_score\n",
        "from sklearn.metrics import confusion_matrix\n",
        "from sklearn.metrics import classification_report\n",
        "\n",
        "\n",
        "knn = KNeighborsClassifier(n_neighbors=3)\n",
        "start_time = time.time()\n",
        "knn.fit(train, train_labels)\n",
        "preds=(knn.predict(test))\n",
        "\n",
        "print(\"Συνολικός χρόνος fit και predict: %s seconds\" % (time.time() - start_time))\n",
        "\n",
        "classifiers_time['Out of the Box KNN with neighbours=3'] = (time.time() - start_time)\n",
        "  \n",
        "  # Compute confusion matrix\n",
        "cnf_matrix = confusion_matrix(test_labels, preds)\n",
        "\n",
        "classifiers_accuracy['KNN with neighbours=3'] = accuracy_score(test_labels, preds)\n",
        "print(\"KNN_3 Accuracy Score:\",accuracy_score(test_labels, preds),'\\n')\n",
        "\n",
        "classifiers_f1['KNN with neighbours=3'] = f1_score(test_labels, preds)\n",
        "print(\"KNN_3 F1 Score:\",f1_score(test_labels, preds),'\\n\\n')"
      ],
      "execution_count": null,
      "outputs": [
        {
          "output_type": "stream",
          "name": "stdout",
          "text": [
            "Συνολικός χρόνος fit και predict: 0.01227569580078125 seconds\n",
            "KNN_3 Accuracy Score: 0.6181818181818182 \n",
            "\n",
            "KNN_3 F1 Score: 0.7272727272727272 \n",
            "\n",
            "\n"
          ]
        }
      ]
    },
    {
      "cell_type": "markdown",
      "metadata": {
        "id": "eIFCqQWx1gP9"
      },
      "source": [
        "#####for k=5"
      ]
    },
    {
      "cell_type": "code",
      "metadata": {
        "colab": {
          "base_uri": "https://localhost:8080/"
        },
        "id": "9xB-gMLa1pqu",
        "outputId": "33d392f5-4e0a-4ba4-e194-9e8353d54d38"
      },
      "source": [
        "knn = KNeighborsClassifier(n_neighbors=5)\n",
        "start_time = time.time()\n",
        "knn.fit(train, train_labels)\n",
        "preds=(knn.predict(test))\n",
        "\n",
        "print(\"Συνολικός χρόνος fit και predict: %s seconds\" % (time.time() - start_time))\n",
        "\n",
        "classifiers_time['Out of the Box KNN with neighbours=5'] = (time.time() - start_time)\n",
        "  # Compute confusion matrix\n",
        "cnf_matrix = confusion_matrix(test_labels, preds)\n",
        "\n",
        "classifiers_accuracy['KNN with neighbours=5'] = accuracy_score(test_labels, preds)\n",
        "print(\"KNN_5 Accuracy Score:\",accuracy_score(test_labels, preds),'\\n')\n",
        "\n",
        "classifiers_f1['KNN with neighbours=5'] = f1_score(test_labels, preds)\n",
        "print(\"KNN_5 F1 Score:\",f1_score(test_labels, preds),'\\n\\n')"
      ],
      "execution_count": null,
      "outputs": [
        {
          "output_type": "stream",
          "name": "stdout",
          "text": [
            "Συνολικός χρόνος fit και predict: 0.012619256973266602 seconds\n",
            "KNN_5 Accuracy Score: 0.6181818181818182 \n",
            "\n",
            "KNN_5 F1 Score: 0.7341772151898733 \n",
            "\n",
            "\n"
          ]
        }
      ]
    },
    {
      "cell_type": "markdown",
      "metadata": {
        "id": "QfxARb621uva"
      },
      "source": [
        "#####for k=9"
      ]
    },
    {
      "cell_type": "code",
      "metadata": {
        "colab": {
          "base_uri": "https://localhost:8080/"
        },
        "id": "nrcSSu3-1w_A",
        "outputId": "8bedec2c-82d8-40b7-f07f-7afb6935939d"
      },
      "source": [
        "knn = KNeighborsClassifier(n_neighbors=9)\n",
        "start_time = time.time()\n",
        "knn.fit(train, train_labels)\n",
        "preds=(knn.predict(test))\n",
        "\n",
        "print(\"Συνολικός χρόνος fit και predict: %s seconds\" % (time.time() - start_time))\n",
        "\n",
        "classifiers_time['Out of the Box KNN with neighbours=9'] = (time.time() - start_time)\n",
        "  \n",
        "# Compute confusion matrix\n",
        "cnf_matrix = confusion_matrix(test_labels, preds)\n",
        "\n",
        "classifiers_accuracy['KNN with neighbours=9'] = accuracy_score(test_labels, preds)\n",
        "print(\"KNN_9 Accuracy Score:\",accuracy_score(test_labels, preds),'\\n')\n",
        "\n",
        "classifiers_f1['KNN with neighbours=9'] = f1_score(test_labels, preds)\n",
        "print(\"KNN_9 F1 Score:\",f1_score(test_labels, preds),'\\n\\n')"
      ],
      "execution_count": null,
      "outputs": [
        {
          "output_type": "stream",
          "name": "stdout",
          "text": [
            "Συνολικός χρόνος fit και predict: 0.01339864730834961 seconds\n",
            "KNN_9 Accuracy Score: 0.6363636363636364 \n",
            "\n",
            "KNN_9 F1 Score: 0.7560975609756097 \n",
            "\n",
            "\n"
          ]
        }
      ]
    },
    {
      "cell_type": "markdown",
      "metadata": {
        "id": "p31HHbeO15ym"
      },
      "source": [
        "#####for k=13"
      ]
    },
    {
      "cell_type": "code",
      "metadata": {
        "colab": {
          "base_uri": "https://localhost:8080/"
        },
        "id": "t0jzpS9b18pc",
        "outputId": "0181165f-f5db-4d6f-cd6f-81cbcec09684"
      },
      "source": [
        "knn = KNeighborsClassifier(n_neighbors=13)\n",
        "start_time = time.time()\n",
        "knn.fit(train, train_labels)\n",
        "preds=(knn.predict(test))\n",
        "\n",
        "print(\"Συνολικός χρόνος fit και predict: %s seconds\" % (time.time() - start_time))\n",
        "\n",
        "classifiers_time['Out of the Box KNN with neighbours=13'] = (time.time() - start_time)\n",
        "  \n",
        "  # Compute confusion matrix\n",
        "cnf_matrix = confusion_matrix(test_labels, preds)\n",
        "\n",
        "classifiers_accuracy['KNN with neighbours=13'] = accuracy_score(test_labels, preds)\n",
        "print(\"KNN_13 Accuracy Score:\",accuracy_score(test_labels, preds),'\\n')\n",
        "\n",
        "classifiers_f1['KNN with neighbours=13'] = f1_score(test_labels, preds)\n",
        "print(\"KNN_13 F1 Score:\",f1_score(test_labels, preds),'\\n\\n')"
      ],
      "execution_count": null,
      "outputs": [
        {
          "output_type": "stream",
          "name": "stdout",
          "text": [
            "Συνολικός χρόνος fit και predict: 0.015090703964233398 seconds\n",
            "KNN_13 Accuracy Score: 0.6181818181818182 \n",
            "\n",
            "KNN_13 F1 Score: 0.7407407407407407 \n",
            "\n",
            "\n"
          ]
        }
      ]
    },
    {
      "cell_type": "markdown",
      "metadata": {
        "id": "gnU3O4H6nlEX"
      },
      "source": [
        "####**Logistic Regression**"
      ]
    },
    {
      "cell_type": "code",
      "metadata": {
        "colab": {
          "base_uri": "https://localhost:8080/"
        },
        "id": "JQjd0PcRnoMA",
        "outputId": "e9c3a0b6-8772-4dc5-92c0-e396a27e135f"
      },
      "source": [
        "from sklearn.linear_model import LogisticRegression\n",
        "lr = LogisticRegression(solver='saga', max_iter=500)\n",
        "start_time = time.time()\n",
        "lr.fit(train, train_labels)\n",
        "lr_pred = lr.predict(test)\n",
        "\n",
        "print(\"Συνολικός χρόνος fit και predict: %s seconds\" % (time.time() - start_time))\n",
        "\n",
        "classifiers_time['Out of the Box Logistic Regression'] = (time.time() - start_time)\n",
        "\n",
        "classifiers_accuracy['Logistic Regression'] = accuracy_score(test_labels, lr_pred)\n",
        "print(\"Logistic Regression Accuracy Score:\",accuracy_score(test_labels, lr_pred),'\\n')\n",
        "\n",
        "classifiers_f1['Logistic Regression'] = f1_score(test_labels, lr_pred)\n",
        "print(\"Logistic Regression F1 Score:\",f1_score(test_labels, lr_pred),'\\n\\n')\n"
      ],
      "execution_count": null,
      "outputs": [
        {
          "output_type": "stream",
          "name": "stdout",
          "text": [
            "Συνολικός χρόνος fit και predict: 0.04213261604309082 seconds\n",
            "Logistic Regression Accuracy Score: 0.6181818181818182 \n",
            "\n",
            "Logistic Regression F1 Score: 0.7469879518072289 \n",
            "\n",
            "\n"
          ]
        },
        {
          "output_type": "stream",
          "name": "stderr",
          "text": [
            "/usr/local/lib/python3.7/dist-packages/sklearn/linear_model/_sag.py:354: ConvergenceWarning: The max_iter was reached which means the coef_ did not converge\n",
            "  ConvergenceWarning,\n"
          ]
        }
      ]
    },
    {
      "cell_type": "markdown",
      "metadata": {
        "id": "zkHkk-A8q0K3"
      },
      "source": [
        "#### Αποτελέσματα Out-of-the-box προσέγγισης"
      ]
    },
    {
      "cell_type": "markdown",
      "metadata": {
        "id": "-C9HD3BRpOlE"
      },
      "source": [
        "Παρακάτω φαίνεται ο συγκριτικός πίνακας όλων των ταξινομητών με τις μετρικές Accuracy και F1"
      ]
    },
    {
      "cell_type": "code",
      "metadata": {
        "colab": {
          "base_uri": "https://localhost:8080/"
        },
        "id": "v0d5CDqwnJLA",
        "outputId": "5daf9eae-a5d3-4f13-bfb2-cb6efb7060e2"
      },
      "source": [
        "print(\"{:<25} {:<30} {:<30}\".format('Classifier', 'Accuracy', 'F1'))\n",
        "label=[]\n",
        "label2=[]\n",
        "num_ac=[]\n",
        "num_f1=[]\n",
        "for i in range (len(classifiers_accuracy)):\n",
        "  for k, v in classifiers_accuracy.items():\n",
        "      label.append(k)\n",
        "      num_ac.append(v)\n",
        "  for m, l in classifiers_f1.items():\n",
        "      label2.append(m)\n",
        "      num_f1.append(l) \n",
        "  print(\"{:<25} {:<30} {:<30}\".format(label[i], num_ac[i], num_f1[i]))"
      ],
      "execution_count": null,
      "outputs": [
        {
          "output_type": "stream",
          "name": "stdout",
          "text": [
            "Classifier                Accuracy                       F1                            \n",
            "Uniform (random)          0.5636363636363636             0.5862068965517241            \n",
            "Constant 0                0.43636363636363634            0.0                           \n",
            "Constant 1                0.5636363636363636             0.7209302325581396            \n",
            "Most Frequent             0.5636363636363636             0.7209302325581396            \n",
            "Stratified                0.509090909090909              0.6582278481012658            \n",
            "Gaussian Naive Bayes      1.0                            1.0                           \n",
            "KNN with neighbours=3     0.6181818181818182             0.7272727272727272            \n",
            "KNN with neighbours=5     0.6181818181818182             0.7341772151898733            \n",
            "KNN with neighbours=9     0.6363636363636364             0.7560975609756097            \n",
            "KNN with neighbours=13    0.6181818181818182             0.7407407407407407            \n",
            "Logistic Regression       0.6181818181818182             0.7469879518072289            \n"
          ]
        }
      ]
    },
    {
      "cell_type": "markdown",
      "metadata": {
        "id": "0HmxWeKG3SSR"
      },
      "source": [
        "Παρακάτω φαίνεται ο πίνακας των χρόνων του fit και του predict για κάθε έναν από τους παραπάνω ταξινομητές."
      ]
    },
    {
      "cell_type": "code",
      "metadata": {
        "colab": {
          "base_uri": "https://localhost:8080/"
        },
        "id": "uZhjXYRr2woU",
        "outputId": "32a64644-001a-4fd0-a43b-cb8fb56f1b11"
      },
      "source": [
        "print(\"{:<40} {:<30}\".format('Classifier', 'Time'))\n",
        "label3=[]\n",
        "time=[]\n",
        "for i in range (len(classifiers_time)):\n",
        "  for k, v in classifiers_time.items():\n",
        "      label3.append(k)\n",
        "      time.append(v)\n",
        "  print(\"{:<40} {:<30}\".format(label3[i], time[i]))"
      ],
      "execution_count": null,
      "outputs": [
        {
          "output_type": "stream",
          "name": "stdout",
          "text": [
            "Classifier                               Time                          \n",
            "Uniform (random)                         0.0007486343383789062         \n",
            "Constant 0                               0.0007612705230712891         \n",
            "Constant 1                               0.0005514621734619141         \n",
            "Most Frequent                            0.0005919933319091797         \n",
            "Stratified                               0.001013040542602539          \n",
            "Out of the Box GNB                       0.008821964263916016          \n",
            "Out of the Box KNN with neighbours=3     0.013222694396972656          \n",
            "Out of the Box KNN with neighbours=5     0.012847185134887695          \n",
            "Out of the Box KNN with neighbours=9     0.013546466827392578          \n",
            "Out of the Box KNN with neighbours=13    0.015419483184814453          \n",
            "Out of the Box Logistic Regression       0.04231095314025879           \n"
          ]
        }
      ]
    },
    {
      "cell_type": "markdown",
      "metadata": {
        "id": "6h5Sh0pepX_9"
      },
      "source": [
        "Παρακάτων φαίνεται το συγκριτικό γράφημα Bar Plot των ταξινομητών και των μετρικών Accuracy και F1"
      ]
    },
    {
      "cell_type": "code",
      "metadata": {
        "colab": {
          "base_uri": "https://localhost:8080/"
        },
        "id": "R5ELPaJZwWKU",
        "outputId": "95e9b18e-107a-4eca-bc62-26182e807dda"
      },
      "source": [
        "import matplotlib.pyplot as plt\n",
        "\n",
        "classifiers = list((classifiers_accuracy.keys()))\n",
        "accuracy_values = list(classifiers_accuracy.values())\n",
        "f1_values = list(classifiers_f1.values())\n",
        "\n",
        "x = np.arange (len(classifiers))  # the label locations\n",
        "width = 0.35  # the width of the bars\n",
        "\n",
        "fig, ax = plt.subplots(figsize=(10,5))\n",
        "rects1 = ax.bar(x - width/2, accuracy_values, width, color = (0.5,0.1,0.5,0.6), label='Accuracy')\n",
        "rects2 = ax.bar(x + width/2, f1_values, width, color='gray', label='F1')\n",
        "\n",
        "# Add some text for labels, title and custom x-axis tick labels, etc.\n",
        "ax.set_ylabel('Metrics Scores')\n",
        "ax.set_title('Scores by classifier')\n",
        "ax.set_xticks(x)\n",
        "ax.set_xticklabels(classifiers, rotation=50, ha='right')\n",
        "ax.legend()\n",
        "\n",
        "\n",
        "fig.tight_layout()\n",
        "\n",
        "plt.show()"
      ],
      "execution_count": null,
      "outputs": [
        {
          "output_type": "display_data",
          "data": {
            "image/png": "[encoded data removed]",
            "text/plain": [
              "<Figure size 720x360 with 1 Axes>"
            ]
          },
          "metadata": {
            "needs_background": "light"
          }
        }
      ]
    },
    {
      "cell_type": "markdown",
      "metadata": {
        "id": "3yUg8htSS9N8"
      },
      "source": [
        "### Προεπεξεργασία Δεδομένων "
      ]
    },
    {
      "cell_type": "markdown",
      "metadata": {
        "id": "pzwaEYQ2bQ4k"
      },
      "source": [
        "#### Μείωση διατάσεων με επιλογή χαρακτηριστικών Variance Threshold:"
      ]
    },
    {
      "cell_type": "code",
      "metadata": {
        "colab": {
          "base_uri": "https://localhost:8080/"
        },
        "id": "5XNSFFzSdOqH",
        "outputId": "76af3de8-e97f-4d87-fc2e-408a7db2618d"
      },
      "source": [
        "from sklearn.feature_selection import VarianceThreshold\n",
        "selector = VarianceThreshold()\n",
        "train_reduced_a = selector.fit_transform(train)\n",
        "print(train_reduced_a)\n",
        "mask_a = selector.get_support()\n",
        "print(mask_a)"
      ],
      "execution_count": null,
      "outputs": [
        {
          "output_type": "stream",
          "name": "stdout",
          "text": [
            "[[119.992    157.302     74.997    ...   0.266482   2.301442   0.284654]\n",
            " [122.4      148.65     113.819    ...   0.33559    2.486855   0.368674]\n",
            " [116.682    131.111    111.555    ...   0.311173   2.342259   0.332634]\n",
            " ...\n",
            " [113.166    130.27     100.673    ...   0.304107   2.672362   0.274387]\n",
            " [112.239    126.609    104.095    ...   0.306014   2.419253   0.209191]\n",
            " [116.15     131.731    109.815    ...   0.23307    2.445646   0.184985]]\n",
            "[ True  True  True  True  True  True  True  True  True  True  True  True\n",
            "  True  True  True  True  True  True  True  True  True  True  True]\n"
          ]
        }
      ]
    },
    {
      "cell_type": "markdown",
      "metadata": {
        "id": "nCYvimUCdQWP"
      },
      "source": [
        "Για την default παράμετρο **threshold=0**, παρατηρούμε ότι όλες οι τιμές της μάσκας είναι True, επομένως, δεν υπάρχει χαρακτηριστικό που να διατηρεί σταθερή τιμή."
      ]
    },
    {
      "cell_type": "markdown",
      "metadata": {
        "id": "KDo7RHtxdgzG"
      },
      "source": [
        "Δοκιμάζουμε τιμή **threshold=0.0000025** ως παράμετρο της VarianceThreshold, ώστε να μειώσουμε το πλήθος των χαρακτηριστικών:"
      ]
    },
    {
      "cell_type": "code",
      "metadata": {
        "colab": {
          "base_uri": "https://localhost:8080/"
        },
        "id": "CSo7CrAJYIMj",
        "outputId": "51cb0535-a84c-448d-df97-f79562c6e03e"
      },
      "source": [
        "from sklearn.feature_selection import VarianceThreshold\n",
        "selector = VarianceThreshold(0.0000025)\n",
        "train_reduced_b = selector.fit_transform(train)\n",
        "print(train_reduced_b)\n",
        "mask_b = selector.get_support()\n",
        "print(mask_b)"
      ],
      "execution_count": null,
      "outputs": [
        {
          "output_type": "stream",
          "name": "stdout",
          "text": [
            "[[119.992    157.302     74.997    ...   0.266482   2.301442   0.284654]\n",
            " [122.4      148.65     113.819    ...   0.33559    2.486855   0.368674]\n",
            " [116.682    131.111    111.555    ...   0.311173   2.342259   0.332634]\n",
            " ...\n",
            " [113.166    130.27     100.673    ...   0.304107   2.672362   0.274387]\n",
            " [112.239    126.609    104.095    ...   0.306014   2.419253   0.209191]\n",
            " [116.15     131.731    109.815    ...   0.23307    2.445646   0.184985]]\n",
            "[ True  True  True  True False  True  True  True  True  True  True  True\n",
            "  True  True  True  True  True  True  True  True  True  True  True]\n"
          ]
        }
      ]
    },
    {
      "cell_type": "markdown",
      "metadata": {
        "id": "9_YvIb2Gd0jb"
      },
      "source": [
        "Παρατηρούμε ότι μόνο ένα χαρακτηριστικό έχει τιμή False στην μάσκα, επομένως θα αυξήσουμε το κατώφλι σε **threshold=0.000025**, ώστε να ελαττώσουμε περαιτέρω τις διαστάσεις του dataset."
      ]
    },
    {
      "cell_type": "code",
      "metadata": {
        "colab": {
          "base_uri": "https://localhost:8080/"
        },
        "id": "NupmGGCweC3f",
        "outputId": "6cf51d82-cc95-4bbe-8dda-54fa7e3a7893"
      },
      "source": [
        "from sklearn.feature_selection import VarianceThreshold\n",
        "selector_final = VarianceThreshold(0.000025)\n",
        "train_reduced = selector_final.fit_transform(train)\n",
        "print(train_reduced)\n",
        "mask_c = selector_final.get_support()\n",
        "print(mask_c)"
      ],
      "execution_count": null,
      "outputs": [
        {
          "output_type": "stream",
          "name": "stdout",
          "text": [
            "[[119.992    157.302     74.997    ...   0.266482   2.301442   0.284654]\n",
            " [122.4      148.65     113.819    ...   0.33559    2.486855   0.368674]\n",
            " [116.682    131.111    111.555    ...   0.311173   2.342259   0.332634]\n",
            " ...\n",
            " [113.166    130.27     100.673    ...   0.304107   2.672362   0.274387]\n",
            " [112.239    126.609    104.095    ...   0.306014   2.419253   0.209191]\n",
            " [116.15     131.731    109.815    ...   0.23307    2.445646   0.184985]]\n",
            "[ True  True  True False False False False  True  True  True  True  True\n",
            "  True  True  True  True  True  True  True  True  True  True  True]\n"
          ]
        }
      ]
    },
    {
      "cell_type": "code",
      "metadata": {
        "id": "ij3i3D8sipuk"
      },
      "source": [
        "#conversion of pandas dataframe to numpy array \n",
        "test=test.values"
      ],
      "execution_count": null,
      "outputs": []
    },
    {
      "cell_type": "code",
      "metadata": {
        "id": "4lFnQ9oagFo3"
      },
      "source": [
        "#reduce features in test set\n",
        "test_reduced = test[:,mask_c]"
      ],
      "execution_count": null,
      "outputs": []
    },
    {
      "cell_type": "code",
      "metadata": {
        "id": "9tSywMTMi0-l"
      },
      "source": [
        "#conversion of numpy arrays to pandas dataframes\n",
        "test = pd.DataFrame(test)\n",
        "train_reduced=pd.DataFrame(train_reduced)\n",
        "test_reduced=pd.DataFrame(test_reduced)"
      ],
      "execution_count": null,
      "outputs": []
    },
    {
      "cell_type": "markdown",
      "metadata": {
        "id": "2k1xzJlReLHs"
      },
      "source": [
        "Αυτή τη φορά, 4 χαρακτηριστικά αφαιρέθηκαν από το σύνολο των 23. Επομένως, μειώθηκαν οι διαστάσεις του dataset και επιλέγουμε για τη συγκεκριμένη μέθοδο το κατώφλι αυτό σαν πρώτο στάδιο μείωσης των διαστάσεων."
      ]
    },
    {
      "cell_type": "markdown",
      "metadata": {
        "id": "vXcK08Zukx-V"
      },
      "source": [
        "#### Κανονικοποίηση χαρακτηριστικών με feature scaling:\n",
        "\n",
        "\n"
      ]
    },
    {
      "cell_type": "code",
      "metadata": {
        "colab": {
          "base_uri": "https://localhost:8080/"
        },
        "id": "Va2-_bl3lIYe",
        "outputId": "87017cf9-46cb-419b-93bd-b91f3363abbd"
      },
      "source": [
        "from sklearn import preprocessing\n",
        "\n",
        "#conversion of pandas dataframes to numpy arrays\n",
        "train_reduced=train_reduced.values\n",
        "test_reduced=test_reduced.values\n",
        "\n",
        "# το ίδιο με  min max scaling\n",
        "min_max_scaler = preprocessing.MinMaxScaler()\n",
        "train_minmax = min_max_scaler.fit_transform(train_reduced)\n",
        "print(train_minmax, \"\\n\\n\")\n",
        "test_minmax = min_max_scaler.transform(test_reduced)\n",
        "print(test_minmax)"
      ],
      "execution_count": null,
      "outputs": [
        {
          "output_type": "stream",
          "name": "stdout",
          "text": [
            "[[0.19289918 0.11340473 0.05700959 ... 0.60788876 0.39066128 0.59993504]\n",
            " [0.2075712  0.09561592 0.28946691 ... 0.76933644 0.47314522 0.80986171]\n",
            " [0.17273126 0.05955512 0.27591059 ... 0.7122943  0.40881938 0.71981461]\n",
            " ...\n",
            " [0.15130817 0.05782599 0.21075165 ... 0.69578696 0.55567097 0.57428261]\n",
            " [0.14565994 0.05029884 0.2312418  ... 0.70024203 0.44307139 0.41138831]\n",
            " [0.16948977 0.06082986 0.26549187 ... 0.52983282 0.45481274 0.35090884]] \n",
            "\n",
            "\n",
            "[[0.49984158 0.34264032 0.08423    ... 0.9145501  0.68532138 0.58137844]\n",
            " [0.72964015 0.31179157 0.15763411 ... 0.66030062 0.55245504 0.46768523]\n",
            " [0.67099475 0.24085424 0.49827253 ... 0.71129676 0.46365756 0.41306732]\n",
            " ...\n",
            " [0.52616346 0.28344501 0.05275827 ... 0.35551522 0.55896743 0.21784452]\n",
            " [0.67285921 0.60615207 0.05645272 ... 0.46998963 0.31822198 0.19680188]\n",
            " [0.76745348 0.32512496 0.0748292  ... 0.43077243 0.50367281 0.2599223 ]]\n"
          ]
        }
      ]
    },
    {
      "cell_type": "code",
      "metadata": {
        "id": "ZhL53Hr8nmmg"
      },
      "source": [
        "#conversion of numpy arrays to pandas dataframes\n",
        "train_minmax=pd.DataFrame(train_minmax)\n",
        "test_minmax=pd.DataFrame(test_minmax)"
      ],
      "execution_count": null,
      "outputs": []
    },
    {
      "cell_type": "markdown",
      "metadata": {
        "id": "mBkBRCi7nZJ4"
      },
      "source": [
        "#### Εξισορρόπηση του μη ισορροπημένου dataset με RandomOverSampler\n"
      ]
    },
    {
      "cell_type": "code",
      "metadata": {
        "colab": {
          "base_uri": "https://localhost:8080/"
        },
        "id": "ioCPHicFXgC_",
        "outputId": "becc03a8-5789-41ad-a07f-a6c88cc476ee"
      },
      "source": [
        "!pip install -U imbalanced-learn"
      ],
      "execution_count": null,
      "outputs": [
        {
          "output_type": "stream",
          "name": "stdout",
          "text": [
            "Requirement already satisfied: imbalanced-learn in /usr/local/lib/python3.7/dist-packages (0.8.1)\n",
            "Requirement already satisfied: numpy>=1.13.3 in /usr/local/lib/python3.7/dist-packages (from imbalanced-learn) (1.19.5)\n",
            "Requirement already satisfied: joblib>=0.11 in /usr/local/lib/python3.7/dist-packages (from imbalanced-learn) (1.1.0)\n",
            "Requirement already satisfied: scikit-learn>=0.24 in /usr/local/lib/python3.7/dist-packages (from imbalanced-learn) (1.0.1)\n",
            "Requirement already satisfied: scipy>=0.19.1 in /usr/local/lib/python3.7/dist-packages (from imbalanced-learn) (1.4.1)\n",
            "Requirement already satisfied: threadpoolctl>=2.0.0 in /usr/local/lib/python3.7/dist-packages (from scikit-learn>=0.24->imbalanced-learn) (3.0.0)\n"
          ]
        }
      ]
    },
    {
      "cell_type": "code",
      "metadata": {
        "colab": {
          "base_uri": "https://localhost:8080/"
        },
        "id": "UGKVdiBDWv-S",
        "outputId": "fc95ac43-f7a9-4a9a-ba95-c2a8b33e5875"
      },
      "source": [
        "from imblearn.over_sampling import RandomOverSampler\n",
        "from sklearn.preprocessing import MultiLabelBinarizer\n",
        "\n",
        "ros = RandomOverSampler()\n",
        "\n",
        "train_resampled, train_labels_resampled = ros.fit_resample(train_minmax,train_labels)\n",
        "\n",
        "\n",
        "print(train_resampled.shape)\n",
        "print(train_labels_resampled.shape)\n",
        " \n",
        "print(train_labels_resampled)\n",
        "\n",
        "summ = train_labels_resampled.T.sum(axis=0)\n",
        "print(summ)\n",
        "print(summ.sum())"
      ],
      "execution_count": null,
      "outputs": [
        {
          "output_type": "stream",
          "name": "stdout",
          "text": [
            "(232, 19)\n",
            "(232,)\n",
            "0      1\n",
            "1      1\n",
            "2      1\n",
            "3      1\n",
            "4      1\n",
            "      ..\n",
            "227    0\n",
            "228    0\n",
            "229    0\n",
            "230    0\n",
            "231    0\n",
            "Name: status, Length: 232, dtype: int64\n",
            "116\n",
            "116\n"
          ]
        }
      ]
    },
    {
      "cell_type": "markdown",
      "metadata": {
        "id": "zj9IdM_9den6"
      },
      "source": [
        "#### Μείωση της διαστατικότητας με εξαγωγή χαρακτηριστικών - Ανάλυση σε Κύριες Συνιστώσες (PCA)"
      ]
    },
    {
      "cell_type": "code",
      "metadata": {
        "colab": {
          "base_uri": "https://localhost:8080/"
        },
        "id": "LHf7syKJdyQz",
        "outputId": "20fa085e-bb46-402a-882a-023fd30c1582"
      },
      "source": [
        "from sklearn.decomposition import PCA\n",
        "\n",
        "#μετά την επιλογή χαρακτηριστικών με Variance Threshold, από τα 23 χαρακτηριστικά, κρατήσαμε 19\n",
        "#θα επιχειρήσουμε με εξαγωγή χαρακτηριστικών να τα ελαττώσουμε σε 16\n",
        "n = 16\n",
        "pca = PCA(n_components=n)\n",
        "\n",
        "trainPCA = pca.fit_transform(train_resampled)\n",
        "testPCA = pca.transform(test_minmax)\n",
        "\n",
        "print(train_resampled.shape)\n",
        "print(trainPCA.shape)\n",
        "print(\"\")\n",
        "print(test_minmax.shape)\n",
        "print(testPCA.shape)\n",
        "\n",
        "# πλεόν οι διαστάση των χαρακτηριστικών είναι 16"
      ],
      "execution_count": null,
      "outputs": [
        {
          "output_type": "stream",
          "name": "stdout",
          "text": [
            "(232, 19)\n",
            "(232, 16)\n",
            "\n",
            "(55, 19)\n",
            "(55, 16)\n"
          ]
        }
      ]
    },
    {
      "cell_type": "code",
      "metadata": {
        "colab": {
          "base_uri": "https://localhost:8080/"
        },
        "id": "_WYX-yVgf1_Y",
        "outputId": "f425aede-4d95-48f3-b1ba-2b752f19d2ae"
      },
      "source": [
        "evar = pca.explained_variance_ratio_\n",
        "cum_evar = np.cumsum(evar)\n",
        "print(cum_evar)\n",
        "plt.figure(1, figsize=(5, 5))\n",
        "plt.xlabel(\"Principal Component number\")\n",
        "plt.ylabel('Cumulative Variance')\n",
        "plt.plot(cum_evar, linewidth=2)\n",
        "plt.show()"
      ],
      "execution_count": null,
      "outputs": [
        {
          "output_type": "stream",
          "name": "stdout",
          "text": [
            "[0.59766844 0.7309305  0.8207812  0.87116526 0.91107957 0.93421252\n",
            " 0.95172216 0.96654687 0.97852263 0.98642428 0.99258487 0.99605734\n",
            " 0.99782186 0.99887502 0.99932024 0.99973964]\n"
          ]
        },
        {
          "output_type": "display_data",
          "data": {
            "image/png": "[encoded data removed]",
            "text/plain": [
              "<Figure size 360x360 with 1 Axes>"
            ]
          },
          "metadata": {
            "needs_background": "light"
          }
        }
      ]
    },
    {
      "cell_type": "markdown",
      "metadata": {
        "id": "DMi19IfliDjM"
      },
      "source": [
        "Με 16 κύριες συνιστώσες εξηγούμε 99.97% της διακύμανσης (πληοροφορίας) του dataset. Επομένως, ακόμη κι αν δημιουργούσαμε λιγότερες συνιστώσες (π.χ. n=12), θα διατηρούσαμε και πάλι την ικανότητα να εξηγούμε μεγάλο ποσοστό διακύμανσης 99.6%. Ωστόσο, επειδή πρόκειται για ένα σχετικά μικρών διαστάσεων dataset, δεν θα ελαττώσουμε περαιτέρω το πλήθος των χαρακτηριστικών."
      ]
    },
    {
      "cell_type": "markdown",
      "metadata": {
        "id": "6rLmvAeHmWHY"
      },
      "source": [
        "###Ορισμός Αρχιτεκτονικής Pipeline και δοκιμές"
      ]
    },
    {
      "cell_type": "markdown",
      "metadata": {
        "id": "deCxz2r4YBsl"
      },
      "source": [
        "Στην ενότητα αυτή, πριν εκτελέσουμε grid search για τον εντοπισμό των βέλτιστων υπερπαραμέτρων, πραγματοποιούμε δοκιμές για την επίδοση του kNN χωρίς τους υπόλοιπους μετασχηματιστές που πραγματοποιούν προεπεξεργασία των δεδομένων, για την επίδοση του kNN σε συνδυασμό με τους υπόλοιπους μετασχηματιστές με τις default τιμές αυτών, καθώς και για την επίδοση του προηγούμενου estimator με υπερπαραμέτρους που φάνηκαν να έχουν καλή συμπεριφορά σύμφωνα με τις παρατηρήσεις μας στην ενότητα \"Προεπεξεργασία Δεδομένων\"."
      ]
    },
    {
      "cell_type": "markdown",
      "metadata": {
        "id": "hFDaUDmzZXmM"
      },
      "source": [
        "Αρχικά δοκιμάζουμε τον ταξινομητή kNN χωρίς την προεπεξεργασία των δεδομένων, ώστε να μπορούμε να συγκρίνουμε την επίδοσή του."
      ]
    },
    {
      "cell_type": "code",
      "metadata": {
        "colab": {
          "base_uri": "https://localhost:8080/"
        },
        "id": "Es1YUQ1RTSHD",
        "outputId": "511f426b-ed8c-47e6-f94e-9351ba3e4b05"
      },
      "source": [
        "from sklearn import neighbors\n",
        "from sklearn.metrics import classification_report\n",
        "clf = neighbors.KNeighborsClassifier()\n",
        "clf.fit(train,train_labels)\n",
        "preds = clf.predict(test)\n",
        "print(classification_report(test_labels, preds))"
      ],
      "execution_count": null,
      "outputs": [
        {
          "output_type": "stream",
          "name": "stdout",
          "text": [
            "              precision    recall  f1-score   support\n",
            "\n",
            "           0       0.71      0.21      0.32        24\n",
            "           1       0.60      0.94      0.73        31\n",
            "\n",
            "    accuracy                           0.62        55\n",
            "   macro avg       0.66      0.57      0.53        55\n",
            "weighted avg       0.65      0.62      0.55        55\n",
            "\n"
          ]
        },
        {
          "output_type": "stream",
          "name": "stderr",
          "text": [
            "/usr/local/lib/python3.7/dist-packages/sklearn/base.py:446: UserWarning: X does not have valid feature names, but KNeighborsClassifier was fitted with feature names\n",
            "  \"X does not have valid feature names, but\"\n"
          ]
        }
      ]
    },
    {
      "cell_type": "markdown",
      "metadata": {
        "id": "my4gVc-4arCa"
      },
      "source": [
        "Στη συνέχεια ορίσαμε ένα Pipe χωρίς να αξιοποιήσουμε τις παρατηρήσεις και τις δοκιμές μας από την Ενότητα Προεπεξεργασία Δεδομένων. Χρησιμοποιήσαμε default τιμές για τις συναρτήσεις Variance Threshold για feature selection, standardized scaler για κανονικοποίηση των χαρακτηριστικών, εξισορρόπηση του dataset μέσω oversampling και εξαγωγή χαρακτηριστικών με τη μέθοδο PCA."
      ]
    },
    {
      "cell_type": "code",
      "metadata": {
        "id": "NFh8jSt-afnn"
      },
      "source": [
        "from imblearn.pipeline import Pipeline\n",
        "\n",
        "# φέρνουμε τις γνωστές μας κλάσεις για preprocessing\n",
        "from sklearn.feature_selection import VarianceThreshold\n",
        "from sklearn.preprocessing import StandardScaler # φέρνουμε τον StandarScaler ως transformer που έχει .transform kai ΄όχι ως scale()\n",
        "from imblearn.over_sampling import RandomOverSampler\n",
        "from sklearn.decomposition import PCA\n",
        "\n",
        "# αρχικοποιούμε τον εκτιμητή (ταξινομητής) και τους μετασχηματιστές χωρίς υπερ-παραμέτρους\n",
        "selector = VarianceThreshold()\n",
        "scaler = StandardScaler()\n",
        "ros = RandomOverSampler()\n",
        "pca = PCA()\n",
        "clf = neighbors.KNeighborsClassifier(n_jobs=-1) \n",
        "pipe_default = Pipeline(steps=[('selector', selector), ('scaler', scaler), ('sampler', ros), ('pca', pca), ('kNN', clf)])"
      ],
      "execution_count": null,
      "outputs": []
    },
    {
      "cell_type": "code",
      "metadata": {
        "colab": {
          "base_uri": "https://localhost:8080/"
        },
        "id": "1hrcwzkDajJU",
        "outputId": "a94c1df9-9eeb-4924-b69c-50a4e6e9f488"
      },
      "source": [
        "pipe_default.fit(train,train_labels)\n",
        "preds = pipe_default.predict(test)\n",
        "print(classification_report(test_labels, preds))"
      ],
      "execution_count": null,
      "outputs": [
        {
          "output_type": "stream",
          "name": "stdout",
          "text": [
            "              precision    recall  f1-score   support\n",
            "\n",
            "           0       1.00      0.79      0.88        24\n",
            "           1       0.86      1.00      0.93        31\n",
            "\n",
            "    accuracy                           0.91        55\n",
            "   macro avg       0.93      0.90      0.90        55\n",
            "weighted avg       0.92      0.91      0.91        55\n",
            "\n"
          ]
        },
        {
          "output_type": "stream",
          "name": "stderr",
          "text": [
            "/usr/local/lib/python3.7/dist-packages/sklearn/base.py:446: UserWarning: X does not have valid feature names, but VarianceThreshold was fitted with feature names\n",
            "  \"X does not have valid feature names, but\"\n"
          ]
        }
      ]
    },
    {
      "cell_type": "markdown",
      "metadata": {
        "id": "Q9WriRf4bMvC"
      },
      "source": [
        "Παρατηρούμε ότι υπήρξε σημαντική βελτίωση των μετρικών με την παραπάνω αρχιτεκτονική."
      ]
    },
    {
      "cell_type": "markdown",
      "metadata": {
        "id": "1F9S9fPVZlX0"
      },
      "source": [
        "Στη συνέχεια ορίσαμε το Pipe με βάση τις παρατηρήσεις και τις δοκιμές μας από την Ενότητα Προεπεξεργασία Δεδομένων. Χρησιμοποιήσαμε Variance Threshold με threshold=0.000025 για feature selection, standardized scaler για κανονικοποίηση των χαρακτηριστικών, εξισορρόπηση του dataset μέσω oversampling και εξαγωγή χαρακτηριστικών με τη μέθοδο PCA με 16 κύριες συνιστώσες.\n"
      ]
    },
    {
      "cell_type": "code",
      "metadata": {
        "id": "GMi2UyK_TovE"
      },
      "source": [
        "selector = VarianceThreshold(0.000025)\n",
        "scaler = StandardScaler()\n",
        "ros = RandomOverSampler()\n",
        "pca = PCA(n_components=16)\n",
        "clf = neighbors.KNeighborsClassifier(n_jobs=-1) \n",
        "pipe = Pipeline(steps=[('selector', selector), ('scaler', scaler), ('sampler', ros), ('pca', pca), ('kNN', clf)])"
      ],
      "execution_count": null,
      "outputs": []
    },
    {
      "cell_type": "code",
      "metadata": {
        "colab": {
          "base_uri": "https://localhost:8080/"
        },
        "id": "zXuwhiopTtm7",
        "outputId": "33a101ab-917b-4f17-a9f5-1b97ca3fa334"
      },
      "source": [
        "pipe.fit(train,train_labels)\n",
        "preds = pipe.predict(test)\n",
        "print(classification_report(test_labels, preds))"
      ],
      "execution_count": null,
      "outputs": [
        {
          "output_type": "stream",
          "name": "stderr",
          "text": [
            "/usr/local/lib/python3.7/dist-packages/sklearn/base.py:446: UserWarning: X does not have valid feature names, but VarianceThreshold was fitted with feature names\n",
            "  \"X does not have valid feature names, but\"\n"
          ]
        },
        {
          "output_type": "stream",
          "name": "stdout",
          "text": [
            "              precision    recall  f1-score   support\n",
            "\n",
            "           0       1.00      0.83      0.91        24\n",
            "           1       0.89      1.00      0.94        31\n",
            "\n",
            "    accuracy                           0.93        55\n",
            "   macro avg       0.94      0.92      0.92        55\n",
            "weighted avg       0.94      0.93      0.93        55\n",
            "\n"
          ]
        }
      ]
    },
    {
      "cell_type": "markdown",
      "metadata": {
        "id": "XjytrJplbUK_"
      },
      "source": [
        "Παρατηρούμε πως υπήρξε ακόμη μεγαλύτερη βελτίωση των μετρικών, όταν αρχικοποιήθηκαν ορισμένες υπερπαράμετροι στην αρχιτεκτονική με βάση τις παρατηρήσεις μας από την Ενότητα Προεπεξεργασία Δεδομένων."
      ]
    },
    {
      "cell_type": "markdown",
      "metadata": {
        "id": "KnI3NlX0crU_"
      },
      "source": [
        "###Gridsearch για τον εντοπισμό των βέλτιστων υπερπαραμέτρων με 10-fold corss validation"
      ]
    },
    {
      "cell_type": "markdown",
      "metadata": {
        "id": "oZqm_9uUi0o-"
      },
      "source": [
        "Πραγματοποιήθηκαν δοκιμές για διαφορετικές αρχιτεκτονικές, με την top down προσέγγιση, αφαιρώντας μετασχηματιστές από το παρακάτω pipeline, όμως η επίδοση των μοντέλων ήταν χαμηλότερη. Επομένως, επιλέξαμε την αρχιτεκτονική που παρουσιάζεται παρακάτω."
      ]
    },
    {
      "cell_type": "code",
      "metadata": {
        "id": "E2Aw2FaQHStt"
      },
      "source": [
        "opt_classifiers_accuracy = {}\n",
        "opt_classifiers_f1 = {}\n",
        "opt_classifiers_time = {}"
      ],
      "execution_count": null,
      "outputs": []
    },
    {
      "cell_type": "markdown",
      "metadata": {
        "id": "5W2aaKrUc-M-"
      },
      "source": [
        "####**KNearestNeighbors (kNN)**"
      ]
    },
    {
      "cell_type": "markdown",
      "metadata": {
        "id": "eb4p4gxDXVHg"
      },
      "source": [
        "Θα εντοπίσουμε τη βέλτιστη υπερπαράμετρο k, καθώς και τις υπερπαραμέτρους των μετασχηματιστών του pipeline. Αρχικά θα εκτελέσουμε εξαντλητικό grid search και στη συνέχεια θα περιορίσουμε το εύρος τιμών των υπερπαραμέτρων και θα εκτελέσουμε ξανά grid search."
      ]
    },
    {
      "cell_type": "markdown",
      "metadata": {
        "id": "6raNbwJNqmYc"
      },
      "source": [
        "#####Exhaustive Grid Search"
      ]
    },
    {
      "cell_type": "code",
      "metadata": {
        "id": "xQsnVEACdi28"
      },
      "source": [
        "from sklearn.model_selection import GridSearchCV\n",
        "\n",
        "vthreshold = [0, 0.000025, 0.0000005] \n",
        "n_components = [2, 5, 9, 12, 16]\n",
        "k = [3, 5, 9, 13] # η υπερπαράμετρος του ταξινομητή"
      ],
      "execution_count": null,
      "outputs": []
    },
    {
      "cell_type": "markdown",
      "metadata": {
        "id": "8uJHiojVniTK"
      },
      "source": [
        "Ξαναορίζουμε την pipeline με την παράμετρο 'memory', ώστε για κάθε fold του crossvalidation και για καθε συνδυασμό υπερπαραμέτρων μετασχηματιστών, τα δεδομένα να μετασχηματιστούν μία φορά και όχι για κάθε νέα τιμή υπερπαραμέτρων του εκτιμητή. "
      ]
    },
    {
      "cell_type": "code",
      "metadata": {
        "id": "NUVNGyZhnqpc"
      },
      "source": [
        "pipe_knn = Pipeline(steps=[('selector', selector), ('scaler', scaler), ('sampler', ros), ('pca', pca), ('kNN', clf)], memory = 'tmp')"
      ],
      "execution_count": null,
      "outputs": []
    },
    {
      "cell_type": "code",
      "metadata": {
        "id": "tDHtBtLWnxgb"
      },
      "source": [
        "estimator_knn = GridSearchCV(pipe_knn, dict(selector__threshold=vthreshold, pca__n_components=n_components, kNN__n_neighbors=k), cv=10, scoring='f1', n_jobs=-1)"
      ],
      "execution_count": null,
      "outputs": []
    },
    {
      "cell_type": "code",
      "metadata": {
        "colab": {
          "base_uri": "https://localhost:8080/"
        },
        "id": "QjYPM2QDoE7Q",
        "outputId": "52518c29-0fff-47fa-d2d3-cdd23859db17"
      },
      "source": [
        "import time\n",
        "start_time = time.time()\n",
        "estimator_knn.fit(train, train_labels)\n",
        "preds = estimator_knn.predict(test)\n",
        "\n",
        "print(\"Συνολικός χρόνος grid search: %s seconds\" % (time.time() - start_time))\n",
        "\n",
        "print(classification_report(test_labels, preds))"
      ],
      "execution_count": null,
      "outputs": [
        {
          "output_type": "stream",
          "name": "stdout",
          "text": [
            "Συνολικός χρόνος grid search: 41.983866691589355 seconds\n",
            "              precision    recall  f1-score   support\n",
            "\n",
            "           0       1.00      0.71      0.83        24\n",
            "           1       0.82      1.00      0.90        31\n",
            "\n",
            "    accuracy                           0.87        55\n",
            "   macro avg       0.91      0.85      0.86        55\n",
            "weighted avg       0.90      0.87      0.87        55\n",
            "\n"
          ]
        },
        {
          "output_type": "stream",
          "name": "stderr",
          "text": [
            "/usr/local/lib/python3.7/dist-packages/sklearn/base.py:446: UserWarning: X does not have valid feature names, but VarianceThreshold was fitted with feature names\n",
            "  \"X does not have valid feature names, but\"\n"
          ]
        }
      ]
    },
    {
      "cell_type": "code",
      "metadata": {
        "colab": {
          "base_uri": "https://localhost:8080/"
        },
        "id": "KBEYtKV8oPbA",
        "outputId": "92533fa2-9493-4ad6-8376-47f418ba80d7"
      },
      "source": [
        "print(estimator_knn.best_estimator_)\n",
        "print(estimator_knn.best_params_)"
      ],
      "execution_count": null,
      "outputs": [
        {
          "output_type": "stream",
          "name": "stdout",
          "text": [
            "Pipeline(memory='tmp',\n",
            "         steps=[('selector', VarianceThreshold(threshold=2.5e-05)),\n",
            "                ('scaler', StandardScaler()), ('sampler', RandomOverSampler()),\n",
            "                ('pca', PCA(n_components=5)),\n",
            "                ('kNN', KNeighborsClassifier(n_jobs=-1, n_neighbors=3))])\n",
            "{'kNN__n_neighbors': 3, 'pca__n_components': 5, 'selector__threshold': 2.5e-05}\n"
          ]
        }
      ]
    },
    {
      "cell_type": "markdown",
      "metadata": {
        "id": "7IKSHybfzkj8"
      },
      "source": [
        "Παρατηρούμε οι υπερπαράμετροι του βέλτιστου μοντέλου (με βάση τη μετρική f1) είναι k=3 γείτονες στον ταξινομητή kNN, 5 κύριες συνιστώσες στην εξαγωγή χαρακτηριστικών και βέλτιστο Variance threshold=0.000025."
      ]
    },
    {
      "cell_type": "markdown",
      "metadata": {
        "id": "B06cvJOfqhlN"
      },
      "source": [
        "##### Progressive Grid Search"
      ]
    },
    {
      "cell_type": "markdown",
      "metadata": {
        "id": "ZqH-rCOlk4VV"
      },
      "source": [
        "Εφόσον έχουμε εντοπίσει ένα εύρος τιμών στο για τις βέλτιστες υπερπαραμέτρους του μοντέλου, περιορίζουμε το εύρος τιμών περισσότερο. Με τον τρόπο αυτό ελαττώνεται πολύ η πολυπλοκότητα (ο χρόνος του fit και predict μειώνεται από 75 σε 4 sec), και η επίδοση του μοντέλου διατηρείται στα ίδια επίπεδα, όπως φαίνεται από τις μετρικές."
      ]
    },
    {
      "cell_type": "code",
      "metadata": {
        "id": "-aeXhMFtjhTm"
      },
      "source": [
        "vthreshold = [0, 0.000025] \n",
        "n_components = [4, 5, 6]\n",
        "k = [3, 5]"
      ],
      "execution_count": null,
      "outputs": []
    },
    {
      "cell_type": "code",
      "metadata": {
        "id": "fc36nV8cjvLG"
      },
      "source": [
        "pipe_knn = Pipeline(steps=[('selector', selector), ('scaler', scaler), ('sampler', ros), ('pca', pca), ('kNN', clf)], memory = 'tmp')"
      ],
      "execution_count": null,
      "outputs": []
    },
    {
      "cell_type": "code",
      "metadata": {
        "id": "tWxZHHRTjt2i"
      },
      "source": [
        "estimator_knn = GridSearchCV(pipe_knn, dict(selector__threshold=vthreshold, pca__n_components=n_components, kNN__n_neighbors=k), cv=10, scoring='f1', n_jobs=-1)"
      ],
      "execution_count": null,
      "outputs": []
    },
    {
      "cell_type": "code",
      "metadata": {
        "colab": {
          "base_uri": "https://localhost:8080/"
        },
        "id": "it12impjjykE",
        "outputId": "8a07d5a4-e8d9-42d3-8496-091772ecd09c"
      },
      "source": [
        "import time\n",
        "start_time = time.time()\n",
        "estimator_knn.fit(train, train_labels)\n",
        "preds = estimator_knn.predict(test)\n",
        "\n",
        "print(\"Συνολικός χρόνος grid search: %s seconds\" % (time.time() - start_time))\n",
        "\n",
        "print(classification_report(test_labels, preds))"
      ],
      "execution_count": null,
      "outputs": [
        {
          "output_type": "stream",
          "name": "stdout",
          "text": [
            "Συνολικός χρόνος grid search: 8.14863109588623 seconds\n",
            "              precision    recall  f1-score   support\n",
            "\n",
            "           0       1.00      0.71      0.83        24\n",
            "           1       0.82      1.00      0.90        31\n",
            "\n",
            "    accuracy                           0.87        55\n",
            "   macro avg       0.91      0.85      0.86        55\n",
            "weighted avg       0.90      0.87      0.87        55\n",
            "\n"
          ]
        },
        {
          "output_type": "stream",
          "name": "stderr",
          "text": [
            "/usr/local/lib/python3.7/dist-packages/sklearn/base.py:446: UserWarning: X does not have valid feature names, but VarianceThreshold was fitted with feature names\n",
            "  \"X does not have valid feature names, but\"\n"
          ]
        }
      ]
    },
    {
      "cell_type": "code",
      "metadata": {
        "colab": {
          "base_uri": "https://localhost:8080/"
        },
        "id": "s_bEIkp7kHPp",
        "outputId": "b239086d-d5e7-4edd-cb65-4765007bab97"
      },
      "source": [
        "print(estimator_knn.best_estimator_)\n",
        "print(estimator_knn.best_params_)"
      ],
      "execution_count": null,
      "outputs": [
        {
          "output_type": "stream",
          "name": "stdout",
          "text": [
            "Pipeline(memory='tmp',\n",
            "         steps=[('selector', VarianceThreshold(threshold=2.5e-05)),\n",
            "                ('scaler', StandardScaler()), ('sampler', RandomOverSampler()),\n",
            "                ('pca', PCA(n_components=5)),\n",
            "                ('kNN', KNeighborsClassifier(n_jobs=-1, n_neighbors=3))])\n",
            "{'kNN__n_neighbors': 3, 'pca__n_components': 5, 'selector__threshold': 2.5e-05}\n"
          ]
        }
      ]
    },
    {
      "cell_type": "markdown",
      "metadata": {
        "id": "HiPayLY-4LDC"
      },
      "source": [
        "#####Βέλτιστο μοντέλο με kNN"
      ]
    },
    {
      "cell_type": "markdown",
      "metadata": {
        "id": "7v3aWiw-Z6SC"
      },
      "source": [
        "Για τις βέλτιστες τιμές των υπεραπαραμέτρων που εντοπίστηκαν από το grid search εκπαιδεύουμε εκ νέου το train set και ελέγχουμε την επίδοση και τον χρόνο του estimator σε ολόκληρο το test set."
      ]
    },
    {
      "cell_type": "code",
      "metadata": {
        "id": "aqerV9f64yoD"
      },
      "source": [
        "k = []\n",
        "vthreshold=[]\n",
        "n_components=[]\n",
        "vthreshold.append(list(estimator_knn.best_params_.values())[2])\n",
        "n_components.append(list(estimator_knn.best_params_.values())[1])\n",
        "k.append(list(estimator_knn.best_params_.values())[0])"
      ],
      "execution_count": null,
      "outputs": []
    },
    {
      "cell_type": "code",
      "metadata": {
        "id": "bWG_GeiU4ZS-"
      },
      "source": [
        "pipe_knn = Pipeline(steps=[('selector', selector), ('scaler', scaler), ('sampler', ros), ('pca', pca), ('kNN', clf)], memory = 'tmp')"
      ],
      "execution_count": null,
      "outputs": []
    },
    {
      "cell_type": "code",
      "metadata": {
        "id": "er_freq14cfP"
      },
      "source": [
        "estimator_knn = GridSearchCV(pipe_knn, dict(selector__threshold=vthreshold, pca__n_components=n_components, kNN__n_neighbors=k), cv=10, scoring='f1', n_jobs=-1)"
      ],
      "execution_count": null,
      "outputs": []
    },
    {
      "cell_type": "code",
      "metadata": {
        "colab": {
          "base_uri": "https://localhost:8080/"
        },
        "id": "oMC-2gpo4_qs",
        "outputId": "828bfc33-81ce-4313-a48b-8ca676446484"
      },
      "source": [
        "import time\n",
        "start_time = time.time()\n",
        "estimator_knn.fit(train, train_labels)\n",
        "preds_knn = estimator_knn.predict(test)\n",
        "\n",
        "opt_classifiers_time['Optimized KNN'] = (time.time() - start_time)\n",
        "print(\"Συνολικός χρόνος fit και predict: %s seconds\" % (time.time() - start_time))\n",
        "\n",
        "opt_classifiers_accuracy['Optimized KNN'] = accuracy_score(test_labels, preds_knn)\n",
        "opt_classifiers_f1['Optimized KNN'] = f1_score(test_labels, preds_knn)\n",
        "\n",
        "print(classification_report(test_labels, preds_knn))"
      ],
      "execution_count": null,
      "outputs": [
        {
          "output_type": "stream",
          "name": "stdout",
          "text": [
            "Συνολικός χρόνος fit και predict: 0.8088095188140869 seconds\n",
            "              precision    recall  f1-score   support\n",
            "\n",
            "           0       1.00      0.71      0.83        24\n",
            "           1       0.82      1.00      0.90        31\n",
            "\n",
            "    accuracy                           0.87        55\n",
            "   macro avg       0.91      0.85      0.86        55\n",
            "weighted avg       0.90      0.87      0.87        55\n",
            "\n"
          ]
        },
        {
          "output_type": "stream",
          "name": "stderr",
          "text": [
            "/usr/local/lib/python3.7/dist-packages/sklearn/base.py:446: UserWarning: X does not have valid feature names, but VarianceThreshold was fitted with feature names\n",
            "  \"X does not have valid feature names, but\"\n"
          ]
        }
      ]
    },
    {
      "cell_type": "markdown",
      "metadata": {
        "id": "DNMrIRR97xuc"
      },
      "source": [
        "####**Gaussian Naive Bayes**"
      ]
    },
    {
      "cell_type": "markdown",
      "metadata": {
        "id": "2rFhC5AeRIp_"
      },
      "source": [
        "Ο ταξινομητής Gaussian Naive Bayes δεν έχει υπερπαραμέτρους προς βελτιστοποίηση, ωστόσο εκτελούμε grid search με 10-fold cross validation, ώστε να εντοπίσουμε τις βέλιστες υπερπαραμέτρους για τα υπόλοιπα στάδια του pipeline."
      ]
    },
    {
      "cell_type": "markdown",
      "metadata": {
        "id": "2V0Nyve39ADp"
      },
      "source": [
        "#####Grid Search"
      ]
    },
    {
      "cell_type": "code",
      "metadata": {
        "id": "ZfNFlaUk75J9"
      },
      "source": [
        "from sklearn.model_selection import GridSearchCV\n",
        "\n",
        "vthreshold = [0, 0.000025, 0.0000005] \n",
        "n_components = [2, 5, 9, 12, 16]"
      ],
      "execution_count": null,
      "outputs": []
    },
    {
      "cell_type": "code",
      "metadata": {
        "id": "X4VW3Yu18fxx"
      },
      "source": [
        "from sklearn.naive_bayes import GaussianNB\n",
        "\n",
        "gnb = GaussianNB()"
      ],
      "execution_count": null,
      "outputs": []
    },
    {
      "cell_type": "code",
      "metadata": {
        "id": "1dfVkkUf77gA"
      },
      "source": [
        "pipe_gnb = Pipeline(steps=[('selector', selector), ('scaler', scaler), ('sampler', ros), ('pca', pca), ('GNB', gnb)], memory = 'tmp')"
      ],
      "execution_count": null,
      "outputs": []
    },
    {
      "cell_type": "code",
      "metadata": {
        "id": "2gBW7fcF8CYb"
      },
      "source": [
        "estimator_gnb = GridSearchCV(pipe_gnb, dict(selector__threshold=vthreshold, pca__n_components=n_components), cv=10, scoring='f1', n_jobs=-1)"
      ],
      "execution_count": null,
      "outputs": []
    },
    {
      "cell_type": "code",
      "metadata": {
        "colab": {
          "base_uri": "https://localhost:8080/"
        },
        "id": "yUQrXvdZ8K3f",
        "outputId": "8d6fbf0a-4da9-4473-907b-e7a9644795b7"
      },
      "source": [
        "import time\n",
        "start_time = time.time()\n",
        "estimator_gnb.fit(train, train_labels)\n",
        "preds = estimator_gnb.predict(test)\n",
        "\n",
        "print(\"Συνολικός χρόνος grid search: %s seconds\" % (time.time() - start_time))\n",
        "\n",
        "print(classification_report(test_labels, preds))"
      ],
      "execution_count": null,
      "outputs": [
        {
          "output_type": "stream",
          "name": "stdout",
          "text": [
            "Συνολικός χρόνος grid search: 2.709218978881836 seconds\n",
            "              precision    recall  f1-score   support\n",
            "\n",
            "           0       1.00      0.42      0.59        24\n",
            "           1       0.69      1.00      0.82        31\n",
            "\n",
            "    accuracy                           0.75        55\n",
            "   macro avg       0.84      0.71      0.70        55\n",
            "weighted avg       0.82      0.75      0.72        55\n",
            "\n"
          ]
        },
        {
          "output_type": "stream",
          "name": "stderr",
          "text": [
            "/usr/local/lib/python3.7/dist-packages/sklearn/base.py:446: UserWarning: X does not have valid feature names, but VarianceThreshold was fitted with feature names\n",
            "  \"X does not have valid feature names, but\"\n"
          ]
        }
      ]
    },
    {
      "cell_type": "code",
      "metadata": {
        "colab": {
          "base_uri": "https://localhost:8080/"
        },
        "id": "-15bHOqz8TWQ",
        "outputId": "9068eeda-ac52-401c-838a-dabf4349e738"
      },
      "source": [
        "print(estimator_gnb.best_estimator_)\n",
        "print(estimator_gnb.best_params_)"
      ],
      "execution_count": null,
      "outputs": [
        {
          "output_type": "stream",
          "name": "stdout",
          "text": [
            "Pipeline(memory='tmp',\n",
            "         steps=[('selector', VarianceThreshold(threshold=2.5e-05)),\n",
            "                ('scaler', StandardScaler()), ('sampler', RandomOverSampler()),\n",
            "                ('pca', PCA(n_components=9)), ('GNB', GaussianNB())])\n",
            "{'pca__n_components': 9, 'selector__threshold': 2.5e-05}\n"
          ]
        }
      ]
    },
    {
      "cell_type": "markdown",
      "metadata": {
        "id": "liacQ2bf9InO"
      },
      "source": [
        "#####Βέλτιστο μοντέλο"
      ]
    },
    {
      "cell_type": "markdown",
      "metadata": {
        "id": "VJmusHb4aVpD"
      },
      "source": [
        "Για τις βέλτιστες τιμές των υπεραπαραμέτρων που εντοπίστηκαν από το grid search εκπαιδεύουμε εκ νέου το train set και ελέγχουμε την επίδοση και τον χρόνο του estimator σε ολόκληρο το test set."
      ]
    },
    {
      "cell_type": "code",
      "metadata": {
        "id": "kngo_Dvg9Noh"
      },
      "source": [
        "vthreshold=[]\n",
        "n_components=[]\n",
        "vthreshold.append(list(estimator_gnb.best_params_.values())[1])\n",
        "n_components.append(list(estimator_gnb.best_params_.values())[0])"
      ],
      "execution_count": null,
      "outputs": []
    },
    {
      "cell_type": "code",
      "metadata": {
        "id": "YFUqIPHW9Tx9"
      },
      "source": [
        "gnb = GaussianNB()"
      ],
      "execution_count": null,
      "outputs": []
    },
    {
      "cell_type": "code",
      "metadata": {
        "id": "Bi0ZtZyq9Val"
      },
      "source": [
        "pipe_gnb = Pipeline(steps=[('selector', selector), ('scaler', scaler), ('sampler', ros), ('pca', pca), ('GNB', gnb)], memory = 'tmp')"
      ],
      "execution_count": null,
      "outputs": []
    },
    {
      "cell_type": "code",
      "metadata": {
        "id": "W-rBJpmD9W63"
      },
      "source": [
        "estimator_gnb = GridSearchCV(pipe_gnb, dict(selector__threshold=vthreshold, pca__n_components=n_components), cv=10, scoring='f1', n_jobs=-1)"
      ],
      "execution_count": null,
      "outputs": []
    },
    {
      "cell_type": "code",
      "metadata": {
        "colab": {
          "base_uri": "https://localhost:8080/"
        },
        "id": "VsUuUago9aZP",
        "outputId": "e9351bb6-f959-4387-f47a-81a92ff60f00"
      },
      "source": [
        "import time\n",
        "start_time = time.time()\n",
        "estimator_gnb.fit(train, train_labels)\n",
        "preds_gnb = estimator_gnb.predict(test)\n",
        "\n",
        "opt_classifiers_time['Optimized Gaussian Naive Bayes'] = (time.time() - start_time)\n",
        "print(\"Συνολικός χρόνος fit και predict: %s seconds\" % (time.time() - start_time))\n",
        "\n",
        "opt_classifiers_accuracy['Optimized Gaussian Naive Bayes'] = accuracy_score(test_labels, preds_gnb)\n",
        "opt_classifiers_f1['Optimized Gaussian Naive Bayes'] = f1_score(test_labels, preds_gnb)\n",
        "\n",
        "print(classification_report(test_labels, preds_gnb))"
      ],
      "execution_count": null,
      "outputs": [
        {
          "output_type": "stream",
          "name": "stdout",
          "text": [
            "Συνολικός χρόνος fit και predict: 0.22031140327453613 seconds\n",
            "              precision    recall  f1-score   support\n",
            "\n",
            "           0       1.00      0.42      0.59        24\n",
            "           1       0.69      1.00      0.82        31\n",
            "\n",
            "    accuracy                           0.75        55\n",
            "   macro avg       0.84      0.71      0.70        55\n",
            "weighted avg       0.82      0.75      0.72        55\n",
            "\n"
          ]
        },
        {
          "output_type": "stream",
          "name": "stderr",
          "text": [
            "/usr/local/lib/python3.7/dist-packages/sklearn/base.py:446: UserWarning: X does not have valid feature names, but VarianceThreshold was fitted with feature names\n",
            "  \"X does not have valid feature names, but\"\n"
          ]
        }
      ]
    },
    {
      "cell_type": "markdown",
      "metadata": {
        "id": "RvRLZuWt4TaN"
      },
      "source": [
        "####**Logistic Regression**"
      ]
    },
    {
      "cell_type": "markdown",
      "metadata": {
        "id": "A59yUlolaoVu"
      },
      "source": [
        "Για τον ταξινομητή Logistic Regression, θα εντοπίσουμε τις βέλτιστες τιμές για τις υπερπαραμέτρους, solver, C (παράμετρος που δείχνει το penalty strenght) και penalty, καθώς και για τις υπερπαραμέτρους των μετασχηματιστών του pipeline."
      ]
    },
    {
      "cell_type": "markdown",
      "metadata": {
        "id": "74bXjPi46_1H"
      },
      "source": [
        "#####Grid Search για Logistic Regression"
      ]
    },
    {
      "cell_type": "code",
      "metadata": {
        "id": "xv4ksp24oCqO"
      },
      "source": [
        "from sklearn.linear_model import LogisticRegression\n",
        "from sklearn import linear_model\n",
        "\n",
        "logistic_Reg = linear_model.LogisticRegression()"
      ],
      "execution_count": null,
      "outputs": []
    },
    {
      "cell_type": "code",
      "metadata": {
        "id": "3x9h0erGnrJj"
      },
      "source": [
        "vthreshold = [0, 0.000025, 0.0000005] \n",
        "n_components = [3, 5, 12]\n",
        "solvers = ['newton-cg', 'lbfgs', 'sag', 'saga']\n",
        "C = np.logspace(-4, 4, 20)\n",
        "penalty = ['none', 'l2']\n",
        "parameters = dict(selector__threshold=vthreshold,\n",
        "                  pca__n_components=n_components,\n",
        "                      logistic_Reg__C=C,\n",
        "                      logistic_Reg__solver=solvers,\n",
        "                      logistic_Reg__penalty=penalty)"
      ],
      "execution_count": null,
      "outputs": []
    },
    {
      "cell_type": "code",
      "metadata": {
        "id": "rbDz3OKpnyAT"
      },
      "source": [
        "pipe_lr = Pipeline(steps=[('selector', selector), ('scaler', scaler), ('sampler', ros), ('pca', pca), ('logistic_Reg', logistic_Reg)])"
      ],
      "execution_count": null,
      "outputs": []
    },
    {
      "cell_type": "code",
      "metadata": {
        "id": "Gx0aYnWPn2YI"
      },
      "source": [
        "estimator_lr = GridSearchCV(pipe_lr, parameters, cv=10, scoring='f1', n_jobs=-1)"
      ],
      "execution_count": null,
      "outputs": []
    },
    {
      "cell_type": "code",
      "metadata": {
        "colab": {
          "base_uri": "https://localhost:8080/"
        },
        "id": "pMJGRKOXnBty",
        "outputId": "42ec2be4-ee1d-4a59-dabd-8ac90d00ea1b"
      },
      "source": [
        "import time\n",
        "start_time = time.time()\n",
        "\n",
        "estimator_lr.fit(train, train_labels)\n",
        "preds = estimator_lr.predict(test)\n",
        "\n",
        "print(\"Συνολικός χρόνος grid search: %s seconds\" % (time.time() - start_time))\n",
        "\n",
        "print(classification_report(test_labels, preds))"
      ],
      "execution_count": null,
      "outputs": [
        {
          "output_type": "stream",
          "name": "stdout",
          "text": [
            "Συνολικός χρόνος grid search: 243.53841161727905 seconds\n",
            "              precision    recall  f1-score   support\n",
            "\n",
            "           0       1.00      0.88      0.93        24\n",
            "           1       0.91      1.00      0.95        31\n",
            "\n",
            "    accuracy                           0.95        55\n",
            "   macro avg       0.96      0.94      0.94        55\n",
            "weighted avg       0.95      0.95      0.94        55\n",
            "\n"
          ]
        },
        {
          "output_type": "stream",
          "name": "stderr",
          "text": [
            "/usr/local/lib/python3.7/dist-packages/sklearn/linear_model/_logistic.py:1484: UserWarning: Setting penalty='none' will ignore the C and l1_ratio parameters\n",
            "  \"Setting penalty='none' will ignore the C and l1_ratio parameters\"\n",
            "/usr/local/lib/python3.7/dist-packages/sklearn/base.py:446: UserWarning: X does not have valid feature names, but VarianceThreshold was fitted with feature names\n",
            "  \"X does not have valid feature names, but\"\n"
          ]
        }
      ]
    },
    {
      "cell_type": "code",
      "metadata": {
        "colab": {
          "base_uri": "https://localhost:8080/"
        },
        "id": "MwWgMvgt0gaz",
        "outputId": "0ef6b89b-4a6f-4545-eaa4-cb30aacfca73"
      },
      "source": [
        "print(estimator_lr.best_estimator_)\n",
        "print(estimator_lr.best_params_)"
      ],
      "execution_count": null,
      "outputs": [
        {
          "output_type": "stream",
          "name": "stdout",
          "text": [
            "Pipeline(steps=[('selector', VarianceThreshold(threshold=2.5e-05)),\n",
            "                ('scaler', StandardScaler()), ('sampler', RandomOverSampler()),\n",
            "                ('pca', PCA(n_components=5)),\n",
            "                ('logistic_Reg',\n",
            "                 LogisticRegression(C=0.0001, penalty='none',\n",
            "                                    solver='newton-cg'))])\n",
            "{'logistic_Reg__C': 0.0001, 'logistic_Reg__penalty': 'none', 'logistic_Reg__solver': 'newton-cg', 'pca__n_components': 5, 'selector__threshold': 2.5e-05}\n"
          ]
        }
      ]
    },
    {
      "cell_type": "markdown",
      "metadata": {
        "id": "A8HzfXyc50I0"
      },
      "source": [
        "#####Βέλτιστο μοντέλο Logistic Regression"
      ]
    },
    {
      "cell_type": "markdown",
      "metadata": {
        "id": "aEIxyHhIabpX"
      },
      "source": [
        "Για τις βέλτιστες τιμές των υπεραπαραμέτρων που εντοπίστηκαν από το grid search εκπαιδεύουμε εκ νέου το train set και ελέγχουμε την επίδοση και τον χρόνο του estimator σε ολόκληρο το test set."
      ]
    },
    {
      "cell_type": "code",
      "metadata": {
        "id": "6K3tIhGP5-em"
      },
      "source": [
        "vthreshold=[]\n",
        "n_components=[]\n",
        "C = []\n",
        "penalty = []\n",
        "solvers=[]\n",
        "C.append(list(estimator_lr.best_params_.values())[0])\n",
        "penalty.append(list(estimator_lr.best_params_.values())[1])\n",
        "solvers.append(list(estimator_lr.best_params_.values())[2])\n",
        "n_components.append(list(estimator_lr.best_params_.values())[3])\n",
        "vthreshold.append(list(estimator_lr.best_params_.values())[4])\n",
        "parameters = dict(selector__threshold=vthreshold,\n",
        "                  pca__n_components=n_components,\n",
        "                      logistic_Reg__C=C,\n",
        "                      logistic_Reg__penalty=penalty)"
      ],
      "execution_count": null,
      "outputs": []
    },
    {
      "cell_type": "code",
      "metadata": {
        "id": "qhOaBOl96NmC"
      },
      "source": [
        "pipe_lr = Pipeline(steps=[('selector', selector), ('scaler', scaler), ('sampler', ros), ('pca', pca), ('logistic_Reg', logistic_Reg)])"
      ],
      "execution_count": null,
      "outputs": []
    },
    {
      "cell_type": "code",
      "metadata": {
        "id": "b6TyxbQA6Q1T"
      },
      "source": [
        "estimator_lr = GridSearchCV(pipe_lr, parameters, cv=10, scoring='f1', n_jobs=-1)"
      ],
      "execution_count": null,
      "outputs": []
    },
    {
      "cell_type": "code",
      "metadata": {
        "colab": {
          "base_uri": "https://localhost:8080/"
        },
        "id": "xU2mbN7y6UxQ",
        "outputId": "6482830f-93c6-4e36-872e-a32d58da684b"
      },
      "source": [
        "import time\n",
        "start_time = time.time()\n",
        "\n",
        "estimator_lr.fit(train, train_labels)\n",
        "preds_lr = estimator_lr.predict(test)\n",
        "\n",
        "print(\"Συνολικός χρόνος fit και predict: %s seconds\" % (time.time() - start_time))\n",
        "\n",
        "opt_classifiers_time['Optimized Logistic Regression'] = (time.time() - start_time)\n",
        "\n",
        "opt_classifiers_accuracy['Optimized Logistic Regression'] = accuracy_score(test_labels, preds_lr)\n",
        "opt_classifiers_f1['Optimized Logistic Regression'] = f1_score(test_labels, preds_lr)\n",
        "\n",
        "print(classification_report(test_labels, preds_lr))"
      ],
      "execution_count": null,
      "outputs": [
        {
          "output_type": "stream",
          "name": "stdout",
          "text": [
            "Συνολικός χρόνος fit και predict: 0.23345637321472168 seconds\n",
            "              precision    recall  f1-score   support\n",
            "\n",
            "           0       1.00      0.96      0.98        24\n",
            "           1       0.97      1.00      0.98        31\n",
            "\n",
            "    accuracy                           0.98        55\n",
            "   macro avg       0.98      0.98      0.98        55\n",
            "weighted avg       0.98      0.98      0.98        55\n",
            "\n"
          ]
        },
        {
          "output_type": "stream",
          "name": "stderr",
          "text": [
            "/usr/local/lib/python3.7/dist-packages/sklearn/linear_model/_logistic.py:1484: UserWarning: Setting penalty='none' will ignore the C and l1_ratio parameters\n",
            "  \"Setting penalty='none' will ignore the C and l1_ratio parameters\"\n",
            "/usr/local/lib/python3.7/dist-packages/sklearn/base.py:446: UserWarning: X does not have valid feature names, but VarianceThreshold was fitted with feature names\n",
            "  \"X does not have valid feature names, but\"\n"
          ]
        }
      ]
    },
    {
      "cell_type": "markdown",
      "metadata": {
        "id": "fF39Nrofl_Ss"
      },
      "source": [
        "###Πίνακες Σύγχυσης"
      ]
    },
    {
      "cell_type": "markdown",
      "metadata": {
        "id": "z3X-R9U-gAGp"
      },
      "source": [
        "Παρακάτω δημιουργούμε τους πίνακες σύγχυσης για τον estimator με τη βέλτιστη και τη χειρότερη επίδοση, δηλαδή για τον Logistic Regression και τον Gaussian Naive Bayes αντίστοιχα."
      ]
    },
    {
      "cell_type": "markdown",
      "metadata": {
        "id": "XsBwd881pTMT"
      },
      "source": [
        "####Logistic Regression (βέλτιστη επίδοση)"
      ]
    },
    {
      "cell_type": "code",
      "metadata": {
        "id": "cdoouMG2ndct"
      },
      "source": [
        "from sklearn.metrics import confusion_matrix\n",
        "import seaborn as sns"
      ],
      "execution_count": null,
      "outputs": []
    },
    {
      "cell_type": "code",
      "metadata": {
        "id": "j4npOHZAnsNv"
      },
      "source": [
        "cnf_matrix_lr = confusion_matrix(test_labels, preds_lr)"
      ],
      "execution_count": null,
      "outputs": []
    },
    {
      "cell_type": "code",
      "metadata": {
        "colab": {
          "base_uri": "https://localhost:8080/",
          "height": 282
        },
        "id": "rQzh3DWtoMg4",
        "outputId": "11d8ef76-9786-44e3-900f-bca50680b0eb"
      },
      "source": [
        "group_names = ['True Neg','False Pos','False Neg','True Pos']\n",
        "group_counts = [\"{0:0.0f}\".format(value) for value in\n",
        "                cnf_matrix_lr.flatten()]\n",
        "group_percentages = [\"{0:.2%}\".format(value) for value in\n",
        "                     cnf_matrix_lr.flatten()/np.sum(cnf_matrix_lr)]\n",
        "labels = [f\"{v1}\\n{v2}\\n{v3}\" for v1, v2, v3 in\n",
        "          zip(group_names,group_counts,group_percentages)]\n",
        "labels = np.asarray(labels).reshape(2,2)\n",
        "sns.heatmap(cnf_matrix_lr, annot=labels, fmt='', cmap='Blues')"
      ],
      "execution_count": null,
      "outputs": [
        {
          "output_type": "execute_result",
          "data": {
            "text/plain": [
              "<matplotlib.axes._subplots.AxesSubplot at 0x7fc488e11510>"
            ]
          },
          "metadata": {},
          "execution_count": 176
        },
        {
          "output_type": "display_data",
          "data": {
            "image/png": "[encoded data removed]",
            "text/plain": [
              "<Figure size 432x288 with 2 Axes>"
            ]
          },
          "metadata": {
            "needs_background": "light"
          }
        }
      ]
    },
    {
      "cell_type": "markdown",
      "metadata": {
        "id": "-DOBMc9RgMxL"
      },
      "source": [
        "Η κλάση με ετικέτα 0 αναφέρεται στα δείγματα του dataset που δείχνουν έναν υγιή άνθρωπο και με ετικέτα 1 στα δείγματα ασθενών με ασθένεια Parkinson's. Επειδή πρόκεται για την ταξινόμηση με στόχο τη διάγωνση μίας ασθένειας, η μετρική που μας ενδιαφέρει περισσότερο η μετρική Recall για την ετικέτα 1, καθώς θέλουμε να αποφύγουμε τον χαρακτηρισμό ενός δείγματος ως \"Υγιές\", ενώ ο ασθενής πάσχει. Επομένως, θέλουμε να έχουμε όσο το δυνατόν λιγότερα False Negative δείγματα. Από τον πίνακα σύγχυσης φαίνεται πως είχαμε μηδενικά False Negative δείγματα, επομένως σε συνδυασμό με το πολύ μικρό πλήθος False Positive δειγμάτων, ο πίνακας σύγχυσης επιβεβαιώνει πως ο συγκεκριμένος estimator είναι κατάλληλος για την ταξινόμηση στο dataset."
      ]
    },
    {
      "cell_type": "markdown",
      "metadata": {
        "id": "Sobxtp1NpbM8"
      },
      "source": [
        "####Gaussian Naive Bayes (χειρότερη επίδοση)"
      ]
    },
    {
      "cell_type": "code",
      "metadata": {
        "id": "2rsrVAxcpiOQ"
      },
      "source": [
        "cnf_matrix_gnb = confusion_matrix(test_labels, preds_gnb)"
      ],
      "execution_count": null,
      "outputs": []
    },
    {
      "cell_type": "code",
      "metadata": {
        "colab": {
          "base_uri": "https://localhost:8080/",
          "height": 282
        },
        "id": "LmQft7sypnBB",
        "outputId": "caa9de80-6f6a-4fb8-f8ad-69052a9c0cf9"
      },
      "source": [
        "group_names = ['True Neg','False Pos','False Neg','True Pos']\n",
        "group_counts = [\"{0:0.0f}\".format(value) for value in\n",
        "                cnf_matrix_gnb.flatten()]\n",
        "group_percentages = [\"{0:.2%}\".format(value) for value in\n",
        "                     cnf_matrix_gnb.flatten()/np.sum(cnf_matrix_gnb)]\n",
        "labels = [f\"{v1}\\n{v2}\\n{v3}\" for v1, v2, v3 in\n",
        "          zip(group_names,group_counts,group_percentages)]\n",
        "labels = np.asarray(labels).reshape(2,2)\n",
        "sns.heatmap(cnf_matrix_gnb, annot=labels, fmt='', cmap='Blues')"
      ],
      "execution_count": null,
      "outputs": [
        {
          "output_type": "execute_result",
          "data": {
            "text/plain": [
              "<matplotlib.axes._subplots.AxesSubplot at 0x7fc476bcedd0>"
            ]
          },
          "metadata": {},
          "execution_count": 178
        },
        {
          "output_type": "display_data",
          "data": {
            "image/png": "[encoded data removed]",
            "text/plain": [
              "<Figure size 432x288 with 2 Axes>"
            ]
          },
          "metadata": {
            "needs_background": "light"
          }
        }
      ]
    },
    {
      "cell_type": "markdown",
      "metadata": {
        "id": "jTzFCVVtf9up"
      },
      "source": [
        "Και ο estimator με ταξινομητή τον Gaussian Naive Bayes έχει μηδενικά δείγματα False Negative, κάτι το οποίο είναι θετικό. Ωστόσο, ο συγκεκριμένος estimator παρουσίασε συγκριτικά με τους άλλους χαμηλό accuracy και F1, γεγονός που επιβεβαιώνεται και από τον πίνακα σύγχυσης, καθώς φαίνεται να υπάρχει σχετικά μεγάλο πλήθος False Positive δειγμάτων."
      ]
    },
    {
      "cell_type": "markdown",
      "metadata": {
        "id": "QI5RA3Jwii8k"
      },
      "source": [
        "###Αποτελέσματα της βελτιστοποίησης"
      ]
    },
    {
      "cell_type": "markdown",
      "metadata": {
        "id": "jXHFsF1gixRV"
      },
      "source": [
        "Παρακάτω φαίνεται ο αναλυτικός πίνακας των μετρικών \"Accuracy\" και \"F1\" όλων των ταξινομητών, καθώς και των χρόνων που χρειάστηκαν οι ταξινομητές για τις διαδικασίες του fit και του predict."
      ]
    },
    {
      "cell_type": "code",
      "metadata": {
        "colab": {
          "base_uri": "https://localhost:8080/"
        },
        "id": "5uHAuz4r4MX6",
        "outputId": "07271259-0c5a-484c-8294-a869d1ee067a"
      },
      "source": [
        "print(\"{:<40} {:<30} {:<30} {:<30}\".format('Classifier', 'Accuracy', 'F1', 'Time'))\n",
        "label=[]\n",
        "label2=[]\n",
        "label3=[]\n",
        "time=[]\n",
        "num_ac=[]\n",
        "num_f1=[]\n",
        "columns=len(classifiers_accuracy)+len(opt_classifiers_accuracy)\n",
        "for i in range (columns):\n",
        "  for k, v in classifiers_accuracy.items():\n",
        "      label.append(k)\n",
        "      num_ac.append(v)\n",
        "  for k, v in opt_classifiers_accuracy.items():\n",
        "      label.append(k)\n",
        "      num_ac.append(v)\n",
        "  for m, l in classifiers_f1.items():\n",
        "      label2.append(m)\n",
        "      num_f1.append(l) \n",
        "  for m, l in opt_classifiers_f1.items():\n",
        "      label2.append(m)\n",
        "      num_f1.append(l)\n",
        "  for t,r in classifiers_time.items():\n",
        "      label3.append(t)\n",
        "      time.append(r)\n",
        "  for t,r in opt_classifiers_time.items():\n",
        "      label3.append(t)\n",
        "      time.append(r)\n",
        "  print(\"{:<40} {:<30} {:<30} {:<30}\".format(label[i], num_ac[i], num_f1[i], time[i]))"
      ],
      "execution_count": null,
      "outputs": [
        {
          "output_type": "stream",
          "name": "stdout",
          "text": [
            "Classifier                               Accuracy                       F1                             Time                          \n",
            "Uniform (random)                         0.5636363636363636             0.5862068965517241             0.0007486343383789062         \n",
            "Constant 0                               0.43636363636363634            0.0                            0.0007612705230712891         \n",
            "Constant 1                               0.5636363636363636             0.7209302325581396             0.0005514621734619141         \n",
            "Most Frequent                            0.5636363636363636             0.7209302325581396             0.0005919933319091797         \n",
            "Stratified                               0.509090909090909              0.6582278481012658             0.001013040542602539          \n",
            "Gaussian Naive Bayes                     1.0                            1.0                            0.008821964263916016          \n",
            "KNN with neighbours=3                    0.6181818181818182             0.7272727272727272             0.013222694396972656          \n",
            "KNN with neighbours=5                    0.6181818181818182             0.7341772151898733             0.012847185134887695          \n",
            "KNN with neighbours=9                    0.6363636363636364             0.7560975609756097             0.013546466827392578          \n",
            "KNN with neighbours=13                   0.6181818181818182             0.7407407407407407             0.015419483184814453          \n",
            "Logistic Regression                      0.6181818181818182             0.7469879518072289             0.04231095314025879           \n",
            "Optimized KNN                            0.8727272727272727             0.898550724637681              0.8087694644927979            \n",
            "Optimized Gaussian Naive Bayes           0.7454545454545455             0.8157894736842105             0.22026872634887695           \n",
            "Optimized Logistic Regression            0.9818181818181818             0.9841269841269841             0.23364758491516113           \n"
          ]
        }
      ]
    },
    {
      "cell_type": "markdown",
      "metadata": {
        "id": "2mhNuHJEiEE4"
      },
      "source": [
        "Παρατηρούμε ότι οι out of the box ταξινομητές χρειάζονται χρόνο πολλαπλάσια μικρότερο από τους optimized ταξινομητές. Ωστόσο, οι optimized ταξινομητές έχουν σημαντικά βελτιωμένη επίδοση σε σχέση με τους out of the box."
      ]
    },
    {
      "cell_type": "markdown",
      "metadata": {
        "id": "UEjrPMoKlfSD"
      },
      "source": [
        "Παρακάτω φαίνεται το συγκριτικό bar plot για τα αποτελέσματα του Accuracy των out of the box ταξινομητών σε σχέση με τους ταξινομητές με τις βέλτιστες υπερπαραμέτρους."
      ]
    },
    {
      "cell_type": "code",
      "metadata": {
        "id": "GPHQQpfDYC9N",
        "colab": {
          "base_uri": "https://localhost:8080/",
          "height": 369
        },
        "outputId": "3f177b09-89f2-4477-fe28-dffb4403e1aa"
      },
      "source": [
        "import matplotlib.pyplot as plt\n",
        "\n",
        "classifiers_all = list((classifiers_accuracy.keys()))\n",
        "\n",
        "classifiers=[]\n",
        "classifiers.append(classifiers_all[5])\n",
        "classifiers.append(classifiers_all[6])\n",
        "classifiers.append(classifiers_all[10])\n",
        "\n",
        "opt_classifiers = list((opt_classifiers_accuracy.keys()))\n",
        "plot_labels=classifiers\n",
        "\n",
        "all_accuracy_values = list(classifiers_accuracy.values())\n",
        "accuracy_values=[]\n",
        "accuracy_values.append(all_accuracy_values[5])\n",
        "accuracy_values.append(all_accuracy_values[6])\n",
        "accuracy_values.append(all_accuracy_values[10])\n",
        "\n",
        "opt_accuracy_values=list(opt_classifiers_accuracy.values())\n",
        "\n",
        "x = np.arange (len(plot_labels))  # the label locations\n",
        "width = 0.15  # the width of the bars\n",
        "\n",
        "fig, ax = plt.subplots(figsize=(10,5))\n",
        "rects1 = ax.bar(x - width/2, accuracy_values, width, color = (0.5,0.1,0.5,0.6), label='Out of the box Accuracy')\n",
        "rects2 = ax.bar(x + width/2, opt_accuracy_values, width, color='gray', label='Optimized Accuracy')\n",
        "\n",
        "# Add some text for labels, title and custom x-axis tick labels, etc.\n",
        "ax.set_ylabel('Accuracy Scores')\n",
        "ax.set_title('Accuracy by classifier')\n",
        "ax.set_xticks(x)\n",
        "ax.set_xticklabels(plot_labels, rotation=50, ha='right')\n",
        "ax.legend()\n",
        "\n",
        "\n",
        "fig.tight_layout()\n",
        "\n",
        "plt.show()"
      ],
      "execution_count": null,
      "outputs": [
        {
          "output_type": "display_data",
          "data": {
            "image/png": "[encoded data removed]",
            "text/plain": [
              "<Figure size 720x360 with 1 Axes>"
            ]
          },
          "metadata": {
            "needs_background": "light"
          }
        }
      ]
    },
    {
      "cell_type": "markdown",
      "metadata": {
        "id": "vvRT2Axyl0wO"
      },
      "source": [
        "Παρακάτω φαίνεται το συγκριτικό bar plot για τα αποτελέσματα της μετρικής F1 των out of the box ταξινομητών σε σχέση με τους ταξινομητές με τις βέλτιστες υπερπαραμέτρους."
      ]
    },
    {
      "cell_type": "code",
      "metadata": {
        "colab": {
          "base_uri": "https://localhost:8080/",
          "height": 369
        },
        "id": "bW1AKiLNa8am",
        "outputId": "2e4ba717-a317-42a8-b227-0755db6afd16"
      },
      "source": [
        "import matplotlib.pyplot as plt\n",
        "\n",
        "classifiers_all = list((classifiers_f1.keys()))\n",
        "\n",
        "classifiers=[]\n",
        "classifiers.append(classifiers_all[5])\n",
        "classifiers.append(classifiers_all[6])\n",
        "classifiers.append(classifiers_all[10])\n",
        "\n",
        "opt_classifiers = list((opt_classifiers_f1.keys()))\n",
        "plot_labels=classifiers\n",
        "\n",
        "all_f1_values = list(classifiers_f1.values())\n",
        "f1_values=[]\n",
        "f1_values.append(all_f1_values[5])\n",
        "f1_values.append(all_f1_values[6])\n",
        "f1_values.append(all_f1_values[10])\n",
        "\n",
        "opt_f1_values=list(opt_classifiers_f1.values())\n",
        "\n",
        "x = np.arange (len(plot_labels))  # the label locations\n",
        "width = 0.15  # the width of the bars\n",
        "\n",
        "fig, ax = plt.subplots(figsize=(10,5))\n",
        "rects1 = ax.bar(x - width/2, f1_values, width, color = (0.5,0.1,0.5,0.6), label='Out of the box F1')\n",
        "rects2 = ax.bar(x + width/2, opt_f1_values, width, color='gray', label='Optimized F1')\n",
        "\n",
        "# Add some text for labels, title and custom x-axis tick labels, etc.\n",
        "ax.set_ylabel('F1 Scores')\n",
        "ax.set_title('F1 by classifier')\n",
        "ax.set_xticks(x)\n",
        "ax.set_xticklabels(plot_labels, rotation=50, ha='right')\n",
        "ax.legend()\n",
        "\n",
        "\n",
        "fig.tight_layout()\n",
        "\n",
        "plt.show()"
      ],
      "execution_count": null,
      "outputs": [
        {
          "output_type": "display_data",
          "data": {
            "image/png": "[encoded data removed]",
            "text/plain": [
              "<Figure size 720x360 with 1 Axes>"
            ]
          },
          "metadata": {
            "needs_background": "light"
          }
        }
      ]
    },
    {
      "cell_type": "markdown",
      "metadata": {
        "id": "i4zSWjLQkld6"
      },
      "source": [
        "###Σχολιασμός αποτελεσμάτων:"
      ]
    },
    {
      "cell_type": "markdown",
      "metadata": {
        "id": "fX6OynUekpX6"
      },
      "source": [
        "Παρατηρούμε ότι τη βέλτιστη επίδοση (με βάση τις μετρικές Accuracy και F1) είχε ο ταξινομητής Logistic Regression μετά από την προεπεξεργασία των δεδομένων και τη βελτιστοποίηση των υπερπαραμέτρων, ενώ από τους βελτιστοποιημένους ταξινομητές, τη χαμηλότερη επίδοση είχε ο Gaussian Naive Bayes. Ωστόσο είναι σημαντικό να αναφερθεί πως και οι τρεις optimized ταξινομητές φάνηκε να είχαν υψηλό recall της ετικέτας 1, το οποίο είναι πολύ σημαντικό για ταξινόμηση που αφορά ιατρικές εφαρμογές.\n",
        "Επιπλέον, από άποψη πολυπλοκότητας, ο βελτιστοποιημένος ταξινομητής kNN φάνηκε χρονικά να έχει τη μεγαλύτερη καθυστέρηση. \n",
        "Επομένως, ο καλύτερος ταξινομητής για το συγκεκριμένο πρόβλημα, φάνηκε να είναι ο Logistic Regression με τη βελτιωμένη αρχιτεκτονική, καθώς είχε τη βέλτιστη επίδοση (βλ. παραπάνω και σχολιασμό του αντίστοιχου πίνακα σύγχυσης) και σχετικά μικρή χρονική καθυστέρηση."
      ]
    }
  ]
}